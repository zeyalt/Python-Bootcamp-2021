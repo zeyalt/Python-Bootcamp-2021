{
 "cells": [
  {
   "cell_type": "markdown",
   "metadata": {},
   "source": [
    "# Python Bootcamp: Advent of Code (Day X)"
   ]
  },
  {
   "cell_type": "markdown",
   "metadata": {},
   "source": [
    "## 1. Puzzle 1"
   ]
  },
  {
   "cell_type": "markdown",
   "metadata": {},
   "source": [
    "### 1.1 My Solution"
   ]
  },
  {
   "cell_type": "code",
   "execution_count": 1,
   "metadata": {},
   "outputs": [],
   "source": [
    "import numpy as np"
   ]
  },
  {
   "cell_type": "code",
   "execution_count": 2,
   "metadata": {},
   "outputs": [],
   "source": [
    "def get_part1_answer(data):\n",
    "\n",
    "    # Select only line segments which are horizontal or vertical\n",
    "    x1_list = []\n",
    "    x2_list = []\n",
    "    y1_list = []\n",
    "    y2_list = []\n",
    "\n",
    "    for ele in data:\n",
    "        x1 = ele.split(' -> ')[0].split(',')[0] \n",
    "        y1 = ele.split(' -> ')[0].split(',')[1] \n",
    "        x2 = ele.split(' -> ')[1].split(',')[0] \n",
    "        y2 = ele.split(' -> ')[1].split(',')[1]\n",
    "\n",
    "        if (x1 == x2) or (y1 == y2):\n",
    "            x1_list.append(int(x1))\n",
    "            x2_list.append(int(x2))\n",
    "            y1_list.append(int(y1))\n",
    "            y2_list.append(int(y2))\n",
    "\n",
    "        else:\n",
    "            pass\n",
    "\n",
    "    # Find the maximum for x and y coordinates\n",
    "    x_max = max([max(x1_list), max(x2_list)])\n",
    "    y_max = max([max(y1_list), max(y2_list)])\n",
    "\n",
    "    # Initialise an empty matrix\n",
    "    matrix = np.zeros(shape=(x_max+1, y_max+1))\n",
    "\n",
    "    # Fill the matrix\n",
    "    for idx in range(len(x1_list)):\n",
    "        x1 = x1_list[idx]\n",
    "        x2 = x2_list[idx]\n",
    "        y1 = y1_list[idx]\n",
    "        y2 = y2_list[idx]\n",
    "\n",
    "        if (y1 == y2) & (x1 < x2):\n",
    "            matrix[y1, x1:x2+1] += 1\n",
    "\n",
    "        elif (y1 == y2) & (x1 > x2):\n",
    "            matrix[y1, x2:x1+1] += 1\n",
    "\n",
    "        elif (x1 == x2) & (y1 < y2):\n",
    "            matrix[y1:y2+1, x1] += 1\n",
    "\n",
    "        elif (x1 == x2) & (y1 > y2):\n",
    "            matrix[y2:y1+1, x1] += 1\n",
    "\n",
    "    # Return the number of cells with at least 2 overlapping points\n",
    "    return np.count_nonzero(matrix >= 2)"
   ]
  },
  {
   "cell_type": "code",
   "execution_count": 3,
   "metadata": {},
   "outputs": [
    {
     "name": "stdout",
     "output_type": "stream",
     "text": [
      "Number of points where at least 2 points overlap: 5\n"
     ]
    }
   ],
   "source": [
    "example_lines = [\n",
    "    '0,9 -> 5,9\\n',\n",
    "    '8,0 -> 0,8\\n',\n",
    "    '9,4 -> 3,4\\n',\n",
    "    '2,2 -> 2,1\\n',\n",
    "    '7,0 -> 7,4\\n',\n",
    "    '6,4 -> 2,0\\n',\n",
    "    '0,9 -> 2,9\\n',\n",
    "    '3,4 -> 1,4\\n',\n",
    "    '0,0 -> 8,8\\n',\n",
    "    '5,5 -> 8,2\\n'\n",
    "]\n",
    "\n",
    "example_data = [ele.rstrip('\\n') for ele in example_lines]\n",
    "example_answer = get_part1_answer(example_data)\n",
    "print(f\"Number of points where at least 2 points overlap: {example_answer}\")"
   ]
  },
  {
   "cell_type": "code",
   "execution_count": 4,
   "metadata": {},
   "outputs": [
    {
     "name": "stdout",
     "output_type": "stream",
     "text": [
      "Number of points where at least 2 points overlap: 7436\n"
     ]
    }
   ],
   "source": [
    "# Read input file\n",
    "with open('data/input.txt') as f:\n",
    "    lines = f.readlines()\n",
    "\n",
    "data = [ele.rstrip('\\n') for ele in lines]\n",
    "answer = get_part1_answer(data)\n",
    "print(f\"Number of points where at least 2 points overlap: {answer}\")"
   ]
  },
  {
   "cell_type": "markdown",
   "metadata": {},
   "source": [
    "## 2. Puzzle 2"
   ]
  },
  {
   "cell_type": "markdown",
   "metadata": {},
   "source": [
    "### 2.1 My Solution"
   ]
  },
  {
   "cell_type": "code",
   "execution_count": 5,
   "metadata": {},
   "outputs": [],
   "source": [
    "def get_diagonal_points(x1, x2, y1, y2):\n",
    "    \n",
    "    if (x1 < x2) & (y1 < y2):\n",
    "        return list(zip(list(range(x1, x2+1)), list(range(y1, y2+1))))\n",
    "        \n",
    "    elif (x1 < x2) & (y1 > y2):\n",
    "        return list(zip(list(range(x1, x2+1)), list(range(y1, y2-1, -1))))\n",
    "        \n",
    "    elif (x1 > x2) & (y1 < y2):\n",
    "        return list(zip(list(range(x1, x2-1, -1)), list(range(y1, y2+1))))\n",
    "        \n",
    "    elif (x1 > x2) & (y1 > y2):\n",
    "        return list(zip(list(range(x1, x2-1, -1)), list(range(y1, y2-1, -1))))"
   ]
  },
  {
   "cell_type": "code",
   "execution_count": 6,
   "metadata": {
    "scrolled": true
   },
   "outputs": [
    {
     "name": "stdout",
     "output_type": "stream",
     "text": [
      "Number of points where at least 2 points overlap: 12\n"
     ]
    }
   ],
   "source": [
    "def get_part2_answer(data):\n",
    "\n",
    "    # Select only line segments which are horizontal or vertical\n",
    "    x1_list = []\n",
    "    x2_list = []\n",
    "    y1_list = []\n",
    "    y2_list = []\n",
    "\n",
    "    for ele in data:\n",
    "        x1 = ele.split(' -> ')[0].split(',')[0] \n",
    "        y1 = ele.split(' -> ')[0].split(',')[1] \n",
    "        x2 = ele.split(' -> ')[1].split(',')[0] \n",
    "        y2 = ele.split(' -> ')[1].split(',')[1]\n",
    "\n",
    "        x1_list.append(int(x1))\n",
    "        x2_list.append(int(x2))\n",
    "        y1_list.append(int(y1))\n",
    "        y2_list.append(int(y2))\n",
    "\n",
    "\n",
    "    # Find the maximum for x and y coordinates\n",
    "    x_max = max([max(x1_list), max(x2_list)])\n",
    "    y_max = max([max(y1_list), max(y2_list)])\n",
    "\n",
    "    # Initialise an empty matrix\n",
    "    matrix = np.zeros(shape=(x_max+1, y_max+1))\n",
    "\n",
    "    # Fill the matrix\n",
    "    for idx in range(len(x1_list)):\n",
    "        x1 = x1_list[idx]\n",
    "        x2 = x2_list[idx]\n",
    "        y1 = y1_list[idx]\n",
    "        y2 = y2_list[idx]\n",
    "        \n",
    "        if (y1 == y2) & (x1 < x2):\n",
    "            matrix[y1, x1:x2+1] += 1\n",
    "\n",
    "        elif (y1 == y2) & (x1 > x2):\n",
    "            matrix[y1, x2:x1+1] += 1\n",
    "\n",
    "        elif (x1 == x2) & (y1 < y2):\n",
    "            matrix[y1:y2+1, x1] += 1\n",
    "\n",
    "        elif (x1 == x2) & (y1 > y2):\n",
    "            matrix[y2:y1+1, x1] += 1\n",
    "        \n",
    "        else:\n",
    "            diagonal_points = get_diagonal_points(x1, x2, y1, y2)\n",
    "            for x, y in diagonal_points:\n",
    "                matrix[y, x] += 1\n",
    "        \n",
    "    # Return the number of cells with at least 2 overlapping points\n",
    "    return np.count_nonzero(matrix >= 2)\n",
    "\n",
    "example_lines = [\n",
    "    '0,9 -> 5,9\\n',\n",
    "    '8,0 -> 0,8\\n',\n",
    "    '9,4 -> 3,4\\n',\n",
    "    '2,2 -> 2,1\\n',\n",
    "    '7,0 -> 7,4\\n',\n",
    "    '6,4 -> 2,0\\n',\n",
    "    '0,9 -> 2,9\\n',\n",
    "    '3,4 -> 1,4\\n',\n",
    "    '0,0 -> 8,8\\n',\n",
    "    '5,5 -> 8,2\\n'\n",
    "]\n",
    "\n",
    "example_data = [ele.rstrip('\\n') for ele in example_lines]\n",
    "example_answer = get_part2_answer(example_data)\n",
    "print(f\"Number of points where at least 2 points overlap: {example_answer}\")"
   ]
  },
  {
   "cell_type": "code",
   "execution_count": 7,
   "metadata": {},
   "outputs": [
    {
     "name": "stdout",
     "output_type": "stream",
     "text": [
      "Number of points where at least 2 points overlap: 21104\n"
     ]
    }
   ],
   "source": [
    "# Read input file\n",
    "with open('data/input.txt') as f:\n",
    "    lines = f.readlines()\n",
    "\n",
    "data = [ele.rstrip('\\n') for ele in lines]\n",
    "answer = get_part2_answer(data)\n",
    "print(f\"Number of points where at least 2 points overlap: {answer}\")"
   ]
  }
 ],
 "metadata": {
  "interpreter": {
   "hash": "c9008ba995d2c46f7a8a8b57a00346eea774fcdf0db2b71700344559b6c212be"
  },
  "kernelspec": {
   "display_name": "Python 3",
   "language": "python",
   "name": "python3"
  },
  "language_info": {
   "codemirror_mode": {
    "name": "ipython",
    "version": 3
   },
   "file_extension": ".py",
   "mimetype": "text/x-python",
   "name": "python",
   "nbconvert_exporter": "python",
   "pygments_lexer": "ipython3",
   "version": "3.8.8"
  }
 },
 "nbformat": 4,
 "nbformat_minor": 2
}
