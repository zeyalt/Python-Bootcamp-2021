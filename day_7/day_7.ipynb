{
 "cells": [
  {
   "cell_type": "markdown",
   "metadata": {},
   "source": [
    "# Python Bootcamp: Advent of Code (Day 7)"
   ]
  },
  {
   "cell_type": "markdown",
   "metadata": {},
   "source": [
    "## 1. Puzzle 1"
   ]
  },
  {
   "cell_type": "markdown",
   "metadata": {},
   "source": [
    "### 1.1 My Solution"
   ]
  },
  {
   "cell_type": "code",
   "execution_count": 1,
   "metadata": {},
   "outputs": [
    {
     "name": "stdout",
     "output_type": "stream",
     "text": [
      "Pretty printing has been turned OFF\n"
     ]
    }
   ],
   "source": [
    "%pprint"
   ]
  },
  {
   "cell_type": "code",
   "execution_count": 2,
   "metadata": {},
   "outputs": [
    {
     "name": "stdout",
     "output_type": "stream",
     "text": [
      "Least amount of fuel required: 355989\n"
     ]
    }
   ],
   "source": [
    "def calculate_total_fuel(crab_positions, position_index):\n",
    "    fuel = 0\n",
    "    for crab in crab_positions:\n",
    "        fuel += abs(crab - position_index)\n",
    "\n",
    "    return fuel\n",
    "\n",
    "def get_minimum_fuel(crab_positions):\n",
    "    \n",
    "    import numpy as np\n",
    "    return np.min([\n",
    "        calculate_total_fuel(crab_positions, idx) \n",
    "        for idx in range(len(crab_positions)+1)\n",
    "    ])\n",
    "\n",
    "if __name__ == \"__main__\":\n",
    "    \n",
    "    # Example data\n",
    "    example_data = [16, 1, 2, 0, 4, 2, 7, 1, 2, 14]\n",
    "    \n",
    "    assert calculate_total_fuel(example_data, 1) == 41\n",
    "    assert calculate_total_fuel(example_data, 2) == 37    \n",
    "    assert calculate_total_fuel(example_data, 3) == 39    \n",
    "    assert calculate_total_fuel(example_data, 10) == 71        \n",
    "    assert get_minimum_fuel(example_data) == 37        \n",
    "\n",
    "    # Read input file\n",
    "    with open('data/input.txt') as f:\n",
    "        crab_positions = list(map(int, f.readlines()[0].split(',')))\n",
    "        \n",
    "    least_fuel_required = get_minimum_fuel(crab_positions)\n",
    "    print(f\"Least amount of fuel required: {least_fuel_required}\")"
   ]
  },
  {
   "cell_type": "markdown",
   "metadata": {},
   "source": [
    "## 2. Puzzle 2"
   ]
  },
  {
   "cell_type": "markdown",
   "metadata": {},
   "source": [
    "### 2.1 My Solution"
   ]
  },
  {
   "cell_type": "code",
   "execution_count": 3,
   "metadata": {},
   "outputs": [
    {
     "name": "stdout",
     "output_type": "stream",
     "text": [
      "Least amount of fuel required: 102245489\n"
     ]
    }
   ],
   "source": [
    "def calculate_each_fuel(start, end):\n",
    "    \"\"\"By Arithmetic series\"\"\"\n",
    "    n = abs(start - end)\n",
    "    return int(0.5 * n * (n + 1))\n",
    "\n",
    "def calculate_total_fuel(crab_positions, position_index):\n",
    "    \n",
    "    fuel = 0\n",
    "    for crab in crab_positions:\n",
    "        diff = calculate_each_fuel(crab, position_index)\n",
    "        fuel += diff\n",
    "\n",
    "    return fuel\n",
    "\n",
    "def get_minimum_fuel(crab_positions):\n",
    "    \n",
    "    import numpy as np\n",
    "    return np.min([\n",
    "        calculate_total_fuel(crab_positions, idx) \n",
    "        for idx in range(len(crab_positions)+1)\n",
    "    ])\n",
    "\n",
    "if __name__ == \"__main__\":\n",
    "    \n",
    "    # Example data\n",
    "    example_data = [16, 1, 2, 0, 4, 2, 7, 1, 2, 14]\n",
    "    \n",
    "    assert calculate_total_fuel(example_data, 2) == 206    \n",
    "    assert calculate_total_fuel(example_data, 5) == 168    \n",
    "\n",
    "    # Read input file\n",
    "    with open('data/input.txt') as f:\n",
    "        crab_positions = list(map(int, f.readlines()[0].split(',')))\n",
    "        \n",
    "    least_fuel_required = get_minimum_fuel(crab_positions)\n",
    "    print(f\"Least amount of fuel required: {least_fuel_required}\")"
   ]
  }
 ],
 "metadata": {
  "interpreter": {
   "hash": "c9008ba995d2c46f7a8a8b57a00346eea774fcdf0db2b71700344559b6c212be"
  },
  "kernelspec": {
   "display_name": "Python 3",
   "language": "python",
   "name": "python3"
  },
  "language_info": {
   "codemirror_mode": {
    "name": "ipython",
    "version": 3
   },
   "file_extension": ".py",
   "mimetype": "text/x-python",
   "name": "python",
   "nbconvert_exporter": "python",
   "pygments_lexer": "ipython3",
   "version": "3.8.8"
  }
 },
 "nbformat": 4,
 "nbformat_minor": 2
}
