{
 "cells": [
  {
   "cell_type": "markdown",
   "id": "brazilian-beauty",
   "metadata": {},
   "source": [
    "# Sonar Sweep\n",
    "\n",
    "The analysis that follows pertains to the first day of the [Python Problem-Solving Bootcamp](https://mathspp.com/pythonbootcamp).\n",
    "Follow [this link](https://mathspp.com/pythonbootcamp) if you'd like to participate in the bootcamp:\n",
    "\n",
    " - to be a part of a community of highly-motivated individuals solving Advent of Code together; and\n",
    " - to receive notebooks like these with the analysis of the problems tackled.\n",
    "\n",
    "In the analysis that follows you may be confronted with code that you do not understand, especially as you reach the end of the explanation of each part.\n",
    "\n",
    "If you find functions that you didn't know before, remember to [check the docs](https://docs.python.org/3/) for those functions and play around with them in the REPL.\n",
    "This is written to be increasing in difficulty (within each part of the problem), so it is understandable if it gets harder as you keep reading.\n",
    "That's perfectly fine, you don't have to understand everything _right now_, especially because I can't know for sure what _your level_ is.\n",
    "\n",
    "\n",
    "## Part 1 problem statement\n",
    "\n",
    "You are given a report of depth measurements, like\n",
    "\n",
    "```txt\n",
    "199\n",
    "200\n",
    "208\n",
    "210\n",
    "200\n",
    "207\n",
    "240\n",
    "269\n",
    "260\n",
    "263\n",
    "```\n",
    "\n",
    "The first order of business is to figure out how quickly the depth increases.\n",
    "\n",
    "To do this, count **the number of times a depth measurement increases** from the previous measurement. (There is no measurement before the first measurement.)\n",
    "\n",
    "In the example above, the changes are as follows:\n",
    "\n",
    "```txt\n",
    "199 (N/A - no previous measurement)\n",
    "200 (increased)\n",
    "208 (increased)\n",
    "210 (increased)\n",
    "200 (decreased)\n",
    "207 (increased)\n",
    "240 (increased)\n",
    "269 (increased)\n",
    "260 (decreased)\n",
    "263 (increased)\n",
    "```\n",
    "\n",
    "In this example, there are 7 measurements that are larger than the previous measurement.\n",
    "\n",
    "How many measurements are larger than the previous measurement in the input file `inputs/01_sonar_sweep.txt`?\n",
    "\n",
    "_You should arrive at the answer 1292._"
   ]
  },
  {
   "cell_type": "code",
   "execution_count": 94,
   "id": "22e7e0c8",
   "metadata": {},
   "outputs": [],
   "source": [
    "# IMPORTANT: Set this to the correct path for you!\n",
    "INPUT_FILE = \"inputs/01_sonar_sweep.txt\""
   ]
  },
  {
   "cell_type": "markdown",
   "id": "610d5b79",
   "metadata": {},
   "source": [
    "## Solutions\n",
    "\n",
    "### Baseline solution\n",
    "\n",
    "The problem statement asks us to traverse the depth reports and to compare the current measurement with the previous one.\n",
    "\n",
    "The underlying idea is that, when talking about a sequence (for example, a _list_ of measurements), a relationship of “previous” translates into subtracting 1 to the index at hands.\n",
    "Similarly, a relationship of “next” translates into adding 1 to the index.\n",
    "\n",
    "The only thing we need to be careful about is ensuring we stay within the boundaries of the sequence, so that doing `+1` or `-1` in an index still gives a valid index.\n",
    "\n",
    "This translates directly into this solution:"
   ]
  },
  {
   "cell_type": "code",
   "execution_count": 17,
   "id": "dfa41401",
   "metadata": {},
   "outputs": [],
   "source": [
    "with open(INPUT_FILE, \"r\") as f:\n",
    "    depths = f.readlines()\n",
    "\n",
    "    count = 0\n",
    "    for i in range(1, len(depths)):\n",
    "        if int(depths[i - 1]) < int(depths[i]):    # Compare previous with the current\n",
    "            count += 1\n",
    "            \n",
    "    assert count == 1292    # If this doesn't throw an error, we're good."
   ]
  },
  {
   "cell_type": "markdown",
   "id": "7a30e949",
   "metadata": {},
   "source": [
    "If we stick to the “compare with the previous” interpretation, then the indices that matter are `i - 1` (the previous item) and `i` (the current item); and, therefore, `i` must start at `1`.\n",
    "This means we use `range(1, len(depths))`.\n",
    "\n",
    "If we go with the “compare with the next” interpretation, then the indices that matter are `i` (the current item) and `i + 1` (the next item).\n",
    "For that, our range needs to end earlier than `len(depths)`:"
   ]
  },
  {
   "cell_type": "code",
   "execution_count": 16,
   "id": "7e03b60d",
   "metadata": {},
   "outputs": [],
   "source": [
    "with open(INPUT_FILE, \"r\") as f:\n",
    "    depths = f.readlines()\n",
    "\n",
    "    count = 0\n",
    "    for i in range(len(depths) - 1):\n",
    "        if int(depths[i]) < int(depths[i + 1]):    # Compare current with “the next”\n",
    "            count += 1\n",
    "            \n",
    "    assert count == 1292    # If this doesn't throw an error, we're good."
   ]
  },
  {
   "cell_type": "markdown",
   "id": "2d0dd92a",
   "metadata": {},
   "source": [
    "### Free resources ASAP\n",
    "\n",
    "When using a `with` statement to access a file, you know that your file is automatically closed when you leave the `with` statement.\n",
    "You also know that the `with` statement is nice because it will still close the file if, for example, your code throws an error.\n",
    "That's very convenient, and a lovely reason to use the `with` statement.\n",
    "\n",
    "However, while you are inside the `with` statement, the file is opened and being used by the operating system.\n",
    "In Python, it is a good practice to avoid nesting unnecessary things.\n",
    "In particular, put as little code inside the `with` statement as possible.\n",
    "\n",
    "In our case, because we use `.readlines` to read the whole file, we can leave the `with` statement immediately:"
   ]
  },
  {
   "cell_type": "code",
   "execution_count": 19,
   "id": "244e0d9e",
   "metadata": {},
   "outputs": [],
   "source": [
    "with open(INPUT_FILE, \"r\") as f:\n",
    "    depths = f.readlines()\n",
    "\n",
    "count = 0\n",
    "for i in range(len(depths) - 1):\n",
    "    if int(depths[i]) < int(depths[i + 1]):\n",
    "        count += 1\n",
    "\n",
    "assert count == 1292"
   ]
  },
  {
   "cell_type": "markdown",
   "id": "7c74a55e",
   "metadata": {},
   "source": [
    "Trying to keep the indentation level as low as possible (trying to keep your code flat, instead of nested) is something that is advocated for in the [“Zen of Python”](mathspp.com/blog/pydonts/pydont-disrespect-the-zen-of-python).\n",
    "You can watch a clip of a talk of mine where I talk about this, and explain it, [here](https://youtu.be/s6dJab2qwkg?t=1031) (it's at minute 17:11 of the linked video)."
   ]
  },
  {
   "cell_type": "markdown",
   "id": "c40675f3",
   "metadata": {},
   "source": [
    "### The range of the length\n",
    "\n",
    "Another frequent anti-pattern in Python is the excerpt `for i in range(len(...))`.\n",
    "_Most of the times_, that `for` loop isn't what you really wanted to use.\n",
    "Python has very powerful `for` loops, and the `for i in range(len(...))` is a pattern that we inherited from languages like C.\n",
    "In Python, we tend to use built-ins like [`enumerate`](https://mathspp.com/blog/pydonts/enumerate-me) and [`zip`](https://mathspp.com/blog/pydonts/zip-up).\n",
    "\n",
    "Another hint at the fact that the loop we care about is not the `range(len(...))`, is that we don't really care about the indices.\n",
    "Notice how `range(len(something))` gives you all the legal indices associated with `something`, but what we really care about are the elements.\n",
    "\n",
    "A slight improvement would be to recognise the `enumerate` pattern:\n",
    "`enumerate` is a good built-in to use if, in a `for` loop, you care about the current element _and_ about the current index you are using.\n",
    "In our case, we care about the current index so that we can compute the index of the neighbouring element.\n",
    "So, we could try writing something like this:"
   ]
  },
  {
   "cell_type": "code",
   "execution_count": 8,
   "id": "0714145b",
   "metadata": {},
   "outputs": [],
   "source": [
    "with open(INPUT_FILE, \"r\") as f:\n",
    "    depths = f.readlines()\n",
    "\n",
    "count = 0\n",
    "for i, num in enumerate(depths[:-1]):\n",
    "    if int(num) < int(depths[i + 1]):\n",
    "        count += 1\n",
    "\n",
    "assert count == 1292"
   ]
  },
  {
   "cell_type": "markdown",
   "id": "5bada72c",
   "metadata": {},
   "source": [
    "In order to make this work, we are using a slice to ignore the last element from `depths`.\n",
    "After all, the slice `[:-n]` means [“drop the last `n` elements”](https://mathspp.com/blog/pydonts/idiomatic-sequence-slicing#s-n-3).\n",
    "\n",
    "Another interesting thought would be to try and simplify the `i + 1` part.\n",
    "The built-in `enumerate` accepts a `start` argument that specifies where the argument starts counting:"
   ]
  },
  {
   "cell_type": "code",
   "execution_count": 4,
   "id": "68e2b418",
   "metadata": {},
   "outputs": [
    {
     "data": {
      "text/plain": [
       "[(0, 'c'), (1, 'o'), (2, 'd'), (3, 'e')]"
      ]
     },
     "execution_count": 4,
     "metadata": {},
     "output_type": "execute_result"
    }
   ],
   "source": [
    "list(enumerate(\"code\"))"
   ]
  },
  {
   "cell_type": "code",
   "execution_count": 5,
   "id": "84eb1a6f",
   "metadata": {},
   "outputs": [
    {
     "data": {
      "text/plain": [
       "[(10, 'c'), (11, 'o'), (12, 'd'), (13, 'e')]"
      ]
     },
     "execution_count": 5,
     "metadata": {},
     "output_type": "execute_result"
    }
   ],
   "source": [
    "list(enumerate(\"code\", start=10))"
   ]
  },
  {
   "cell_type": "markdown",
   "id": "8116f975",
   "metadata": {},
   "source": [
    "Therefore, one might think that we could set `start=1` to avoid having to perform the sum.\n",
    "If we do so, then we must be very explicit about what index we are using:"
   ]
  },
  {
   "cell_type": "code",
   "execution_count": 9,
   "id": "6cd21d93",
   "metadata": {},
   "outputs": [],
   "source": [
    "with open(INPUT_FILE, \"r\") as f:\n",
    "    depths = f.readlines()\n",
    "\n",
    "count = 0\n",
    "for next_idx, num in enumerate(depths[:-1], start=1):\n",
    "    if int(num) < int(depths[next_idx]):\n",
    "        count += 1\n",
    "\n",
    "assert count == 1292"
   ]
  },
  {
   "cell_type": "markdown",
   "id": "e614b475",
   "metadata": {},
   "source": [
    "However, I personally don't like this.\n",
    "There is something here that makes me look for a better solution, although some might say I'm just being paranoid.\n",
    "But, the truth is, our `if` statement is very asymmetrical right now.\n",
    "\n",
    "The solution lies elsewhere!\n",
    "The built-in `zip` is more correct here, because `zip` is used to pair sequences up.\n",
    "But what sequences do we want to pair up..?\n",
    "After all, we have a single sequence at hands!\n",
    "\n",
    "As it turns out, the both patterns of “this item & the next one” and “this item & the previous one” are easily written with `zip`.\n",
    "We just have to remember that, if `seq` is a sequence, then `seq[1:]` means “drop the first element” and `seq[:-1]` means “drop the last element”:\n",
    "\n",
    "![](res/zip_pairwise.png)"
   ]
  },
  {
   "cell_type": "code",
   "execution_count": 71,
   "id": "ee8a79aa",
   "metadata": {},
   "outputs": [
    {
     "name": "stdout",
     "output_type": "stream",
     "text": [
      "code\n",
      "oder\n",
      "[('c', 'o'), ('o', 'd'), ('d', 'e'), ('e', 'r')]\n"
     ]
    }
   ],
   "source": [
    "s = \"coder\"\n",
    "print(s[:-1])\n",
    "print(s[1:])\n",
    "print(list(zip(s[:-1], s[1:])))"
   ]
  },
  {
   "cell_type": "markdown",
   "id": "9390e95a",
   "metadata": {},
   "source": [
    "With this, we can rewrite our solution to be:"
   ]
  },
  {
   "cell_type": "code",
   "execution_count": 16,
   "id": "b78f6a39",
   "metadata": {},
   "outputs": [],
   "source": [
    "with open(INPUT_FILE, \"r\") as f:\n",
    "    depths = f.readlines()\n",
    "\n",
    "count = 0\n",
    "for prev_, next_ in zip(depths[:-1], depths[1:]):\n",
    "    if int(prev_) < int(next_):\n",
    "        count += 1\n",
    "\n",
    "assert count == 1292"
   ]
  },
  {
   "cell_type": "markdown",
   "id": "b24a5136",
   "metadata": {},
   "source": [
    "In the above, I wrote the name `next_` because `next` is a built-in function.\n",
    "Then, I decided to use `prev_` instead of `prev` just for symmetry.\n",
    "You can pick any other two names you prefer, or use `for prev, next_ in ...`.\n",
    "\n",
    "To simplify things a bit, especially when doing a similar thing with three or more iterables, we can actually omit the slices that are cutting from the end, because `zip` stops as soon as one iterable stops.\n",
    "In other words, we don't need to specify `depths[:-1]`:\n",
    "\n",
    "![](res/zip_stops_shortest.png)\n",
    "\n",
    "With that in mind, we can remove the extra slice:"
   ]
  },
  {
   "cell_type": "code",
   "execution_count": 17,
   "id": "dde06513",
   "metadata": {},
   "outputs": [],
   "source": [
    "with open(INPUT_FILE, \"r\") as f:\n",
    "    depths = f.readlines()\n",
    "\n",
    "count = 0\n",
    "for prev_, next_ in zip(depths, depths[1:]):\n",
    "    if int(prev_) < int(next_):\n",
    "        count += 1\n",
    "\n",
    "assert count == 1292"
   ]
  },
  {
   "cell_type": "markdown",
   "id": "0bea2241",
   "metadata": {},
   "source": [
    "### Repeated `int` conversions\n",
    "\n",
    "If you look closely at the `for` loop we are writing, you will notice that most of the values in `depth` are going to be passed in to the built-in `int` twice.\n",
    "While that's not a terrible thing, it's _double_ the work we need.\n",
    "All we need is for each number to be converted once, right?\n",
    "\n",
    "Therefore, we can do the `int` conversion a bit earlier in the process:"
   ]
  },
  {
   "cell_type": "code",
   "execution_count": 45,
   "id": "5825dbea",
   "metadata": {},
   "outputs": [],
   "source": [
    "with open(INPUT_FILE, \"r\") as f:\n",
    "    depths = f.readlines()\n",
    "depths = [int(d) for d in depths]\n",
    "\n",
    "count = 0\n",
    "for prev_, next_ in zip(depths, depths[1:]):\n",
    "    if prev_ < next_:\n",
    "        count += 1\n",
    "\n",
    "assert count == 1292"
   ]
  },
  {
   "cell_type": "markdown",
   "id": "549be0c6",
   "metadata": {},
   "source": [
    "Of course, now we have another issue of repeated work: first, we go over the whole file to read the lines with `.readliens`, and then we go over the file contents to convert everything into an integer.\n",
    "We can do everything at once, if we convert the lines to integers _while_ we read them:"
   ]
  },
  {
   "cell_type": "code",
   "execution_count": 46,
   "id": "66bff3c6",
   "metadata": {},
   "outputs": [],
   "source": [
    "with open(INPUT_FILE, \"r\") as f:\n",
    "    depths = [int(line) for line in f]\n",
    "\n",
    "count = 0\n",
    "for prev_, next_ in zip(depths, depths[1:]):\n",
    "    if prev_ < next_:\n",
    "        count += 1\n",
    "\n",
    "assert count == 1292"
   ]
  },
  {
   "cell_type": "markdown",
   "id": "b95448e1",
   "metadata": {},
   "source": [
    "In case you didn't know, [you can iterate over a file](https://mathspp.com/blog/til/006), which allows you to iterate over the lines.\n",
    "That's what allowed us to convert into integers all the lines.\n",
    "\n",
    "On top of that, you might be interested in knowing that [`int` is forgiving](https://twitter.com/mathsppblog/status/1466190674030698499), in that it allows the integers to be surrounded by whitespace:"
   ]
  },
  {
   "cell_type": "code",
   "execution_count": 23,
   "id": "8c6f765c",
   "metadata": {},
   "outputs": [
    {
     "data": {
      "text/plain": [
       "True"
      ]
     },
     "execution_count": 23,
     "metadata": {},
     "output_type": "execute_result"
    }
   ],
   "source": [
    "13 == int(\"13\\n\") == int(\"       13        \") == int(\"\\t\\t\\n13 \\n\\t \")"
   ]
  },
  {
   "cell_type": "markdown",
   "id": "5c47c63b",
   "metadata": {},
   "source": [
    "### A really long input file\n",
    "\n",
    "Like I mentioned earlier, we need to consider if our input file fits into memory or not.\n",
    "Up to now, we have been reading the while file at once, but we don't need to!\n",
    "We just saw we can iterate over `f` lazily, so we can leverage that for our own solution.\n",
    "\n",
    "When we do that, notice that throughout our comparison loop we will need to be reading new values from the file.\n",
    "Thus, if the file is large and we can't read all of it at once, we need to keep it open.\n",
    "In other words, we have to indent our code again.\n",
    "\n",
    "On top of that, because we are assuming the file is _very_ big, we can no longer create the list of `depths`!\n",
    "Thus, we have two options:\n",
    "\n",
    " - we can write a _generator expression_ for `depths`; or\n",
    " - we can use a `map` with `map(int, f)`.\n",
    "\n",
    "Using a generator expression entails converting the `[ ... ]` in the list comprehension to `( ... )`:"
   ]
  },
  {
   "cell_type": "code",
   "execution_count": 43,
   "id": "e5b729b8",
   "metadata": {},
   "outputs": [
    {
     "ename": "TypeError",
     "evalue": "'generator' object is not subscriptable",
     "output_type": "error",
     "traceback": [
      "\u001b[1;31m---------------------------------------------------------------------------\u001b[0m",
      "\u001b[1;31mTypeError\u001b[0m                                 Traceback (most recent call last)",
      "\u001b[1;32m~\\AppData\\Local\\Temp/ipykernel_8864/183661824.py\u001b[0m in \u001b[0;36m<module>\u001b[1;34m\u001b[0m\n\u001b[0;32m      3\u001b[0m \u001b[1;33m\u001b[0m\u001b[0m\n\u001b[0;32m      4\u001b[0m     \u001b[0mcount\u001b[0m \u001b[1;33m=\u001b[0m \u001b[1;36m0\u001b[0m\u001b[1;33m\u001b[0m\u001b[1;33m\u001b[0m\u001b[0m\n\u001b[1;32m----> 5\u001b[1;33m     \u001b[1;32mfor\u001b[0m \u001b[0mprev_\u001b[0m\u001b[1;33m,\u001b[0m \u001b[0mnext_\u001b[0m \u001b[1;32min\u001b[0m \u001b[0mzip\u001b[0m\u001b[1;33m(\u001b[0m\u001b[0mdepths\u001b[0m\u001b[1;33m,\u001b[0m \u001b[0mdepths\u001b[0m\u001b[1;33m[\u001b[0m\u001b[1;36m1\u001b[0m\u001b[1;33m:\u001b[0m\u001b[1;33m]\u001b[0m\u001b[1;33m)\u001b[0m\u001b[1;33m:\u001b[0m\u001b[1;33m\u001b[0m\u001b[1;33m\u001b[0m\u001b[0m\n\u001b[0m\u001b[0;32m      6\u001b[0m         \u001b[1;32mif\u001b[0m \u001b[0mprev_\u001b[0m \u001b[1;33m<\u001b[0m \u001b[0mnext_\u001b[0m\u001b[1;33m:\u001b[0m\u001b[1;33m\u001b[0m\u001b[1;33m\u001b[0m\u001b[0m\n\u001b[0;32m      7\u001b[0m             \u001b[0mcount\u001b[0m \u001b[1;33m+=\u001b[0m \u001b[1;36m1\u001b[0m\u001b[1;33m\u001b[0m\u001b[1;33m\u001b[0m\u001b[0m\n",
      "\u001b[1;31mTypeError\u001b[0m: 'generator' object is not subscriptable"
     ]
    }
   ],
   "source": [
    "with open(INPUT_FILE, \"r\") as f:\n",
    "    depths = (int(line) for line in f)\n",
    "\n",
    "    count = 0\n",
    "    for prev_, next_ in zip(depths, depths[1:]):\n",
    "        if prev_ < next_:\n",
    "            count += 1\n",
    "\n",
    "    assert count == 1292"
   ]
  },
  {
   "cell_type": "markdown",
   "id": "db8a4cf0",
   "metadata": {},
   "source": [
    "However, as we do so, the `depths[1:]` stops working because generators are not indexable/sliceable.\n",
    "This shows a weakness in our solution!\n",
    "\n",
    "Thankfully, there are two good solutions!\n",
    "Starting with Python 3.10, there is a function called `itertools.pairwise` that implements the exact `zip` pattern we wanted:"
   ]
  },
  {
   "cell_type": "code",
   "execution_count": 42,
   "id": "e0b8cb16",
   "metadata": {},
   "outputs": [],
   "source": [
    "from itertools import pairwise\n",
    "\n",
    "with open(INPUT_FILE, \"r\") as f:\n",
    "    depths = (int(line) for line in f)\n",
    "\n",
    "    count = 0\n",
    "    for prev_, next_ in pairwise(depths):\n",
    "        if prev_ < next_:\n",
    "            count += 1\n",
    "\n",
    "    assert count == 1292"
   ]
  },
  {
   "cell_type": "markdown",
   "id": "6e162ac3",
   "metadata": {},
   "source": [
    "If you don't have Python 3.10 (or older), you can define your own `pairwise` using `itertools.tee`.\n",
    "\n",
    "This isn't beginner-level Python, so feel free to skip this bit:"
   ]
  },
  {
   "cell_type": "code",
   "execution_count": 57,
   "id": "af04c28c",
   "metadata": {},
   "outputs": [],
   "source": [
    "from itertools import tee\n",
    "\n",
    "def pairwise(it):\n",
    "    \"\"\"Mock `itertools.pairwise` for Python versions below 3.10.\"\"\"\n",
    "    prev_, next_ = tee(it, 2)     # Split `it` into two iterables.\n",
    "    next(next_)                   # Advance once.\n",
    "    yield from zip(prev_, next_)  # Yield the pairs."
   ]
  },
  {
   "cell_type": "code",
   "execution_count": 41,
   "id": "a138b9e5",
   "metadata": {},
   "outputs": [],
   "source": [
    "with open(INPUT_FILE, \"r\") as f:\n",
    "    depths = (int(line) for line in f)\n",
    "\n",
    "    count = 0\n",
    "    for prev_, next_ in pairwise(depths):\n",
    "        if prev_ < next_:\n",
    "            count += 1\n",
    "\n",
    "    assert count == 1292"
   ]
  },
  {
   "cell_type": "markdown",
   "id": "ded2b7a4",
   "metadata": {},
   "source": [
    "### Counting by incrementing\n",
    "\n",
    "In all of the solutions above we have been counting by incrementing the `count` variable only when the depth test passes.\n",
    "However, there is a different approach to this, inspired by the languages where Boolean values are just 0s and 1s.\n",
    "Instead of checking with an `if`, we just add the value of the condition to `count`:"
   ]
  },
  {
   "cell_type": "code",
   "execution_count": 39,
   "id": "521eb383",
   "metadata": {},
   "outputs": [],
   "source": [
    "with open(INPUT_FILE, \"r\") as f:\n",
    "    depths = (int(line) for line in f)\n",
    "\n",
    "    count = 0\n",
    "    for prev_, next_ in pairwise(depths):\n",
    "        count += prev_ < next_\n",
    "\n",
    "    assert count == 1292"
   ]
  },
  {
   "cell_type": "markdown",
   "id": "12028da0",
   "metadata": {},
   "source": [
    "When `prev_ < next_` is `True` (and the `if` statement would pass the test, incrementing `count` by one), the statement `count += True` increments `count` by one.\n",
    "When `prev_ < next_` is `False` (and the `if` statement would not increment `count`), the statement `count += False` increments `count` by zero.\n",
    "\n",
    "After all, Boolean values can be treated as integers:"
   ]
  },
  {
   "cell_type": "code",
   "execution_count": 47,
   "id": "e5f01ff8",
   "metadata": {},
   "outputs": [
    {
     "data": {
      "text/plain": [
       "2"
      ]
     },
     "execution_count": 47,
     "metadata": {},
     "output_type": "execute_result"
    }
   ],
   "source": [
    "1 + True"
   ]
  },
  {
   "cell_type": "code",
   "execution_count": 48,
   "id": "7e283b92",
   "metadata": {},
   "outputs": [
    {
     "data": {
      "text/plain": [
       "1"
      ]
     },
     "execution_count": 48,
     "metadata": {},
     "output_type": "execute_result"
    }
   ],
   "source": [
    "1 + False"
   ]
  },
  {
   "cell_type": "markdown",
   "id": "07fe163e",
   "metadata": {},
   "source": [
    "This has to be used with caution, though, and is not always advisable."
   ]
  },
  {
   "cell_type": "markdown",
   "id": "3999e0f2",
   "metadata": {},
   "source": [
    "### Summing the conditions\n",
    "\n",
    "However, moving the condition to the value that is being incremented gives rise to another implementation.\n",
    "\n",
    "After all, the pattern\n",
    "\n",
    "```py\n",
    "accumulator = 0\n",
    "for element in iterable:\n",
    "    accumulator += foo(element)\n",
    "```\n",
    "\n",
    "is equivalent to\n",
    "\n",
    "```py\n",
    "sum(foo(element) for element in iterable)\n",
    "```\n",
    "\n",
    "Therefore, we can rewrite our solution to be a sum:"
   ]
  },
  {
   "cell_type": "code",
   "execution_count": 50,
   "id": "4ec77cf6",
   "metadata": {},
   "outputs": [],
   "source": [
    "with open(INPUT_FILE, \"r\") as f:\n",
    "    depths = (int(line) for line in f)\n",
    "\n",
    "    count = sum(prev_ < next_ for prev_, next_ in pairwise(depths))\n",
    "\n",
    "    assert count == 1292"
   ]
  },
  {
   "cell_type": "markdown",
   "id": "fd9c6405",
   "metadata": {},
   "source": [
    "### Using more `itertools`\n",
    "\n",
    "If you want to study `itertools` a bit further, I leave you with the exercise of studying this terser solution:"
   ]
  },
  {
   "cell_type": "code",
   "execution_count": 55,
   "id": "151fe7bd",
   "metadata": {},
   "outputs": [],
   "source": [
    "from itertools import pairwise, starmap\n",
    "from operator import le\n",
    "\n",
    "with open(INPUT_FILE, \"r\") as f:\n",
    "    assert sum(starmap(le, pairwise(map(int, f)))) == 1292"
   ]
  },
  {
   "cell_type": "markdown",
   "id": "a93592a1",
   "metadata": {},
   "source": [
    "**Hint**: start by understanding why this version works:"
   ]
  },
  {
   "cell_type": "code",
   "execution_count": 56,
   "id": "0f016a9f",
   "metadata": {},
   "outputs": [],
   "source": [
    "with open(INPUT_FILE, \"r\") as f:\n",
    "    depths = (int(line) for line in f)\n",
    "    le = lambda l, r: l < r\n",
    "\n",
    "    assert sum(le(*args) for args in pairwise(depths)) == 1292"
   ]
  },
  {
   "cell_type": "markdown",
   "id": "6b403118",
   "metadata": {},
   "source": [
    "## Part 2 problem statement\n",
    "\n",
    "Instead, consider sums of a three-measurement sliding window. Again considering the above example:\n",
    "\n",
    "```txt\n",
    "199  A      \n",
    "200  A B    \n",
    "208  A B C  \n",
    "210    B C D\n",
    "200      C D E\n",
    "207        D E F\n",
    "240          E F G\n",
    "269            F G H\n",
    "260              G H\n",
    "263                H\n",
    "```\n",
    "\n",
    "Start by comparing the first and second three-measurement windows. The measurements in the first window are marked A (199, 200, 208); their sum is 199 + 200 + 208 = 607. The second window is marked B (200, 208, 210); its sum is 618. The sum of measurements in the second window is larger than the sum of the first, so this first comparison **increased**.\n",
    "\n",
    "Your goal now is to count **the number of times the sum of measurements in this sliding window increases** from the previous sum. So, compare A with B, then compare B with C, then C with D, and so on. Stop when there aren't enough measurements left to create a new three-measurement sum.\n",
    "\n",
    "In the above example, the sum of each three-measurement window is as follows:\n",
    "\n",
    "A: 607 (N/A - no previous sum)\n",
    "B: 618 (increased)\n",
    "C: 618 (no change)\n",
    "D: 617 (decreased)\n",
    "E: 647 (increased)\n",
    "F: 716 (increased)\n",
    "G: 769 (increased)\n",
    "H: 792 (increased)\n",
    "\n",
    "In this example, there are 5 sums that are larger than the previous sum.\n",
    "\n",
    "Consider sums of a three-measurement sliding window. How many sums are larger than the previous sum in the input file `inputs/01_sonar_sweep.txt`?\n",
    "\n",
    "_You should arrive at the answer 1262._"
   ]
  },
  {
   "cell_type": "markdown",
   "id": "4318ba4f",
   "metadata": {},
   "source": [
    "### Similar baseline solution\n",
    "\n",
    "If we follow a train of thought similar to that employed for the first baseline solution, we might write something like this:"
   ]
  },
  {
   "cell_type": "code",
   "execution_count": 59,
   "id": "f62c4de5",
   "metadata": {},
   "outputs": [],
   "source": [
    "with open(INPUT_FILE, \"r\") as f:\n",
    "    depths = [int(line) for line in f]  # Everything as integers from the get-go\n",
    "\n",
    "count = 0\n",
    "for i in range(3, len(depths)):\n",
    "    left = depths[i - 3] + depths[i - 2] + depths[i - 1]\n",
    "    right = depths[i - 2] + depths[i - 1] + depths[i]\n",
    "    if left < right:\n",
    "        count += 1\n",
    "\n",
    "assert count == 1262"
   ]
  },
  {
   "cell_type": "markdown",
   "id": "4c50eaa7",
   "metadata": {},
   "source": [
    "This solution works, but it is too much trouble to the programmer: we had to do six indexing operations!\n",
    "Do you know what are the odds that you'll make a typo and get one index wrong?\n",
    "For me, that's like 103%!\n",
    "\n",
    "This is a test you can make to check if your code is “good”: look for numeric parameters in the problem set, and imagine they were much larger.\n",
    "Would you still want to write your solution in the same way?\n",
    "\n",
    "For example, the window size of 3 is a parameter of the problem statement.\n",
    "What if it were a window of size 20?\n",
    "Would you still write the sum of the indexing by hand?\n",
    "Probably not!\n",
    "\n",
    "Hence, you might want to change your code to something using slices:"
   ]
  },
  {
   "cell_type": "code",
   "execution_count": 64,
   "id": "9a426fcf",
   "metadata": {},
   "outputs": [],
   "source": [
    "with open(INPUT_FILE, \"r\") as f:\n",
    "    depths = [int(line) for line in f]\n",
    "\n",
    "count = 0\n",
    "for i in range(len(depths) - 3):\n",
    "    # We sum the windows we build with slices:\n",
    "    left, right = sum(depths[i:i + 3]), sum(depths[i + 1:i + 4])\n",
    "    if left < right:\n",
    "        count += 1\n",
    "\n",
    "assert count == 1262"
   ]
  },
  {
   "cell_type": "markdown",
   "id": "dc5e1ffe",
   "metadata": {},
   "source": [
    "This is one very reasonable train of thought.\n",
    "Again, because it is using explicit slices, this wouldn't work if the input file were too large.\n",
    "\n",
    "Thus, you might want to stay loyal to the `pairwise` solution we found earlier.\n",
    "Maybe there is an `itertools` function for windows of a given size?"
   ]
  },
  {
   "cell_type": "markdown",
   "id": "08e56345",
   "metadata": {},
   "source": [
    "### Sum over a triplewise\n",
    "\n",
    "Sadly, `itertools` does not have such a function.\n",
    "You can take a look at the custom `pairwise` defined above, and try your hand at implementing a `triplewise` function, that returns three consecutive elements from an iterable.\n",
    "\n",
    "Skip the definition, if you want, but look at the example usage:"
   ]
  },
  {
   "cell_type": "code",
   "execution_count": 65,
   "id": "b377c002",
   "metadata": {},
   "outputs": [],
   "source": [
    "from itertools import tee\n",
    "\n",
    "def triplewise(it):\n",
    "    it1, it2, it3 = tee(it, 3)\n",
    "    next(it2); next(it3); next(it3)\n",
    "    yield from zip(it1, it2, it3)"
   ]
  },
  {
   "cell_type": "code",
   "execution_count": 70,
   "id": "0a2c2f9d",
   "metadata": {},
   "outputs": [
    {
     "data": {
      "text/plain": [
       "[('c', 'o', 'd'), ('o', 'd', 'e'), ('d', 'e', 'r')]"
      ]
     },
     "execution_count": 70,
     "metadata": {},
     "output_type": "execute_result"
    }
   ],
   "source": [
    "list(triplewise(\"coder\"))"
   ]
  },
  {
   "cell_type": "markdown",
   "id": "8bef7c4f",
   "metadata": {},
   "source": [
    "With the function `triplewise` (which doesn't exist in `itertools`, but exists in [`more_itertools`](https://more-itertools.readthedocs.io/en/stable/), along with many other useful functions!), we could write a rudimentary function that keeps computing the value of the sum of the current window, and compares it to the previous sum:"
   ]
  },
  {
   "cell_type": "code",
   "execution_count": 73,
   "id": "fc28a9ac",
   "metadata": {},
   "outputs": [],
   "source": [
    "with open(INPUT_FILE, \"r\") as f:\n",
    "    depths = [int(line) for line in f]\n",
    "\n",
    "count = 0\n",
    "sum_prev = float(\"+inf\")\n",
    "for triple in triplewise(depths):\n",
    "    sum_ = sum(triple)\n",
    "    if sum_prev < sum_:\n",
    "        count += 1\n",
    "    sum_prev = sum_\n",
    "\n",
    "assert count == 1262"
   ]
  },
  {
   "cell_type": "markdown",
   "id": "a5f9f866",
   "metadata": {},
   "source": [
    "This works, but now we have “regressed” in a way.\n",
    "\n",
    "Part 1 and part 2 are very similar in structure.\n",
    "However, for part 1 we didn't need to have an auxiliary variable that we kept updating, and now we do..."
   ]
  },
  {
   "cell_type": "markdown",
   "id": "b4edc54e",
   "metadata": {},
   "source": [
    "### Pairwise the triplewise\n",
    "\n",
    "Part 1 and part 2 are exactly the same, except that part 1 had a window size of 1, and part 2 has a window size of 3.\n",
    "So, part 2 should be solvable with code similar to that of part 1!\n",
    "In part 1, we used a pairwise to compare the windows, so that's what we should be doing here:"
   ]
  },
  {
   "cell_type": "code",
   "execution_count": 74,
   "id": "86d0b6fd",
   "metadata": {},
   "outputs": [],
   "source": [
    "with open(INPUT_FILE, \"r\") as f:\n",
    "    depths = [int(line) for line in f]\n",
    "\n",
    "count = 0\n",
    "sum_prev = float(\"+inf\")\n",
    "for triple_prev, triple_next in pairwise(triplewise(depths)):\n",
    "    if sum(triple_prev) < sum(triple_next):\n",
    "        count += 1\n",
    "\n",
    "assert count == 1262"
   ]
  },
  {
   "cell_type": "markdown",
   "id": "809ca44c",
   "metadata": {},
   "source": [
    "Wait, is this getting too complicated?!\n",
    "\n",
    "Good!\n",
    "That's because we are overlooking something.\n",
    "\n",
    "I suffer from this, but when we read a problem statement, we should spend a couple of minutes thinking about it...\n",
    "\n",
    "Let's go back to the original problem statement and the example they showed:\n",
    "\n",
    "```txt\n",
    "199  A      \n",
    "200  A B    \n",
    "208  A B C  \n",
    "210    B C D\n",
    "200      C D E\n",
    "207        D E F\n",
    "240          E F G\n",
    "269            F G H\n",
    "260              G H\n",
    "263                H\n",
    "```\n",
    "\n",
    "How do we compare the sliding window `A` with the sliding window `B`?\n",
    "Notice how the windows `A` and `B` have a huge overlap!\n",
    "They overlap in the numbers `200` and `208`; it's only the beginning of `A` and the end of `B` that change!\n",
    "\n",
    "This is actually easy to spot in the baseline solution with indices.\n",
    "Let me include it here again, but let me realign the assignments to `left` and `right`:"
   ]
  },
  {
   "cell_type": "code",
   "execution_count": 75,
   "id": "7b148de1",
   "metadata": {},
   "outputs": [],
   "source": [
    "with open(INPUT_FILE, \"r\") as f:\n",
    "    depths = [int(line) for line in f]\n",
    "\n",
    "count = 0\n",
    "for i in range(3, len(depths)):\n",
    "    left = depths[i - 3] + depths[i - 2] + depths[i - 1]\n",
    "    right =                depths[i - 2] + depths[i - 1] + depths[i]\n",
    "    if left < right:\n",
    "        count += 1\n",
    "\n",
    "assert count == 1262"
   ]
  },
  {
   "cell_type": "markdown",
   "id": "57fdcb40",
   "metadata": {},
   "source": [
    "Or, better yet, let me copy & paste the additions directly into the `if` statement, removing the assignments altogether:"
   ]
  },
  {
   "cell_type": "code",
   "execution_count": 76,
   "id": "ef302367",
   "metadata": {},
   "outputs": [],
   "source": [
    "with open(INPUT_FILE, \"r\") as f:\n",
    "    depths = [int(line) for line in f]\n",
    "\n",
    "count = 0\n",
    "for i in range(3, len(depths)):\n",
    "    if depths[i - 3] + depths[i - 2] + depths[i - 1] < depths[i - 2] + depths[i - 1] + depths[i]:\n",
    "        count += 1\n",
    "\n",
    "assert count == 1262"
   ]
  },
  {
   "cell_type": "markdown",
   "id": "8b13a77f",
   "metadata": {},
   "source": [
    "Why did I do this?\n",
    "\n",
    "Because, now, I want to think about the condition of the `if` statement like a mathematical inequality.\n",
    "(Do you see where this is going?)\n",
    "Let me just abbreviate `depths` as `d` because I'm lazy:\n",
    "\n",
    "$$\n",
    "\\require{cancel}\n",
    "\\begin{align}\n",
    "d[i - 3] + {d[i - 2]} + {d[i - 1]} &< {d[i - 2]} + {d[i - 1]} + d[i] \\implies \\\\\n",
    "d[i - 3] + \\cancel{d[i - 2]} + \\cancel{d[i - 1]} &< \\cancel{d[i - 2]} + \\cancel{d[i - 1]} + d[i] \\implies \\\\\n",
    "d[i - 3] &< d[i]\n",
    "\\end{align}\n",
    "$$\n",
    "\n",
    "So, in essence, we can omit most of the terms from the comparison because they don't matter!\n",
    "They are being added to both sides of the scale (you can think of a `<` as a scale checking if the left side is lighter), and therefore they do not make a difference in the balance of the scale:"
   ]
  },
  {
   "cell_type": "code",
   "execution_count": 77,
   "id": "bc24e225",
   "metadata": {},
   "outputs": [],
   "source": [
    "with open(INPUT_FILE, \"r\") as f:\n",
    "    depths = [int(line) for line in f]\n",
    "\n",
    "count = 0\n",
    "for i in range(3, len(depths)):\n",
    "    if depths[i - 3] < depths[i]:\n",
    "        count += 1\n",
    "\n",
    "assert count == 1262"
   ]
  },
  {
   "cell_type": "markdown",
   "id": "2a8f709a",
   "metadata": {},
   "source": [
    "This is a _pretty_ good solution."
   ]
  },
  {
   "cell_type": "markdown",
   "id": "175dff80",
   "metadata": {},
   "source": [
    "### Parametrising the window size\n",
    "\n",
    "One (tiny) thing that is very worth the mention is that with this version, it becomes trivial to parametrise the window size:"
   ]
  },
  {
   "cell_type": "code",
   "execution_count": 78,
   "id": "32700143",
   "metadata": {},
   "outputs": [],
   "source": [
    "WS = 3  # Window size.\n",
    "\n",
    "with open(INPUT_FILE, \"r\") as f:\n",
    "    depths = [int(line) for line in f]\n",
    "\n",
    "count = 0\n",
    "for i in range(WS, len(depths)):\n",
    "    if depths[i - WS] < depths[i]:\n",
    "        count += 1\n",
    "\n",
    "assert count == 1262"
   ]
  },
  {
   "cell_type": "markdown",
   "id": "46ec87c1",
   "metadata": {},
   "source": [
    "With the addition of the `WS` variable, the problem statement can change the window size to anything they'd like, that we can adjust our solution with the same ease.\n",
    "\n",
    "In particular, if we change `WS` to 1, we get back the problem from part 1:"
   ]
  },
  {
   "cell_type": "code",
   "execution_count": 80,
   "id": "8cbdbea7",
   "metadata": {},
   "outputs": [
    {
     "name": "stdout",
     "output_type": "stream",
     "text": [
      "1292\n"
     ]
    }
   ],
   "source": [
    "WS = 1\n",
    "\n",
    "with open(INPUT_FILE, \"r\") as f:\n",
    "    depths = [int(line) for line in f]\n",
    "\n",
    "count = 0\n",
    "for i in range(WS, len(depths)):\n",
    "    if depths[i - WS] < depths[i]:\n",
    "        count += 1\n",
    "print(count)  # The value from part 1."
   ]
  },
  {
   "cell_type": "markdown",
   "id": "66ca377e",
   "metadata": {},
   "source": [
    "### Handling big files lazily\n",
    "\n",
    "The only thing left to mention is what we do if the file `f` can't be loaded to memory as a whole, because it's too big.\n",
    "In that case, `depths` can't be defined as a list comprehension, and thus `depth` won't be indexable like in the `if` statement.\n",
    "\n",
    "In that case, we need to do something similar to the `pairwise` that we did before.\n",
    "Before, we did a `pairwise` because we wanted to compare each value to the one before it (index minus one).\n",
    "Now, we want to compare each value with the one three places before it (index minus three).\n",
    "\n",
    "Then, we can use two functions from `itertools`: `tee` and `islice`; or we can keep track of the window by hand.\n",
    "\n",
    "To do this by hand, we will keep track of a list whose size is one plus the window size.\n",
    "We start by filling this manual window, and then we keep comparing the two ends of the window:"
   ]
  },
  {
   "cell_type": "code",
   "execution_count": 85,
   "id": "bb95afcc",
   "metadata": {},
   "outputs": [],
   "source": [
    "WS = 3\n",
    "\n",
    "with open(INPUT_FILE, \"r\") as f:\n",
    "    depths = (int(line) for line in f)  # Using a lazy generator now.\n",
    "\n",
    "    # Start by putting `WS` elements inside `window`.\n",
    "    window = [next(depths) for _ in range(WS)]\n",
    "\n",
    "    count = 0\n",
    "    # When we get here, `depths` is already missing some elements from the beginning,\n",
    "    # so we can already start comparing depth values.\n",
    "    for elem in depths:\n",
    "        window.append(elem)\n",
    "        if window[0] < window[-1]:\n",
    "            count += 1\n",
    "        window.pop(0)  # Get rid of the oldest element in the window.\n",
    "\n",
    "    assert count == 1262"
   ]
  },
  {
   "cell_type": "markdown",
   "id": "f9d81543",
   "metadata": {},
   "source": [
    "This is a pretty decent solution.\n",
    "The most confusing thing may be the way `window` is initialised, with the built-in `next`.\n",
    "`next` is a function that accepts a lazy generator and just spits out the next value of the lazy generator.\n",
    "\n",
    "Here is an example:"
   ]
  },
  {
   "cell_type": "code",
   "execution_count": 87,
   "id": "12125ac2",
   "metadata": {},
   "outputs": [],
   "source": [
    "gen_ints_to_10 = iter(range(10))"
   ]
  },
  {
   "cell_type": "code",
   "execution_count": 88,
   "id": "ea8ae732",
   "metadata": {},
   "outputs": [
    {
     "data": {
      "text/plain": [
       "0"
      ]
     },
     "execution_count": 88,
     "metadata": {},
     "output_type": "execute_result"
    }
   ],
   "source": [
    "next(gen_ints_to_10)"
   ]
  },
  {
   "cell_type": "code",
   "execution_count": 89,
   "id": "17dbc23a",
   "metadata": {},
   "outputs": [
    {
     "data": {
      "text/plain": [
       "1"
      ]
     },
     "execution_count": 89,
     "metadata": {},
     "output_type": "execute_result"
    }
   ],
   "source": [
    "next(gen_ints_to_10)"
   ]
  },
  {
   "cell_type": "markdown",
   "id": "91e0d7cc",
   "metadata": {},
   "source": [
    "What's interesting about iterators is that, once you start going through them, you've “lost” the items you already saw.\n",
    "For example, if you iterate over `gen_ints_to_10` with a `for` loop now, the `0` and the `1` will already be gone:"
   ]
  },
  {
   "cell_type": "code",
   "execution_count": 90,
   "id": "d2c59b13",
   "metadata": {},
   "outputs": [
    {
     "name": "stdout",
     "output_type": "stream",
     "text": [
      "2 3 4 5 6 7 8 9 "
     ]
    }
   ],
   "source": [
    "for num in gen_ints_to_10:\n",
    "    print(num, end=\" \")"
   ]
  },
  {
   "cell_type": "markdown",
   "id": "01d77b76",
   "metadata": {},
   "source": [
    "If you are comfortable with this solution, you may want to study this next solution:"
   ]
  },
  {
   "cell_type": "code",
   "execution_count": 93,
   "id": "aa8dcc0e",
   "metadata": {},
   "outputs": [],
   "source": [
    "from itertools import islice, tee\n",
    "\n",
    "WS = 3\n",
    "\n",
    "with open(INPUT_FILE, \"r\") as f:\n",
    "    depths = (int(line) for line in f)\n",
    "\n",
    "    prev_it, it = tee(depths, 2)    # Split iterator in two.\n",
    "    next_it = islice(it, WS, None)  # Skip WS elements from this iterator. \n",
    "\n",
    "    count = 0\n",
    "    for prev_, next_ in zip(prev_it, next_it):\n",
    "        if prev_ < next_:\n",
    "            count += 1\n",
    "\n",
    "    assert count == 1262"
   ]
  },
  {
   "cell_type": "markdown",
   "id": "b8e9640e",
   "metadata": {},
   "source": [
    "## Conclusion\n",
    "\n",
    "In one way or another, this problem showed that whenever we need to iterate over a sequence of values, we are likely to find useful tools in the `itertools` module.\n",
    "\n",
    "We were careful to try and not do too much repeated work, and we also took a look at how our code would have to be different if the input data were too much to hold in memory at once.\n",
    "\n",
    "If you have any questions, suggestions, remarks, recommendations, corrections, or anything else, you can reach out to me [on Twitter](https://twitter.com/mathsppblog) or via email to rodrigo at mathspp dot com.\n",
    "\n",
    "---\n",
    "\n",
    "This analysis is part of the first day of the [Python Problem-Solving Bootcamp](https://mathspp.com/pythonbootcamp).\n",
    "Follow [this link](https://mathspp.com/pythonbootcamp) if you'd like to participate in the bootcamp:\n",
    "\n",
    " - to be a part of a community of highly-motivated individuals solving Advent of Code together; and\n",
    " - to receive notebooks like these with the analysis of the problems tackled."
   ]
  },
  {
   "cell_type": "code",
   "execution_count": null,
   "id": "60abf461",
   "metadata": {},
   "outputs": [],
   "source": []
  }
 ],
 "metadata": {
  "kernelspec": {
   "display_name": "Python 3",
   "language": "python",
   "name": "python3"
  },
  "language_info": {
   "codemirror_mode": {
    "name": "ipython",
    "version": 3
   },
   "file_extension": ".py",
   "mimetype": "text/x-python",
   "name": "python",
   "nbconvert_exporter": "python",
   "pygments_lexer": "ipython3",
   "version": "3.8.8"
  },
  "toc": {
   "base_numbering": 1,
   "nav_menu": {},
   "number_sections": false,
   "sideBar": true,
   "skip_h1_title": true,
   "title_cell": "Table of Contents",
   "title_sidebar": "Contents",
   "toc_cell": false,
   "toc_position": {},
   "toc_section_display": true,
   "toc_window_display": false
  }
 },
 "nbformat": 4,
 "nbformat_minor": 5
}
