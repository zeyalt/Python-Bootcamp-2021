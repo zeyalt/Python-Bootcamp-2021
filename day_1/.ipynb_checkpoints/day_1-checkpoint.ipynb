{
 "cells": [
  {
   "cell_type": "markdown",
   "metadata": {},
   "source": [
    "# Python Bootcamp: Advent of Code (Day 1)"
   ]
  },
  {
   "cell_type": "markdown",
   "metadata": {},
   "source": [
    "## 1. Puzzle 1"
   ]
  },
  {
   "cell_type": "markdown",
   "metadata": {},
   "source": [
    "### 1.1 My Solution"
   ]
  },
  {
   "cell_type": "code",
   "execution_count": 1,
   "metadata": {},
   "outputs": [
    {
     "data": {
      "text/plain": [
       "[189, 190, 199, 197, 200, 201, 199, 216, 224, 239]"
      ]
     },
     "execution_count": 1,
     "metadata": {},
     "output_type": "execute_result"
    }
   ],
   "source": [
    "# Read input file\n",
    "with open('data/input.txt') as f:\n",
    "    lines = f.readlines()\n",
    "\n",
    "# Convert each element into `int`\n",
    "data = [int(ele) for ele in lines]\n",
    "\n",
    "# View first 10 elements - Sanity check\n",
    "data[:10]"
   ]
  },
  {
   "cell_type": "code",
   "execution_count": 11,
   "metadata": {},
   "outputs": [],
   "source": [
    "prev_num = 0 # Assign an initial value\n",
    "num_increase = 0 # A variable to count number of times measurements increased\n",
    "\n",
    "for num in data:\n",
    "    if num > prev_num:\n",
    "        num_increase += 1\n",
    "    else:\n",
    "        pass\n",
    "    prev_num = num    "
   ]
  },
  {
   "cell_type": "code",
   "execution_count": 10,
   "metadata": {},
   "outputs": [
    {
     "name": "stdout",
     "output_type": "stream",
     "text": [
      "Number of measurements larger than previous measurement: 1390\n"
     ]
    }
   ],
   "source": [
    "print(\"Number of measurements larger than previous measurement:\", num_increase-1)"
   ]
  },
  {
   "cell_type": "markdown",
   "metadata": {},
   "source": [
    "## 2. Puzzle 2"
   ]
  },
  {
   "cell_type": "markdown",
   "metadata": {},
   "source": [
    "### 2.1 My Solution"
   ]
  },
  {
   "cell_type": "code",
   "execution_count": 14,
   "metadata": {},
   "outputs": [],
   "source": [
    "# Set window size\n",
    "n = 3\n",
    "new_data = []\n",
    "\n",
    "# Iterate through the input by a window of 3. \n",
    "for i in range(len(data)-n+1):\n",
    "    batch = data[i:i+n]\n",
    "    new_data.append(sum(batch))"
   ]
  },
  {
   "cell_type": "code",
   "execution_count": 16,
   "metadata": {},
   "outputs": [],
   "source": [
    "prev_num = 0 # Assign an initial value\n",
    "num_increase = 0 # A variable to count number of times measurements increased\n",
    "\n",
    "for num in new_data:\n",
    "    if num > prev_num:\n",
    "        num_increase += 1\n",
    "    else:\n",
    "        pass\n",
    "    prev_num = num    "
   ]
  },
  {
   "cell_type": "code",
   "execution_count": 18,
   "metadata": {},
   "outputs": [
    {
     "name": "stdout",
     "output_type": "stream",
     "text": [
      "Number of measurements larger than previous measurement: 1457\n"
     ]
    }
   ],
   "source": [
    "print(\"Number of measurements larger than previous measurement:\", num_increase-1)"
   ]
  }
 ],
 "metadata": {
  "interpreter": {
   "hash": "c9008ba995d2c46f7a8a8b57a00346eea774fcdf0db2b71700344559b6c212be"
  },
  "kernelspec": {
   "display_name": "Python 3",
   "language": "python",
   "name": "python3"
  },
  "language_info": {
   "codemirror_mode": {
    "name": "ipython",
    "version": 3
   },
   "file_extension": ".py",
   "mimetype": "text/x-python",
   "name": "python",
   "nbconvert_exporter": "python",
   "pygments_lexer": "ipython3",
   "version": "3.8.8"
  }
 },
 "nbformat": 4,
 "nbformat_minor": 2
}
