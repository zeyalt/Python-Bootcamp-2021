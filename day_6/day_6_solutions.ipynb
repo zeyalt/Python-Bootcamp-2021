{
 "cells": [
  {
   "cell_type": "markdown",
   "id": "93d74ee1",
   "metadata": {},
   "source": [
    "# Lanternfish\n",
    "\n",
    "The analysis that follows pertains to the sixth day of the [Python Problem-Solving Bootcamp](https://mathspp.com/pythonbootcamp).\n",
    "\n",
    "In the analysis that follows you may be confronted with code that you do not understand, especially as you reach the end of the explanation of each part.\n",
    "\n",
    "If you find functions that you didn't know before, remember to [check the docs](https://docs.python.org/3/) for those functions and play around with them in the REPL.\n",
    "This is written to be increasing in difficulty (within each part of the problem), so it is understandable if it gets harder as you keep reading.\n",
    "That's perfectly fine, you don't have to understand everything _right now_, especially because I can't know for sure what _your level_ is."
   ]
  },
  {
   "cell_type": "markdown",
   "id": "edd61e8e",
   "metadata": {},
   "source": [
    "## Part 1 problem statement\n",
    "\n",
    "(From [Advent of Code 2021, day 6](https://adventofcode.com/2021/day/6))\n",
    "\n",
    "The sea floor is getting steeper. Maybe the sleigh keys got carried this way?\n",
    "\n",
    "A massive school of glowing [lanternfish](https://en.wikipedia.org/wiki/Lanternfish) swims past. They must spawn quickly to reach such large numbers - maybe _exponentially_ quickly? You should model their growth rate to be sure.\n",
    "\n",
    "Although you know nothing about this specific species of lanternfish, you make some guesses about their attributes. Surely, each lanternfish creates a new lanternfish once every _7_ days.\n",
    "\n",
    "However, this process isn't necessarily synchronized between every lanternfish - one lanternfish might have 2 days left until it creates another lanternfish, while another might have 4. So, you can model each fish as a single number that represents _the number of days until it creates a new lanternfish_.\n",
    "\n",
    "Furthermore, you reason, a _new_ lanternfish would surely need slightly longer before it's capable of producing more lanternfish: two more days for its first cycle.\n",
    "\n",
    "So, suppose you have a lanternfish with an internal timer value of `3`:\n",
    "\n",
    "-   After one day, its internal timer would become `2`.\n",
    "-   After another day, its internal timer would become `1`.\n",
    "-   After another day, its internal timer would become `0`.\n",
    "-   After another day, its internal timer would reset to `6`, and it would create a _new_ lanternfish with an internal timer of `8`.\n",
    "-   After another day, the first lanternfish would have an internal timer of `5`, and the second lanternfish would have an internal timer of `7`.\n",
    "\n",
    "A lanternfish that creates a new fish resets its timer to `6`, _not `7`_ (because `0` is included as a valid timer value). The new lanternfish starts with an internal timer of `8` and does not start counting down until the next day.\n",
    "\n",
    "Realizing what you're trying to do, the submarine automatically produces a list of the ages of several hundred nearby lanternfish (your puzzle input). For example, suppose you were given the following list:\n",
    "\n",
    "```\n",
    "3,4,3,1,2\n",
    "```\n",
    "\n",
    "This list means that the first fish has an internal timer of `3`, the second fish has an internal timer of `4`, and so on until the fifth fish, which has an internal timer of `2`. Simulating these fish over several days would proceed as follows:\n",
    "\n",
    "```\n",
    "Initial state: 3,4,3,1,2\n",
    "After  1 day:  2,3,2,0,1\n",
    "After  2 days: 1,2,1,6,0,8\n",
    "After  3 days: 0,1,0,5,6,7,8\n",
    "After  4 days: 6,0,6,4,5,6,7,8,8\n",
    "After  5 days: 5,6,5,3,4,5,6,7,7,8\n",
    "After  6 days: 4,5,4,2,3,4,5,6,6,7\n",
    "After  7 days: 3,4,3,1,2,3,4,5,5,6\n",
    "After  8 days: 2,3,2,0,1,2,3,4,4,5\n",
    "After  9 days: 1,2,1,6,0,1,2,3,3,4,8\n",
    "After 10 days: 0,1,0,5,6,0,1,2,2,3,7,8\n",
    "After 11 days: 6,0,6,4,5,6,0,1,1,2,6,7,8,8,8\n",
    "After 12 days: 5,6,5,3,4,5,6,0,0,1,5,6,7,7,7,8,8\n",
    "After 13 days: 4,5,4,2,3,4,5,6,6,0,4,5,6,6,6,7,7,8,8\n",
    "After 14 days: 3,4,3,1,2,3,4,5,5,6,3,4,5,5,5,6,6,7,7,8\n",
    "After 15 days: 2,3,2,0,1,2,3,4,4,5,2,3,4,4,4,5,5,6,6,7\n",
    "After 16 days: 1,2,1,6,0,1,2,3,3,4,1,2,3,3,3,4,4,5,5,6,8\n",
    "After 17 days: 0,1,0,5,6,0,1,2,2,3,0,1,2,2,2,3,3,4,4,5,7,8\n",
    "After 18 days: 6,0,6,4,5,6,0,1,1,2,6,0,1,1,1,2,2,3,3,4,6,7,8,8,8,8\n",
    "```\n",
    "\n",
    "Each day, a `0` becomes a `6` and adds a new `8` to the end of the list, while each other number decreases by 1 if it was present at the start of the day.\n",
    "\n",
    "In this example, after 18 days, there are a total of `26` fish. After 80 days, there would be a total of `_5934_`.\n",
    "\n",
    "Find a way to simulate lanternfish. _How many lanternfish would there be after 80 days?_\n",
    "\n",
    "_Using the input file `input.txt`, the result should be 345387._"
   ]
  },
  {
   "cell_type": "code",
   "execution_count": 2,
   "id": "29c61ee2",
   "metadata": {},
   "outputs": [],
   "source": [
    "# IMPORTANT: Set this to the correct path for you!\n",
    "INPUT_FILE = \"data/input.txt\""
   ]
  },
  {
   "cell_type": "markdown",
   "id": "354cec18",
   "metadata": {},
   "source": [
    "## Baseline solution\n",
    "\n",
    "Motivated by the visual explanation given in the problem statement, we can simulate the growth of the population of lanternship:"
   ]
  },
  {
   "cell_type": "code",
   "execution_count": 7,
   "id": "74ca4576",
   "metadata": {},
   "outputs": [
    {
     "name": "stdout",
     "output_type": "stream",
     "text": [
      "345387\n"
     ]
    }
   ],
   "source": [
    "with open(INPUT_FILE, \"r\") as f:\n",
    "    fish_pop = [int(num) for num in f.readline().split(\",\")]\n",
    "\n",
    "for _ in range(80):\n",
    "    new = 0\n",
    "    for idx in range(len(fish_pop)):\n",
    "        fish_pop[idx] -= 1\n",
    "        if fish_pop[idx] < 0:\n",
    "            new += 1\n",
    "            fish_pop[idx] = 6\n",
    "    fish_pop += [8] * new\n",
    "\n",
    "print(len(fish_pop))"
   ]
  },
  {
   "cell_type": "markdown",
   "id": "cdc095d2",
   "metadata": {},
   "source": [
    "The above is a first attempt at solving the problem, and I would like to take this example code to point out a few alternative ways of doing some common tasks.\n",
    "\n",
    "The first thing I'd like to point out is that the simulation doesn't care about the number of cycles we already went through, and that is why the outer `for` loop has a `_` as the variable name: `for _ in range(80)`.\n",
    "This is an idiomatic way of saying that all iterations of the loop do exactly the same thing.\n",
    "\n",
    "Next, a `for` loop of the form `for ... in range(len(...))` is generally _not_ what you want to do.\n",
    "In this particular case, we can improve our `for` loop a bit more by using the built-in `enumerate`:"
   ]
  },
  {
   "cell_type": "code",
   "execution_count": 8,
   "id": "5578c994",
   "metadata": {},
   "outputs": [
    {
     "name": "stdout",
     "output_type": "stream",
     "text": [
      "345387\n"
     ]
    }
   ],
   "source": [
    "with open(INPUT_FILE, \"r\") as f:\n",
    "    fish_pop = [int(num) for num in f.readline().split(\",\")]\n",
    "\n",
    "for _ in range(80):\n",
    "    new = 0\n",
    "    for idx, state in enumerate(fish_pop):\n",
    "        fish_pop[idx] -= 1\n",
    "        if state == 0:\n",
    "            new += 1\n",
    "            fish_pop[idx] = 6\n",
    "    fish_pop += [8] * new\n",
    "\n",
    "print(len(fish_pop))"
   ]
  },
  {
   "cell_type": "markdown",
   "id": "05484ece",
   "metadata": {},
   "source": [
    "## Part 2 problem statement\n",
    "\n",
    "Suppose the lanternfish live forever and have unlimited food and space. Would they take over the entire ocean?\n",
    "\n",
    "After 256 days in the example above, there would be a total of `_26984457539_` lanternfish!\n",
    "\n",
    "_How many lanternfish would there be after 256 days?_\n",
    "\n",
    "_Using the input file `input.txt`, the result should be 1574445493136._"
   ]
  },
  {
   "cell_type": "markdown",
   "id": "699e2411",
   "metadata": {},
   "source": [
    "## Exponential space complexity\n",
    "\n",
    "The part 1 problem statement mentions that the population of lanternfish grows _exponentially_, and programmers generally don't like things that grow exponentially: if an algorithm's space – or time – complexity is exponential, that means you will run out of space – or time – astoundingly quickly!\n",
    "\n",
    "Thus, things won't go well for us if we try running the same code as above, but for `256` days – even though `256` is such a “small” number!\n",
    "\n",
    "Therefore, we need to reduce the space-complexity of our solution.\n",
    "\n",
    "To do that, we can realise that we don't need to have a single integer for each fish, we can very well just keep track of how many fish are in each state of their life cycles!\n",
    "\n",
    "Let's use a list for that, where `fish_pop[idx]` contains the number of fish with internal timer set to `idx`:"
   ]
  },
  {
   "cell_type": "code",
   "execution_count": 11,
   "id": "2fdcb123",
   "metadata": {},
   "outputs": [
    {
     "name": "stdout",
     "output_type": "stream",
     "text": [
      "[143094129622, 173596785972, 178948425837, 195663384795, 224807310351, 222191335428, 275179254454, 118788062918, 150307958118]\n",
      "1682576647495\n"
     ]
    }
   ],
   "source": [
    "with open(INPUT_FILE, \"r\") as f:\n",
    "    fish_input = [int(num) for num in f.readline().split(\",\")]\n",
    "\n",
    "# fish_pop = [fish_input.count(idx) for idx in range(9)]\n",
    "\n",
    "fish_pop = [0] * 9\n",
    "for fish in fish_input:\n",
    "    fish_pop[fish] += 1\n",
    "\n",
    "for _ in range(256):\n",
    "    zeros = fish_pop[0]\n",
    "    for timer in range(1, 9):\n",
    "        fish_pop[timer - 1] = fish_pop[timer]\n",
    "    fish_pop[8] = zeros\n",
    "    fish_pop[6] += zeros\n",
    "    \n",
    "print(sum(fish_pop))"
   ]
  },
  {
   "cell_type": "markdown",
   "id": "0945c174",
   "metadata": {},
   "source": [
    "This solution is very fast and its space complexity went down from $O(2^n)$ to $O(1)$ (from exponential to constant), where $n$ is the number of iterations.\n",
    "That's one heck of an improvement!"
   ]
  },
  {
   "cell_type": "markdown",
   "id": "e513eb87",
   "metadata": {},
   "source": [
    "## Fighting asymmetries\n",
    "\n",
    "It's only day 6, and you are probably tired of hearing me talk about asymmetries, but the code above shows a clearly asymmetry: index `8` has to be handled separately.\n",
    "\n",
    "Why is that?\n",
    "Because index `8` would get the value from index `0`, but that value is written over as soon as the `timer` loop starts, so we need to store the value at index `0` for later.\n",
    "\n",
    "Now, you might be wondering whether or not you could write the `for` loop as `for timer in range(9)`.\n",
    "After all, when `timer = 0`, we have `fish_pop[-1] = fish_pop[0]`, and an index of `-1` means “the last element”, which is `fish_pop[8]` in this case.\n",
    "This _could_ work, except that now we are writing over `fish_pop[8]` before we update the value in `fish_pop[7]`, so we have this cyclical issue...\n",
    "\n",
    "But what if we exploit the cyclical nature of the updates?\n",
    "Using slices, we should be able to cycle the data around:"
   ]
  },
  {
   "cell_type": "code",
   "execution_count": 16,
   "id": "f82fdd98",
   "metadata": {},
   "outputs": [
    {
     "name": "stdout",
     "output_type": "stream",
     "text": [
      "1574445493136\n"
     ]
    }
   ],
   "source": [
    "with open(INPUT_FILE, \"r\") as f:\n",
    "    fish_input = [int(num) for num in f.readline().split(\",\")]\n",
    "\n",
    "fish_pop = [0] * 9\n",
    "for fish in fish_input:\n",
    "    fish_pop[fish] += 1\n",
    "\n",
    "for _ in range(256):\n",
    "    fish_pop = fish_pop[1:] + [fish_pop[0]]\n",
    "    fish_pop[6] += fish_pop[-1]\n",
    "    \n",
    "print(sum(fish_pop))"
   ]
  },
  {
   "cell_type": "markdown",
   "id": "74a2646e",
   "metadata": {},
   "source": [
    "We just need to be careful about how we increment the count of fish that have reproduced.\n",
    "After the cycle it's `fish_pop[6] += fish_pop[-1]`, because the fish that had a timer at `0` were just moved to the end.\n",
    "If we do it _before_ the cycle, it becomes `fish_pop[7] += fish_pop[0]`:"
   ]
  },
  {
   "cell_type": "code",
   "execution_count": 17,
   "id": "8152b745",
   "metadata": {},
   "outputs": [
    {
     "name": "stdout",
     "output_type": "stream",
     "text": [
      "1574445493136\n"
     ]
    }
   ],
   "source": [
    "with open(INPUT_FILE, \"r\") as f:\n",
    "    fish_input = [int(num) for num in f.readline().split(\",\")]\n",
    "\n",
    "fish_pop = [0] * 9\n",
    "for fish in fish_input:\n",
    "    fish_pop[fish] += 1\n",
    "\n",
    "for _ in range(256):\n",
    "    fish_pop[7] += fish_pop[0]\n",
    "    fish_pop = fish_pop[1:] + [fish_pop[0]]\n",
    "    \n",
    "print(sum(fish_pop))"
   ]
  },
  {
   "cell_type": "markdown",
   "id": "4e83700b",
   "metadata": {},
   "source": [
    "## Stationary data and wrapping with `%`\n",
    "\n",
    "We are exploiting the cyclicity of the updates, but we keep moving data around.\n",
    "Even though it sounds conceptually simple, slicing a list produces a new every time, and moving the data around can be painful for Python.\n",
    "\n",
    "The price we are paying isn't a price that we can't afford, but sometimes we need to find ways of moving less data around.\n",
    "For our case, instead of rotating the list, we can keep create a `pointer` variable that keeps track of the position of the list that should be _seen_ as the beginning of the list.\n",
    "\n",
    "Finally, we can use “pointer arithmetics” to figure out what position should get incremented by what position.\n",
    "\n",
    "Take a look at the following excerpt from the previous solution:\n",
    "\n",
    "```py\n",
    "for _ in range(256):\n",
    "    fish_pop[7] += fish_pop[0]               # updating births\n",
    "    fish_pop = fish_pop[1:] + [fish_pop[0]]  # cycling\n",
    "```\n",
    "\n",
    "The cycling operation is now simulated by incrementing the pointer, which points at the number of fish that will reproduce next.\n",
    "The operation of updating births is taking the fish at position `0` (the fish that will reproduce next) and adding them to position `7`, so it's as if the pointer were `pointer = 0` and the line of code was `fish_pop[pointer + 7] = fish_pop[pointer]`.\n",
    "\n",
    "However, this won't work:"
   ]
  },
  {
   "cell_type": "code",
   "execution_count": 20,
   "id": "f208bbb3",
   "metadata": {},
   "outputs": [
    {
     "ename": "IndexError",
     "evalue": "list index out of range",
     "output_type": "error",
     "traceback": [
      "\u001b[1;31m---------------------------------------------------------------------------\u001b[0m",
      "\u001b[1;31mIndexError\u001b[0m                                Traceback (most recent call last)",
      "\u001b[1;32m~\\AppData\\Local\\Temp/ipykernel_16712/2671766908.py\u001b[0m in \u001b[0;36m<module>\u001b[1;34m\u001b[0m\n\u001b[0;32m      8\u001b[0m \u001b[0mpointer\u001b[0m \u001b[1;33m=\u001b[0m \u001b[1;36m0\u001b[0m\u001b[1;33m\u001b[0m\u001b[1;33m\u001b[0m\u001b[0m\n\u001b[0;32m      9\u001b[0m \u001b[1;32mfor\u001b[0m \u001b[0m_\u001b[0m \u001b[1;32min\u001b[0m \u001b[0mrange\u001b[0m\u001b[1;33m(\u001b[0m\u001b[1;36m256\u001b[0m\u001b[1;33m)\u001b[0m\u001b[1;33m:\u001b[0m\u001b[1;33m\u001b[0m\u001b[1;33m\u001b[0m\u001b[0m\n\u001b[1;32m---> 10\u001b[1;33m     \u001b[0mfish_pop\u001b[0m\u001b[1;33m[\u001b[0m\u001b[0mpointer\u001b[0m \u001b[1;33m+\u001b[0m \u001b[1;36m7\u001b[0m\u001b[1;33m]\u001b[0m \u001b[1;33m+=\u001b[0m \u001b[0mfish_pop\u001b[0m\u001b[1;33m[\u001b[0m\u001b[0mpointer\u001b[0m\u001b[1;33m]\u001b[0m\u001b[1;33m\u001b[0m\u001b[1;33m\u001b[0m\u001b[0m\n\u001b[0m\u001b[0;32m     11\u001b[0m     \u001b[0mpointer\u001b[0m \u001b[1;33m+=\u001b[0m \u001b[1;36m1\u001b[0m\u001b[1;33m\u001b[0m\u001b[1;33m\u001b[0m\u001b[0m\n\u001b[0;32m     12\u001b[0m \u001b[1;33m\u001b[0m\u001b[0m\n",
      "\u001b[1;31mIndexError\u001b[0m: list index out of range"
     ]
    }
   ],
   "source": [
    "with open(INPUT_FILE, \"r\") as f:\n",
    "    fish_input = [int(num) for num in f.readline().split(\",\")]\n",
    "\n",
    "fish_pop = [0] * 9\n",
    "for fish in fish_input:\n",
    "    fish_pop[fish] += 1\n",
    "\n",
    "pointer = 0\n",
    "for _ in range(256):\n",
    "    fish_pop[pointer + 7] += fish_pop[pointer]\n",
    "    pointer += 1\n",
    "    \n",
    "print(sum(fish_pop))"
   ]
  },
  {
   "cell_type": "markdown",
   "id": "db922acf",
   "metadata": {},
   "source": [
    "This doesn't work because the variable `pointer` quickly grows too large to be able to index into the list.\n",
    "To fix this, and to simulate the cyclicity/wrapping around, we use the modulo operator `%`.\n",
    "\n",
    "By using the modulo operator with the length of the list, we can keep incrementing the `pointer` and _always_ have it point to a valid index.\n",
    "\n",
    "Here is a simple demonstration of that:"
   ]
  },
  {
   "cell_type": "code",
   "execution_count": 21,
   "id": "6ef7c19f",
   "metadata": {},
   "outputs": [
    {
     "name": "stdout",
     "output_type": "stream",
     "text": [
      "a b c d e a b c d e a b c d e a b c d e "
     ]
    }
   ],
   "source": [
    "s = \"abcde\"\n",
    "for idx in range(20):\n",
    "    print(s[idx % len(s)], end=\" \")"
   ]
  },
  {
   "cell_type": "markdown",
   "id": "ea3792fc",
   "metadata": {},
   "source": [
    "Notice how `idx` grew up to `19`, but the `%` ensured we kept cycling through the elements of `s`.\n",
    "\n",
    "For our problem, we need to use `%` to make sure that our “pointer arithmetics” always produce legal indices:"
   ]
  },
  {
   "cell_type": "code",
   "execution_count": 22,
   "id": "cec1bf0c",
   "metadata": {},
   "outputs": [
    {
     "name": "stdout",
     "output_type": "stream",
     "text": [
      "1574445493136\n"
     ]
    }
   ],
   "source": [
    "with open(INPUT_FILE, \"r\") as f:\n",
    "    fish_input = [int(num) for num in f.readline().split(\",\")]\n",
    "\n",
    "fish_pop = [0] * 9\n",
    "for fish in fish_input:\n",
    "    fish_pop[fish] += 1\n",
    "\n",
    "pointer = 0\n",
    "for _ in range(256):\n",
    "    fish_pop[(pointer + 7) % 9] += fish_pop[pointer]\n",
    "    pointer = (pointer + 1) % 9\n",
    "    \n",
    "print(sum(fish_pop))"
   ]
  },
  {
   "cell_type": "markdown",
   "id": "75d6dc50",
   "metadata": {},
   "source": [
    "## Proper cycling\n",
    "\n",
    "To close off this chapter of cycling without moving data around, I will introduce you to the `itertools.cycle` function, which does exactly what I demonstrated with `s` above:"
   ]
  },
  {
   "cell_type": "code",
   "execution_count": 23,
   "id": "697846ad",
   "metadata": {},
   "outputs": [
    {
     "name": "stdout",
     "output_type": "stream",
     "text": [
      "a b c d e a b c d e a b c d e a b c d e "
     ]
    }
   ],
   "source": [
    "from itertools import cycle\n",
    "\n",
    "s = \"abcde\"\n",
    "for char, _ in zip(cycle(s), range(20)):\n",
    "    print(char, end=\" \")"
   ]
  },
  {
   "cell_type": "markdown",
   "id": "acefa7e4",
   "metadata": {},
   "source": [
    "The usage of `cycle` allows us to continuously cycle through the elements of `s`.\n",
    "We had to `zip` that with `range(20)` to print `20` characters, otherwise we would keep on going.\n",
    "\n",
    "Alternatively, we can make use of yet another `itertools` tool that we can use to slice iterators – even if they are infinite! – as shown here:"
   ]
  },
  {
   "cell_type": "code",
   "execution_count": 24,
   "id": "0fab61a9",
   "metadata": {},
   "outputs": [
    {
     "name": "stdout",
     "output_type": "stream",
     "text": [
      "a b c d e a b c d e a b c d e a b c d e "
     ]
    }
   ],
   "source": [
    "from itertools import cycle, islice\n",
    "\n",
    "s = \"abcde\"\n",
    "for char in islice(cycle(s), 20):\n",
    "    print(char, end=\" \")"
   ]
  },
  {
   "cell_type": "markdown",
   "id": "2f9f0b80",
   "metadata": {},
   "source": [
    "Using `cycle` and `islice`, we don't even need to manage the `pointer` ourselves:"
   ]
  },
  {
   "cell_type": "code",
   "execution_count": 26,
   "id": "6bc09720",
   "metadata": {},
   "outputs": [
    {
     "name": "stdout",
     "output_type": "stream",
     "text": [
      "1574445493136\n"
     ]
    }
   ],
   "source": [
    "from itertools import cycle, islice\n",
    "\n",
    "with open(INPUT_FILE, \"r\") as f:\n",
    "    fish_input = [int(num) for num in f.readline().split(\",\")]\n",
    "\n",
    "fish_pop = [0] * 9\n",
    "for fish in fish_input:\n",
    "    fish_pop[fish] += 1\n",
    "\n",
    "for pointer in islice(cycle(range(9)), 256):\n",
    "    fish_pop[(pointer + 7) % 9] += fish_pop[pointer]\n",
    "    \n",
    "print(sum(fish_pop))"
   ]
  },
  {
   "cell_type": "markdown",
   "id": "86fe3a82",
   "metadata": {},
   "source": [
    "## Do not count by hand\n",
    "\n",
    "Ok, I lied.\n",
    "There is one more thing I would like to mention in this family of solutions:\n",
    "with Python, there really is not reason for you to count things by hand.\n",
    "You've met `collections.Counter`, so why not use it to count the initial fish states?"
   ]
  },
  {
   "cell_type": "code",
   "execution_count": 32,
   "id": "4f347de8",
   "metadata": {},
   "outputs": [
    {
     "name": "stdout",
     "output_type": "stream",
     "text": [
      "1574445493136\n"
     ]
    }
   ],
   "source": [
    "from collections import Counter\n",
    "from itertools import cycle, islice\n",
    "\n",
    "with open(INPUT_FILE, \"r\") as f:\n",
    "    fish_pop = Counter(int(num) for num in f.readline().split(\",\"))\n",
    "\n",
    "for pointer in islice(cycle(range(9)), 256):\n",
    "    fish_pop[(pointer + 7) % 9] += fish_pop[pointer]\n",
    "    \n",
    "print(fish_pop.total())  # Counter.total new in Python 3.10."
   ]
  },
  {
   "cell_type": "markdown",
   "id": "7ec4f109",
   "metadata": {},
   "source": [
    "## Part 3 problem statement\n",
    "\n",
    "This part 3 was put forward by a user of the exclusive Discord area for the bootcamp participants:\n",
    "\n",
    "Compute the total number of fish available after $10^{12}$ cycles, modulo 1000000007.\n",
    "\n",
    "Our $O(n)$ method will _not_ be able to cope with this.\n",
    "I invite you to give it a go!\n",
    "\n",
    "So, we have to figure out a faster method..."
   ]
  },
  {
   "cell_type": "markdown",
   "id": "8f5cfcdd",
   "metadata": {},
   "source": [
    "## What about time efficiency?\n",
    "\n",
    "We have explored a very space-efficient solution.\n",
    "It's as efficient as they come.\n",
    "\n",
    "But what about time efficiency?\n",
    "\n",
    "Can we build a solution that is better than $O(n)$, where $n$ is the number of cycles we need to go through?\n",
    "\n",
    "As it turns out, we can!\n",
    "\n",
    "Have you ever heard about the [Fibonacci sequence](https://en.wikipedia.org/wiki/Fibonacci_number)?\n",
    "Like it or not, I am sure you have.\n",
    "\n",
    "Much like the backstory to this problem includes lanternfish reproducing, the Fibonacci sequence is sometimes defined as the rate with which rabbits reproduce (in an idealised scenario).\n",
    "Quoting the [Wikipedia article](https://en.wikipedia.org/wiki/Fibonacci_number#History):\n",
    "\n",
    " > “Fibonacci considers the growth of an idealized (biologically unrealistic) [rabbit](https://en.wikipedia.org/wiki/Rabbit \"Rabbit\") population, assuming that:\n",
    " > a newly born breeding pair of rabbits are put in a field;\n",
    " > each breeding pair mates at the age of one month, and at the end of their second month they always produce another pair of rabbits;\n",
    " > and rabbits never die, but continue breeding forever.\n",
    " > Fibonacci posed the puzzle: how many pairs will there be in one year?\n",
    " >\n",
    " > -   At the end of the first month, they mate, but there is still only 1 pair.\n",
    " > -   At the end of the second month they produce a new pair, so there are 2 pairs in the field.\n",
    " > -   At the end of the third month, the original pair produce a second pair, but the second pair only mate without breeding, so there are 3 pairs in all.\n",
    " > -   At the end of the fourth month, the original pair has produced yet another new pair, and the pair born two months ago also produces their first pair, making 5 pairs.”\n",
    "\n",
    "As you can see, there are some similarities in the backstories associated with these two sequences.\n",
    "In fact, the problem of computing terms of this sequence is mathematically equivalent to computing terms of the Fibonacci sequence.\n",
    "As the Internet will tell you, you _can_ compute terms of the Fibonacci sequence and thus so can you do it for this sequence.\n",
    "\n",
    "(The discussion that follows assumes you are familiar with matrix multiplication.)\n",
    "\n",
    "We start by building a matrix and a vector:\n",
    "\n",
    " - we build a matrix $A$ that encodes how the counts of fish are updated from one step to the other;\n",
    " - we represent the original counts of fish in a column vector $v$;\n",
    "\n",
    "At this point, $Av$ computes the fish count after one cycle; $A^2v$ computes the fish after two cycles; and $A^nv$ computes the fish counts after $n$ cycles.\n",
    "If one uses [exponentiation by squaring](https://en.wikipedia.org/wiki/Exponentiation_by_squaring) to compute $A^n$, then we can compute $A^n$ in $O(\\log n)$ time!"
   ]
  },
  {
   "cell_type": "markdown",
   "id": "9487180d",
   "metadata": {},
   "source": [
    "## Building the matrix\n",
    "\n",
    "Let's use $x_i$ to represent the nine positions of the vector we have been working with, that keeps track of the fish counts, where $i$ matches the index in the list:\n",
    "\n",
    "$$\n",
    "x = \\begin{bmatrix}\n",
    "x_0 \\\\\n",
    "x_1 \\\\\n",
    "x_2 \\\\\n",
    "x_3 \\\\\n",
    "x_4 \\\\\n",
    "x_5 \\\\\n",
    "x_6 \\\\\n",
    "x_7 \\\\\n",
    "x_8\\end{bmatrix}\n",
    "$$\n",
    "\n",
    "$x_0$ represents the number of fish that are _ready_ to reproduce, $x_1$ represents the number of fish that will reproduce after one cycle, etc.\n",
    "\n",
    "After one cycle, the new vector is updated to look like this:\n",
    "\n",
    "$$\n",
    "x' = \\begin{bmatrix}\n",
    "x_1 \\\\\n",
    "x_2 \\\\\n",
    "x_3 \\\\\n",
    "x_4 \\\\\n",
    "x_5 \\\\\n",
    "x_6 \\\\\n",
    "x_7 + x_0 \\\\\n",
    "x_8 \\\\\n",
    "x_0\\end{bmatrix}\n",
    "$$\n",
    "\n",
    "What we need to do is build a matrix $A$ such that $x' = Ax$.\n",
    "Thankfully, the matrix isn't too complicated:\n",
    "\n",
    "$$\n",
    "\\begin{bmatrix}\n",
    "0 & 1 & 0 & 0 & 0 & 0 & 0 & 0 & 0\\\\ \n",
    "0 & 0 & 1 & 0 & 0 & 0 & 0 & 0 & 0\\\\ \n",
    "0 & 0 & 0 & 1 & 0 & 0 & 0 & 0 & 0\\\\ \n",
    "0 & 0 & 0 & 0 & 1 & 0 & 0 & 0 & 0\\\\ \n",
    "0 & 0 & 0 & 0 & 0 & 1 & 0 & 0 & 0\\\\ \n",
    "0 & 0 & 0 & 0 & 0 & 0 & 1 & 0 & 0\\\\ \n",
    "1 & 0 & 0 & 0 & 0 & 0 & 0 & 1 & 0\\\\ \n",
    "0 & 0 & 0 & 0 & 0 & 0 & 0 & 0 & 1\\\\ \n",
    "1 & 0 & 0 & 0 & 0 & 0 & 0 & 0 & 0\n",
    "\\end{bmatrix}\n",
    "$$\n",
    "\n",
    "Notice how there is a diagonal of 1s going down the matrix, and there are two loose 1s to the left, near the bottom.\n",
    "\n",
    "In Python, we can represent this matrix by"
   ]
  },
  {
   "cell_type": "code",
   "execution_count": 33,
   "id": "231b74a6",
   "metadata": {},
   "outputs": [],
   "source": [
    "A = [\n",
    "    [0, 1, 0, 0, 0, 0, 0, 0, 0],\n",
    "    [0, 0, 1, 0, 0, 0, 0, 0, 0],\n",
    "    [0, 0, 0, 1, 0, 0, 0, 0, 0],\n",
    "    [0, 0, 0, 0, 1, 0, 0, 0, 0],\n",
    "    [0, 0, 0, 0, 0, 1, 0, 0, 0],\n",
    "    [0, 0, 0, 0, 0, 0, 1, 0, 0],\n",
    "    [1, 0, 0, 0, 0, 0, 0, 1, 0],\n",
    "    [0, 0, 0, 0, 0, 0, 0, 0, 1],\n",
    "    [1, 0, 0, 0, 0, 0, 0, 0, 0],\n",
    "]"
   ]
  },
  {
   "cell_type": "markdown",
   "id": "b4b38f65",
   "metadata": {},
   "source": [
    "Ideally, we would use something like `numpy` to represent this matrix and to do the matrix multiplications.\n",
    "Because I don't want to assume you have any particular dependencies installed, we can take this opportunity to exercise our coding muscles: matrix multiplication is a classical algorithm everyone should implement once in their lifetime:"
   ]
  },
  {
   "cell_type": "code",
   "execution_count": 44,
   "id": "a8db8366",
   "metadata": {},
   "outputs": [],
   "source": [
    "def matmul(A, B):\n",
    "    \"\"\"Perform matrix multiplication between A and B.\"\"\"\n",
    "    return [[sum(a * b for a, b in zip(row, col)) for col in zip(*B)]for row in A]"
   ]
  },
  {
   "cell_type": "markdown",
   "id": "809f4cc2",
   "metadata": {},
   "source": [
    "## Exponentiation by squaring\n",
    "\n",
    "The method of exponentiation by squaring is a clever method to speed up exponentiation.\n",
    "\n",
    "The operation $A^n$ takes $O(n)$ time if you compute it as $A \\times A \\times A \\times \\cdots \\times A$.\n",
    "Instead, we decompose $n$ into its binary expansion, and use that information to compute $A^n$ in $O(\\log n)$.\n",
    "(You can refer to [this link](https://en.wikipedia.org/wiki/Exponentiation_by_squaring#Basic_method) for a brief overview of how this works.)\n",
    "\n",
    "We can implement it like so:"
   ]
  },
  {
   "cell_type": "code",
   "execution_count": 73,
   "id": "9215e5e5",
   "metadata": {},
   "outputs": [],
   "source": [
    "def fast_power(A, n):\n",
    "    if n == 1:\n",
    "        return A\n",
    "    elif n % 2:\n",
    "        return A * fast_power(A * A, n // 2)\n",
    "    else:\n",
    "        return fast_power(A * A, n // 2)"
   ]
  },
  {
   "cell_type": "code",
   "execution_count": 74,
   "id": "d6f94adb",
   "metadata": {},
   "outputs": [
    {
     "data": {
      "text/plain": [
       "131072"
      ]
     },
     "execution_count": 74,
     "metadata": {},
     "output_type": "execute_result"
    }
   ],
   "source": [
    "fast_power(2, 17)"
   ]
  },
  {
   "cell_type": "code",
   "execution_count": 75,
   "id": "fe1e929d",
   "metadata": {},
   "outputs": [
    {
     "data": {
      "text/plain": [
       "131072"
      ]
     },
     "execution_count": 75,
     "metadata": {},
     "output_type": "execute_result"
    }
   ],
   "source": [
    "pow(2, 17)"
   ]
  },
  {
   "cell_type": "markdown",
   "id": "6613c121",
   "metadata": {},
   "source": [
    "The (recursive) definition of `fast_power` above isn't as complete as it could be because it doesn't handle all edge cases (what about `n == 0` or negative `n`?) but is enough for our purposes.\n",
    "\n",
    "We just need to make it a _bit_ more general to accept an optional argument that implements multiplication for the parameter `A`:"
   ]
  },
  {
   "cell_type": "code",
   "execution_count": 96,
   "id": "50966327",
   "metadata": {},
   "outputs": [],
   "source": [
    "from operator import mul\n",
    "\n",
    "def fast_power(A, n, mul=mul):\n",
    "    if n == 1:\n",
    "        return A\n",
    "    elif n % 2:\n",
    "        return mul(A, fast_power(mul(A, A), n // 2, mul))\n",
    "    else:\n",
    "        return fast_power(mul(A, A), n // 2, mul)"
   ]
  },
  {
   "cell_type": "code",
   "execution_count": 97,
   "id": "bb70e21a",
   "metadata": {},
   "outputs": [
    {
     "data": {
      "text/plain": [
       "131072"
      ]
     },
     "execution_count": 97,
     "metadata": {},
     "output_type": "execute_result"
    }
   ],
   "source": [
    "fast_power(2, 17)"
   ]
  },
  {
   "cell_type": "markdown",
   "id": "0886be02",
   "metadata": {},
   "source": [
    "## Computing the total number of fish with matrix multiplication\n",
    "\n",
    "Now that we know how to exponentiate $A$, we can put everything together and make sure it's working:"
   ]
  },
  {
   "cell_type": "code",
   "execution_count": 106,
   "id": "314a0312",
   "metadata": {},
   "outputs": [
    {
     "name": "stdout",
     "output_type": "stream",
     "text": [
      "1574445493136\n"
     ]
    }
   ],
   "source": [
    "from collections import Counter\n",
    "from itertools import cycle, islice\n",
    "\n",
    "with open(INPUT_FILE, \"r\") as f:\n",
    "    fish_pop = Counter(int(num) for num in f.readline().split(\",\"))\n",
    "\n",
    "vec = [[fish_pop[i]] for i in range(9)]  # [[x0], [x1], ...] for a column vector.\n",
    "A256 = fast_power(A, 256, matmul)\n",
    "end = matmul(A256, vec)\n",
    "print(sum(v[0] for v in end))"
   ]
  },
  {
   "cell_type": "markdown",
   "id": "ac8f4797",
   "metadata": {},
   "source": [
    "## Power-modulo\n",
    "\n",
    "The reason that part 3 asks for the result modulo 1000000007 is because numbers will **explode** if we don't use a modulo to keep them “small”.\n",
    "\n",
    "In order to do the modulo operation, we can just modify our function `matmul`:"
   ]
  },
  {
   "cell_type": "code",
   "execution_count": 107,
   "id": "3960a8e6",
   "metadata": {},
   "outputs": [],
   "source": [
    "def matmul(A, B, mod=None):\n",
    "    \"\"\"Perform matrix multiplication between A and B, optionally modulo mod.\"\"\"\n",
    "    res = [[sum(a * b for a, b in zip(row, col)) for col in zip(*B)]for row in A]\n",
    "    if mod is not None:\n",
    "        res = [[val % mod for val in row] for row in res]\n",
    "    return res"
   ]
  },
  {
   "cell_type": "markdown",
   "id": "53b9e0b9",
   "metadata": {},
   "source": [
    "Above, we checked that our method computes the correct solution for 256 cycles, and the correct answer was 1574445493136, so the correct answer is 93136 if we compute it modulo 100000.\n",
    "Let's see if it adds up with our new function `matmul`:"
   ]
  },
  {
   "cell_type": "code",
   "execution_count": 110,
   "id": "d11b44fd",
   "metadata": {},
   "outputs": [
    {
     "name": "stdout",
     "output_type": "stream",
     "text": [
      "93136\n"
     ]
    }
   ],
   "source": [
    "A256 = fast_power(A, 256, lambda A, B: matmul(A, B, 100000))\n",
    "end = matmul(A256, vec, 100000)\n",
    "print(sum(v[0] for v in end) % 100000)"
   ]
  },
  {
   "cell_type": "markdown",
   "id": "05aee71f",
   "metadata": {},
   "source": [
    "Finally, we can check if our fast method can cope with the $10^{12}$ (that's 1,000,000,000,000) cycles:"
   ]
  },
  {
   "cell_type": "code",
   "execution_count": 111,
   "id": "106c5bad",
   "metadata": {},
   "outputs": [
    {
     "name": "stdout",
     "output_type": "stream",
     "text": [
      "53123166\n"
     ]
    }
   ],
   "source": [
    "mod = 1000000007\n",
    "A_ = fast_power(A, 10 ** 12, lambda A, B: matmul(A, B, mod))\n",
    "end = matmul(A_, vec, mod)\n",
    "print(sum(v[0] for v in end) % mod)"
   ]
  },
  {
   "cell_type": "markdown",
   "id": "b9ca24d9",
   "metadata": {},
   "source": [
    "Well, I have _no_ idea if this is correct 😂\n",
    "But I have a strong suspicion it _is_, and it was computed blazingly fast!\n",
    "I'm _still_ waiting for the linear method above to finish..."
   ]
  },
  {
   "cell_type": "markdown",
   "id": "e44defb0",
   "metadata": {},
   "source": [
    "## Conclusion\n",
    "\n",
    "In order to write an algorithm that was fast, we drew inspiration from a similar problem: the Fibonacci sequence.\n",
    "This is _extremely_ important: the more problems you solve, the more techniques, algorithms, tricks, etc, you learn.\n",
    "Ultimately, this is one of the key characteristics of a good problem-solver: experience.\n",
    "\n",
    "If you have any questions, suggestions, remarks, recommendations, corrections, or anything else, you can reach out to me [on Twitter](https://twitter.com/mathsppblog) or via email to rodrigo at mathspp dot com."
   ]
  },
  {
   "cell_type": "code",
   "execution_count": null,
   "id": "292f08b2",
   "metadata": {},
   "outputs": [],
   "source": []
  }
 ],
 "metadata": {
  "kernelspec": {
   "display_name": "Python 3",
   "language": "python",
   "name": "python3"
  },
  "language_info": {
   "codemirror_mode": {
    "name": "ipython",
    "version": 3
   },
   "file_extension": ".py",
   "mimetype": "text/x-python",
   "name": "python",
   "nbconvert_exporter": "python",
   "pygments_lexer": "ipython3",
   "version": "3.8.8"
  },
  "toc": {
   "base_numbering": 1,
   "nav_menu": {},
   "number_sections": false,
   "sideBar": true,
   "skip_h1_title": true,
   "title_cell": "Table of Contents",
   "title_sidebar": "Contents",
   "toc_cell": false,
   "toc_position": {},
   "toc_section_display": true,
   "toc_window_display": false
  }
 },
 "nbformat": 4,
 "nbformat_minor": 5
}
