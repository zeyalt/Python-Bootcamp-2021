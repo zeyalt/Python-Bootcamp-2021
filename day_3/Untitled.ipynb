{
 "cells": [
  {
   "cell_type": "code",
   "execution_count": 1,
   "id": "0ddb6e98",
   "metadata": {},
   "outputs": [],
   "source": [
    "import os\n",
    "from datetime import datetime\n",
    "\n",
    "import requests\n",
    "from bs4 import BeautifulSoup\n",
    "\n",
    "current_day = datetime.now().day\n",
    "current_folder = f'Day {current_day}'\n",
    "os.makedirs(current_folder, exist_ok=True)\n",
    "readme_path = os.path.join(current_folder, 'README.md')\n",
    "\n",
    "url = f'https://adventofcode.com/{datetime.now().year}/day/{current_day}'\n",
    "COOKIE = os.environ.get('COOKIE', '')\n",
    "headers = {\n",
    "    'cookie': f'session={COOKIE}'\n",
    "}\n",
    "\n",
    "response = requests.get(url, headers=headers)\n",
    "soup = BeautifulSoup(response.content)\n",
    "\n",
    "content = ''\n",
    "for block in soup.find_all('article', class_='day-desc'):\n",
    "    content += str(block)\n",
    "\n",
    "content = content.replace(str(soup.h2),f'<h2><a href=\"{url}\">{soup.h2.text}</a></h2>') \n",
    "\n",
    "with open(readme_path, 'w', encoding='utf-8') as f:\n",
    "    f.write(content)"
   ]
  }
 ],
 "metadata": {
  "kernelspec": {
   "display_name": "Python 3",
   "language": "python",
   "name": "python3"
  },
  "language_info": {
   "codemirror_mode": {
    "name": "ipython",
    "version": 3
   },
   "file_extension": ".py",
   "mimetype": "text/x-python",
   "name": "python",
   "nbconvert_exporter": "python",
   "pygments_lexer": "ipython3",
   "version": "3.8.8"
  }
 },
 "nbformat": 4,
 "nbformat_minor": 5
}
