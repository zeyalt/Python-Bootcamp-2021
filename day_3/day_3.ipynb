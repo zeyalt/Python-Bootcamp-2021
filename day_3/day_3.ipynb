{
 "cells": [
  {
   "cell_type": "markdown",
   "metadata": {},
   "source": [
    "# Python Bootcamp: Advent of Code (Day 3)"
   ]
  },
  {
   "cell_type": "markdown",
   "metadata": {},
   "source": [
    "## 1. Puzzle 1"
   ]
  },
  {
   "cell_type": "markdown",
   "metadata": {},
   "source": [
    "### 1.1 My Solution"
   ]
  },
  {
   "cell_type": "code",
   "execution_count": 66,
   "metadata": {},
   "outputs": [
    {
     "data": {
      "text/plain": [
       "['111010101100',\n",
       " '100001001100',\n",
       " '000111101100',\n",
       " '100100000000',\n",
       " '001001001110']"
      ]
     },
     "execution_count": 66,
     "metadata": {},
     "output_type": "execute_result"
    }
   ],
   "source": [
    "# Read input file\n",
    "with open('data/input.txt') as f:\n",
    "    lines = f.readlines()\n",
    "\n",
    "# Remove '\\n' from each element\n",
    "lines = [ele.rstrip('\\n') for ele in lines]\n",
    "\n",
    "# Sanity check\n",
    "lines[:5]"
   ]
  },
  {
   "cell_type": "markdown",
   "metadata": {},
   "source": [
    "Finding Gamma"
   ]
  },
  {
   "cell_type": "code",
   "execution_count": 140,
   "metadata": {
    "scrolled": false
   },
   "outputs": [
    {
     "name": "stdout",
     "output_type": "stream",
     "text": [
      "Gamma: 111100111111\n"
     ]
    }
   ],
   "source": [
    "gamma = ''\n",
    "for pos in range(len(lines[0])):\n",
    "    count_zero = 0\n",
    "    count_one = 0\n",
    "    for ele in lines:\n",
    "        if ele[pos] == '0':\n",
    "            count_zero += 1\n",
    "        else:\n",
    "            count_one += 1\n",
    "            \n",
    "    gamma = gamma + '1' if count_one > count_zero else gamma + '0'\n",
    "\n",
    "print(\"Gamma:\", gamma)"
   ]
  },
  {
   "cell_type": "markdown",
   "metadata": {},
   "source": [
    "Finding Epsilon"
   ]
  },
  {
   "cell_type": "code",
   "execution_count": 148,
   "metadata": {},
   "outputs": [
    {
     "name": "stdout",
     "output_type": "stream",
     "text": [
      "Epsilon: 000011000000\n"
     ]
    }
   ],
   "source": [
    "eps = ''\n",
    "for char in gamma:\n",
    "    eps = eps + '0' if char == '1' else eps + '1'\n",
    "\n",
    "print(\"Epsilon:\", eps)"
   ]
  },
  {
   "cell_type": "markdown",
   "metadata": {},
   "source": [
    "Computing the power consumption"
   ]
  },
  {
   "cell_type": "code",
   "execution_count": 151,
   "metadata": {},
   "outputs": [
    {
     "name": "stdout",
     "output_type": "stream",
     "text": [
      "Gamma in decimal: 3903\n",
      "Epsilon in decimal: 192\n",
      "Power consumption in decimal: 749376\n"
     ]
    }
   ],
   "source": [
    "print(\"Gamma in decimal:\", int(gamma, 2))\n",
    "print(\"Epsilon in decimal:\", int(eps, 2))\n",
    "print(\"Power consumption in decimal:\", int(gamma, 2) * int(eps, 2))"
   ]
  },
  {
   "cell_type": "markdown",
   "metadata": {},
   "source": [
    "## 2. Puzzle 2"
   ]
  },
  {
   "cell_type": "markdown",
   "metadata": {},
   "source": [
    "### 2.1 My Solution"
   ]
  },
  {
   "cell_type": "code",
   "execution_count": 152,
   "metadata": {},
   "outputs": [
    {
     "name": "stdout",
     "output_type": "stream",
     "text": [
      "Oxygen generator rating: 111100011111\n"
     ]
    }
   ],
   "source": [
    "input_1 = lines.copy()\n",
    "\n",
    "for pos in range(len(lines[0])):\n",
    "    count_zero = 0\n",
    "    count_one = 0\n",
    "    for ele in input_1: # change this\n",
    "        if ele[pos] == '0':\n",
    "            count_zero += 1\n",
    "        else:\n",
    "            count_one += 1\n",
    "\n",
    "    # Keep only those with '1' in that position        \n",
    "    if count_one > count_zero:\n",
    "        input_1 = [ele for ele in input_1 if ele[pos] == '1']\n",
    "\n",
    "    # Keep only those with '0' in that position        \n",
    "    elif count_zero > count_one:\n",
    "        input_1 = [ele for ele in input_1 if ele[pos] == '0']\n",
    "\n",
    "    # Keep only those with '1' in that position        \n",
    "    else:\n",
    "        input_1 = [ele for ele in input_1 if ele[pos] == '1']\n",
    "\n",
    "    # As soon as there's only one item left in the list, stop.\n",
    "    if len(input_1) == 1:\n",
    "        break\n",
    "        \n",
    "oxygen = input_1[0]\n",
    "print(\"Oxygen generator rating:\", oxygen)"
   ]
  },
  {
   "cell_type": "code",
   "execution_count": 153,
   "metadata": {},
   "outputs": [
    {
     "name": "stdout",
     "output_type": "stream",
     "text": [
      "CO2 generator rating: 001001100101\n"
     ]
    }
   ],
   "source": [
    "input_2 = lines.copy()\n",
    "\n",
    "for pos in range(len(lines[0])):\n",
    "    count_zero = 0\n",
    "    count_one = 0\n",
    "    for ele in input_2: \n",
    "        if ele[pos] == '0':\n",
    "            count_zero += 1\n",
    "        else:\n",
    "            count_one += 1\n",
    "    \n",
    "    # Keep only those with '0' in that position            \n",
    "    if count_one > count_zero:\n",
    "        input_2 = [ele for ele in input_2 if ele[pos] == '0']\n",
    "\n",
    "    # Keep only those with '1' in that position        \n",
    "    elif count_zero > count_one:\n",
    "        input_2 = [ele for ele in input_2 if ele[pos] == '1']\n",
    "\n",
    "    # Keep only those with '0' in that position            \n",
    "    else:\n",
    "        input_2 = [ele for ele in input_2 if ele[pos] == '0']\n",
    "\n",
    "    if len(input_2) == 1:\n",
    "        break\n",
    "        \n",
    "    co2 = input_2[0]\n",
    "print(\"CO2 generator rating:\", co2)"
   ]
  },
  {
   "cell_type": "code",
   "execution_count": 154,
   "metadata": {},
   "outputs": [
    {
     "name": "stdout",
     "output_type": "stream",
     "text": [
      "Life support rating: 2372923\n"
     ]
    }
   ],
   "source": [
    "print(\"Life support rating:\", int(oxygen, 2) * int(co2, 2))"
   ]
  }
 ],
 "metadata": {
  "interpreter": {
   "hash": "c9008ba995d2c46f7a8a8b57a00346eea774fcdf0db2b71700344559b6c212be"
  },
  "kernelspec": {
   "display_name": "Python 3",
   "language": "python",
   "name": "python3"
  },
  "language_info": {
   "codemirror_mode": {
    "name": "ipython",
    "version": 3
   },
   "file_extension": ".py",
   "mimetype": "text/x-python",
   "name": "python",
   "nbconvert_exporter": "python",
   "pygments_lexer": "ipython3",
   "version": "3.8.8"
  }
 },
 "nbformat": 4,
 "nbformat_minor": 2
}
