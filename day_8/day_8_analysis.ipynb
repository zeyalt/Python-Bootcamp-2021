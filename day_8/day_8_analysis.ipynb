{
 "cells": [
  {
   "cell_type": "markdown",
   "id": "bb21942f",
   "metadata": {},
   "source": [
    "# Seven Segment Search\n",
    "\n",
    "The analysis that follows pertains to the eigth day of the [Python Problem-Solving Bootcamp](https://mathspp.com/pythonbootcamp).\n",
    "\n",
    "In the analysis that follows you may be confronted with code that you do not understand, especially as you reach the end of the explanation of each part.\n",
    "\n",
    "If you find functions that you didn't know before, remember to [check the docs](https://docs.python.org/3/) for those functions and play around with them in the REPL.\n",
    "This is written to be increasing in difficulty (within each part of the problem), so it is understandable if it gets harder as you keep reading.\n",
    "That's perfectly fine, you don't have to understand everything _right now_, especially because I can't know for sure what _your level_ is."
   ]
  },
  {
   "cell_type": "markdown",
   "id": "318f8485",
   "metadata": {},
   "source": [
    "## Part 1 problem statement\n",
    "\n",
    "(From [Advent of Code 2021, day 8](https://adventofcode.com/2021/day/8))\n",
    "\n",
    "You barely reach the safety of the cave when the whale smashes into the cave mouth, collapsing it. Sensors indicate another exit to this cave at a much greater depth, so you have no choice but to press on.\n",
    "\n",
    "As your submarine slowly makes its way through the cave system, you notice that the four-digit [seven-segment displays](https://en.wikipedia.org/wiki/Seven-segment_display) in your submarine are malfunctioning; they must have been damaged during the escape. You'll be in a lot of trouble without them, so you'd better figure out what's wrong.\n",
    "\n",
    "Each digit of a seven-segment display is rendered by turning on or off any of seven segments named `a` through `g`:\n",
    "\n",
    "```\n",
    "  0:      1:      2:      3:      4:\n",
    " aaaa    ....    aaaa    aaaa    ....\n",
    "b    c  .    c  .    c  .    c  b    c\n",
    "b    c  .    c  .    c  .    c  b    c\n",
    " ....    ....    dddd    dddd    dddd\n",
    "e    f  .    f  e    .  .    f  .    f\n",
    "e    f  .    f  e    .  .    f  .    f\n",
    " gggg    ....    gggg    gggg    ....\n",
    "\n",
    "  5:      6:      7:      8:      9:\n",
    " aaaa    aaaa    aaaa    aaaa    aaaa\n",
    "b    .  b    .  .    c  b    c  b    c\n",
    "b    .  b    .  .    c  b    c  b    c\n",
    " dddd    dddd    ....    dddd    dddd\n",
    ".    f  e    f  .    f  e    f  .    f\n",
    ".    f  e    f  .    f  e    f  .    f\n",
    " gggg    gggg    ....    gggg    gggg\n",
    "```\n",
    "\n",
    "So, to render a `1`, only segments `c` and `f` would be turned on; the rest would be off. To render a `7`, only segments `a`, `c`, and `f` would be turned on.\n",
    "\n",
    "The problem is that the signals which control the segments have been mixed up on each display. The submarine is still trying to display numbers by producing output on signal wires `a` through `g`, but those wires are connected to segments _randomly_. Worse, the wire/segment connections are mixed up separately for each four-digit display! (All of the digits _within_ a display use the same connections, though.)\n",
    "\n",
    "So, you might know that only signal wires `b` and `g` are turned on, but that doesn't mean _segments_ `b` and `g` are turned on: the only digit that uses two segments is `1`, so it must mean segments `c` and `f` are meant to be on. With just that information, you still can't tell which wire (`b`/`g`) goes to which segment (`c`/`f`). For that, you'll need to collect more information.\n",
    "\n",
    "For each display, you watch the changing signals for a while, make a note of _all ten unique signal patterns_ you see, and then write down a single _four digit output value_ (your puzzle input). Using the signal patterns, you should be able to work out which pattern corresponds to which digit.\n",
    "\n",
    "For example, here is what you might see in a single entry in your notes:\n",
    "\n",
    "```\n",
    "acedgfb cdfbe gcdfa fbcad dab cefabd cdfgeb eafb cagedb ab |\n",
    "cdfeb fcadb cdfeb cdbaf\n",
    "```\n",
    "\n",
    "(The entry is wrapped here to two lines so it fits; in your notes, it will all be on a single line.)\n",
    "\n",
    "Each entry consists of ten _unique signal patterns_, a `|` delimiter, and finally the _four digit output value_. Within an entry, the same wire/segment connections are used (but you don't know what the connections actually are). The unique signal patterns correspond to the ten different ways the submarine tries to render a digit using the current wire/segment connections. Because `7` is the only digit that uses three segments, `dab` in the above example means that to render a `7`, signal lines `d`, `a`, and `b` are on. Because `4` is the only digit that uses four segments, `eafb` means that to render a `4`, signal lines `e`, `a`, `f`, and `b` are on.\n",
    "\n",
    "Using this information, you should be able to work out which combination of signal wires corresponds to each of the ten digits. Then, you can decode the four digit output value. Unfortunately, in the above example, all of the digits in the output value (`cdfeb fcadb cdfeb cdbaf`) use five segments and are more difficult to deduce.\n",
    "\n",
    "For now, _focus on the easy digits_. Consider this larger example:\n",
    "\n",
    "```\n",
    "be cfbegad cbdgef fgaecd cgeb fdcge agebfd fecdb fabcd edb |\n",
    "fdgacbe cefdb cefbgd gcbe\n",
    "edbfga begcd cbg gc gcadebf fbgde acbgfd abcde gfcbed gfec |\n",
    "fcgedb cgb dgebacf gc\n",
    "fgaebd cg bdaec gdafb agbcfd gdcbef bgcad gfac gcb cdgabef |\n",
    "cg cg fdcagb cbg\n",
    "fbegcd cbd adcefb dageb afcb bc aefdc ecdab fgdeca fcdbega |\n",
    "efabcd cedba gadfec cb\n",
    "aecbfdg fbg gf bafeg dbefa fcge gcbea fcaegb dgceab fcbdga |\n",
    "gecf egdcabf bgf bfgea\n",
    "fgeab ca afcebg bdacfeg cfaedg gcfdb baec bfadeg bafgc acf |\n",
    "gebdcfa ecba ca fadegcb\n",
    "dbcfg fgd bdegcaf fgec aegbdf ecdfab fbedc dacgb gdcebf gf |\n",
    "cefg dcbef fcge gbcadfe\n",
    "bdfegc cbegaf gecbf dfcage bdacg ed bedf ced adcbefg gebcd |\n",
    "ed bcgafe cdgba cbgef\n",
    "egadfb cdbfeg cegd fecab cgb gbdefca cg fgcdab egfdb bfceg |\n",
    "gbdfcae bgc cg cgb\n",
    "gcafb gcf dcaebfg ecagb gf abcdeg gaef cafbge fdbac fegbdc |\n",
    "fgae cfgab fg bagce\n",
    "```\n",
    "\n",
    "Because the digits `1`, `4`, `7`, and `8` each use a unique number of segments, you should be able to tell which combinations of signals correspond to those digits. Counting _only digits in the output values_ (the part after `|` on each line), in the above example, there are `26` instances of digits that use a unique number of segments (highlighted above).\n",
    "\n",
    "_In the output values, how many times do digits `1`, `4`, `7`, or `8` appear?_\n",
    "\n",
    "_Using the input file `input.txt`, the result should be `264`._"
   ]
  },
  {
   "cell_type": "code",
   "execution_count": 1,
   "id": "a57006b6",
   "metadata": {},
   "outputs": [],
   "source": [
    "# IMPORTANT: Set this to the correct path for you!\n",
    "INPUT_FILE = \"input.txt\""
   ]
  },
  {
   "cell_type": "markdown",
   "id": "8ee86e29",
   "metadata": {},
   "source": [
    "## Baseline solution\n",
    "\n",
    "Our baseline solution is going to be pretty simple, and we are going to be using much of what we learned so far, so there will not be much to talk about:"
   ]
  },
  {
   "cell_type": "code",
   "execution_count": 2,
   "id": "b155b9ae",
   "metadata": {},
   "outputs": [
    {
     "name": "stdout",
     "output_type": "stream",
     "text": [
      "264\n"
     ]
    }
   ],
   "source": [
    "from collections import Counter\n",
    "\n",
    "# Digit i uses SEGMENTS[i] segments.\n",
    "SEGMENTS = [6, 2, 5, 5, 4, 5, 6, 3, 7, 6]\n",
    "\n",
    "with open(INPUT_FILE, \"r\") as f:\n",
    "    lines = f.readlines()\n",
    "\n",
    "c = Counter()\n",
    "for line in lines:\n",
    "    c.update(len(hint) for hint in line.split(\" | \")[1].split())\n",
    "print(sum(c[SEGMENTS[i]] for i in [1, 4, 7, 8]))"
   ]
  },
  {
   "cell_type": "markdown",
   "id": "4ff9b079",
   "metadata": {},
   "source": [
    "Assuming you have taken a look at the previous analyses, this solution should be fairly straightforward to you.\n",
    "Here are some of the key points:\n",
    "\n",
    " - we use a `collections.Counter` object to keep track of all the length counts we have found;\n",
    " - the method `.update` was used to update the `collections.Counter` object with the new counts;\n",
    " - we use the `.readlines` method inside the context manager to read all lines and only do the processing outside of the context manager – because the contents of the file are small enough that we can hold everything in memory, we can close the file as soon as possible;\n",
    " - we use the method `.split` and indexing to build a list of the segment strings to the right of `\" | \"` directly; and\n",
    " - we encode the number of segments each digit needs in a list, where the index of the value represents implicitly the digit it refers to."
   ]
  },
  {
   "cell_type": "markdown",
   "id": "846ba5f8",
   "metadata": {},
   "source": [
    "## TMI\n",
    "\n",
    "TMI is an acronym that stands for “too much information”.\n",
    "In this particular case, it refers to the fact that, even though our solution was simple, it contains “too much” information that we could easily do without.\n",
    "\n",
    "This is something that I find myself doing quite often: am I doing what was asked, or am I doing much more than needed?\n",
    "Over-delivering is a nice touch, but you have to make sure you _also_ do what was asked of you.\n",
    "For this alternative solution, I just want to show you what a solution that _only_ counts if a combination of signals is relevant or not:"
   ]
  },
  {
   "cell_type": "code",
   "execution_count": 3,
   "id": "02a659e0",
   "metadata": {},
   "outputs": [
    {
     "name": "stdout",
     "output_type": "stream",
     "text": [
      "264\n"
     ]
    }
   ],
   "source": [
    "from collections import Counter\n",
    "from itertools import chain\n",
    "\n",
    "LENGTHS = {2, 3, 4, 7}\n",
    "\n",
    "with open(INPUT_FILE, \"r\") as f:\n",
    "    lines = f.readlines()\n",
    "\n",
    "acc = 0\n",
    "for line in lines:\n",
    "    for digit_signals in line.split(\" | \")[1].split():\n",
    "        acc += len(digit_signals) in LENGTHS\n",
    "print(acc)"
   ]
  },
  {
   "cell_type": "markdown",
   "id": "e93113ee",
   "metadata": {},
   "source": [
    "In this version we only keep track of what we need and we use our trick that converts a conditional increment into an increment with a Boolean value:\n",
    "the line `acc += len(digit_signals) in LENGTHS` is functionally equivalent to\n",
    "\n",
    "```py\n",
    "if len(digit_signals) in LENGTHS:\n",
    "    acc += 1\n",
    "```\n",
    "\n",
    "but let's you write your code with less flow control.\n",
    "I am a personal fan of flatter code, so I leave this here for your consideration.\n",
    "\n",
    "However, in writing this algorithm, we created a double `for` loop and an accumulator variable.\n",
    "I have nothing against double `for` loops, but I am not a fan of accumulator variables.\n",
    "Let's try to make `acc` go away by slowly reworking the `for` loops.\n",
    "\n",
    "We start by rewriting the inner `for` loop:"
   ]
  },
  {
   "cell_type": "code",
   "execution_count": 4,
   "id": "5b12b9ca",
   "metadata": {},
   "outputs": [
    {
     "name": "stdout",
     "output_type": "stream",
     "text": [
      "264\n"
     ]
    }
   ],
   "source": [
    "acc = 0\n",
    "for line in lines:\n",
    "    acc += sum(len(signals) in LENGTHS for signals in line.split(\" | \")[1].split())\n",
    "print(acc)"
   ]
  },
  {
   "cell_type": "markdown",
   "id": "5d6094c7",
   "metadata": {},
   "source": [
    "And now we can remove the outer one, by having it inside the list comprehension as well:"
   ]
  },
  {
   "cell_type": "code",
   "execution_count": 5,
   "id": "9d4dabed",
   "metadata": {},
   "outputs": [
    {
     "name": "stdout",
     "output_type": "stream",
     "text": [
      "264\n"
     ]
    }
   ],
   "source": [
    "acc = sum(len(signals) in LENGTHS for line in lines for signals in line.split(\" | \")[1].split())\n",
    "print(acc)"
   ]
  },
  {
   "cell_type": "markdown",
   "id": "45b389e3",
   "metadata": {},
   "source": [
    "The issue here is that we have a _very_ long line and a list comprehension with two `for` loops.\n",
    "We can make the line shorter by breaking it up:"
   ]
  },
  {
   "cell_type": "code",
   "execution_count": 6,
   "id": "bfc26bb4",
   "metadata": {},
   "outputs": [
    {
     "name": "stdout",
     "output_type": "stream",
     "text": [
      "264\n"
     ]
    }
   ],
   "source": [
    "acc = sum(\n",
    "    len(signals) in LENGTHS\n",
    "    for line in lines for signals in line.split(\" | \")[1].split()\n",
    ")\n",
    "print(acc)"
   ]
  },
  {
   "cell_type": "markdown",
   "id": "8678c5a1",
   "metadata": {},
   "source": [
    "But this is stretching a bit the levels of decency for a list comprehension.\n",
    "Let's try another approach."
   ]
  },
  {
   "cell_type": "markdown",
   "id": "a783a11a",
   "metadata": {},
   "source": [
    "## Make it (more) functional\n",
    "\n",
    "Instead of using list comprehensions, let's use an explicit `map` (a staple of functional programming) and another tool from the module `itertools` to rewrite our code without accumulator variables:"
   ]
  },
  {
   "cell_type": "code",
   "execution_count": 7,
   "id": "fe3a122c",
   "metadata": {},
   "outputs": [
    {
     "name": "stdout",
     "output_type": "stream",
     "text": [
      "264\n"
     ]
    }
   ],
   "source": [
    "from itertools import chain\n",
    "\n",
    "parsed = map(lambda line: line.split(\" | \")[1].split(), lines)\n",
    "acc = sum(len(signals) in LENGTHS for signals in chain.from_iterable(parsed))\n",
    "print(acc)"
   ]
  },
  {
   "cell_type": "markdown",
   "id": "427d91fe",
   "metadata": {},
   "source": [
    "The idea behind the variable `parsed` is that we can use `map` to apply the basic parsing (or processing) to each line: all we want to do is split the line in two (along the separator `\" | \"`), take the right-hand side, and split that along the spaces.\n",
    "\n",
    "Then, the usage of the function `chain.from_iterable` from the module `itertools` builds up on a simple, yet important, fact: all signal combinations from all lines are to be treated exactly the same.\n",
    "So, `parsed` will build an iterable containing iterables:"
   ]
  },
  {
   "cell_type": "code",
   "execution_count": 8,
   "id": "25fca465",
   "metadata": {},
   "outputs": [
    {
     "data": {
      "text/plain": [
       "[['eg', 'eg', 'dfecag', 'ge'],\n",
       " ['deg', 'baced', 'fegac', 'aefbcg'],\n",
       " ['gcadef', 'eacgbf', 'egdfb', 'bgdfe'],\n",
       " ['cd', 'cd', 'agfbd', 'bdac'],\n",
       " ['faec', 'ceaf', 'bcedgaf', 'cfbga']]"
      ]
     },
     "execution_count": 8,
     "metadata": {},
     "output_type": "execute_result"
    }
   ],
   "source": [
    "parsed = map(lambda line: line.split(\" | \")[1].split(), lines[:5])\n",
    "list(parsed)"
   ]
  },
  {
   "cell_type": "markdown",
   "id": "d9ac617f",
   "metadata": {},
   "source": [
    "But we want to iterate over all those strings, regardless of what line they were on, so we can use `chain.from_iterable` to flatten those up:"
   ]
  },
  {
   "cell_type": "code",
   "execution_count": 9,
   "id": "9f0d399f",
   "metadata": {},
   "outputs": [
    {
     "data": {
      "text/plain": [
       "['eg',\n",
       " 'eg',\n",
       " 'dfecag',\n",
       " 'ge',\n",
       " 'deg',\n",
       " 'baced',\n",
       " 'fegac',\n",
       " 'aefbcg',\n",
       " 'gcadef',\n",
       " 'eacgbf',\n",
       " 'egdfb',\n",
       " 'bgdfe',\n",
       " 'cd',\n",
       " 'cd',\n",
       " 'agfbd',\n",
       " 'bdac',\n",
       " 'faec',\n",
       " 'ceaf',\n",
       " 'bcedgaf',\n",
       " 'cfbga']"
      ]
     },
     "execution_count": 9,
     "metadata": {},
     "output_type": "execute_result"
    }
   ],
   "source": [
    "parsed = map(lambda line: line.split(\" | \")[1].split(), lines[:5])\n",
    "list(chain.from_iterable(parsed))"
   ]
  },
  {
   "cell_type": "markdown",
   "id": "74c31d48",
   "metadata": {},
   "source": [
    "After flattening the iterable `parsed`, we can go over all the different signals and check their strings.\n",
    "\n",
    "A nice nuance, though, is that both the `map` and the `chain.from_iterable` result in _lazy_ generators, thus the data is being computed on the fly, and you don't need to spend huge amounts of memory to hold everything in lists or other data structures of the like."
   ]
  },
  {
   "cell_type": "markdown",
   "id": "c15ea7f1",
   "metadata": {},
   "source": [
    "## Part 2 problem statement\n",
    "\n",
    "Through a little deduction, you should now be able to determine the remaining digits. Consider again the first example above:\n",
    "\n",
    "```\n",
    "acedgfb cdfbe gcdfa fbcad dab cefabd cdfgeb eafb cagedb ab |\n",
    "cdfeb fcadb cdfeb cdbaf\n",
    "```\n",
    "\n",
    "After some careful analysis, the mapping between signal wires and segments only make sense in the following configuration:\n",
    "\n",
    "```\n",
    " dddd\n",
    "e    a\n",
    "e    a\n",
    " ffff\n",
    "g    b\n",
    "g    b\n",
    " cccc\n",
    "```\n",
    "\n",
    "So, the unique signal patterns would correspond to the following digits:\n",
    "\n",
    "-   `acedgfb`: `8`\n",
    "-   `cdfbe`: `5`\n",
    "-   `gcdfa`: `2`\n",
    "-   `fbcad`: `3`\n",
    "-   `dab`: `7`\n",
    "-   `cefabd`: `9`\n",
    "-   `cdfgeb`: `6`\n",
    "-   `eafb`: `4`\n",
    "-   `cagedb`: `0`\n",
    "-   `ab`: `1`\n",
    "\n",
    "Then, the four digits of the output value can be decoded:\n",
    "\n",
    "-   `cdfeb`: `5`\n",
    "-   `fcadb`: `3`\n",
    "-   `cdfeb`: `5`\n",
    "-   `cdbaf`: `3`\n",
    "\n",
    "Therefore, the output value for this entry is `5353`.\n",
    "\n",
    "Following this same process for each entry in the second, larger example above, the output value of each entry can be determined:\n",
    "\n",
    "-   `fdgacbe cefdb cefbgd gcbe`: `8394`\n",
    "-   `fcgedb cgb dgebacf gc`: `9781`\n",
    "-   `cg cg fdcagb cbg`: `1197`\n",
    "-   `efabcd cedba gadfec cb`: `9361`\n",
    "-   `gecf egdcabf bgf bfgea`: `4873`\n",
    "-   `gebdcfa ecba ca fadegcb`: `8418`\n",
    "-   `cefg dcbef fcge gbcadfe`: `4548`\n",
    "-   `ed bcgafe cdgba cbgef`: `1625`\n",
    "-   `gbdfcae bgc cg cgb`: `8717`\n",
    "-   `fgae cfgab fg bagce`: `4315`\n",
    "\n",
    "Adding all of the output values in this larger example produces `61229`.\n",
    "\n",
    "For each entry, determine all of the wire/segment connections and decode the four-digit output values. _What do you get if you add up all of the output values?_\n",
    "\n",
    "_Using the input file `input.txt`, the result should be `1063760`._"
   ]
  },
  {
   "cell_type": "markdown",
   "id": "da533a84",
   "metadata": {},
   "source": [
    "## Generating permutations\n",
    "\n",
    "Our baseline solution to this problem follows a simple principle: if the signal letteres are all mixed up, we will sort them out by trying every single ordering of the segments, and then check if it works.\n",
    "\n",
    "For us to try every single ordering of the segments, we need to able to generate those orderings.\n",
    "A possible solution entails generating all strings of length `7`, and then only keeping those that make use of each of the letters in `\"abcdefgh\"`:"
   ]
  },
  {
   "cell_type": "code",
   "execution_count": 10,
   "id": "0715df61",
   "metadata": {},
   "outputs": [
    {
     "name": "stdout",
     "output_type": "stream",
     "text": [
      "['abcdefg', 'abcdegf', 'abcdfeg', 'abcdfge', 'abcdgef', 'abcdgfe', 'abcedfg']\n"
     ]
    }
   ],
   "source": [
    "def all_orderings(letters):\n",
    "    def aux(length):\n",
    "        if not length:\n",
    "            return [\"\"]\n",
    "\n",
    "        orderings = aux(length - 1)\n",
    "        return [ordering + char for ordering in orderings for char in letters]\n",
    "    \n",
    "    orderings = aux(7)\n",
    "    letters = set(letters)\n",
    "    return [ordering for ordering in orderings if letters == set(ordering)]\n",
    "\n",
    "orderings = all_orderings(\"abcdefg\")\n",
    "print(orderings[:7])"
   ]
  },
  {
   "cell_type": "markdown",
   "id": "9dd13e5d",
   "metadata": {},
   "source": [
    "This works well, in the sense that it produces the correct result, but it is _really_ wasteful!\n",
    "\n",
    "In fact, there are $5040$ possible orderings of the signals:"
   ]
  },
  {
   "cell_type": "code",
   "execution_count": 11,
   "id": "73ffef5a",
   "metadata": {},
   "outputs": [
    {
     "data": {
      "text/plain": [
       "5040"
      ]
     },
     "execution_count": 11,
     "metadata": {},
     "output_type": "execute_result"
    }
   ],
   "source": [
    "len(orderings)"
   ]
  },
  {
   "cell_type": "markdown",
   "id": "08c4c465",
   "metadata": {},
   "source": [
    "And yet, our function `all_orderings` starts by generating $7^7 = 823,543$ strings, only to filter out _most_ of them later.\n",
    "In fact, we use less than $1\\%$ of the work done, which is to say we waste more than $99\\%$ of the things we computed.\n",
    "Not to mention we have to hold those $823,543$ strings in memory.\n",
    "\n",
    "Let's try to do better, by only making use of the characters that we have _not_ used so far:"
   ]
  },
  {
   "cell_type": "code",
   "execution_count": 12,
   "id": "cdd813fc",
   "metadata": {},
   "outputs": [
    {
     "name": "stdout",
     "output_type": "stream",
     "text": [
      "['abcdefg', 'abcdegf', 'abcdfeg', 'abcdfge', 'abcdgef', 'abcdgfe', 'abcedfg']\n",
      "5040\n"
     ]
    }
   ],
   "source": [
    "def all_orderings(letters):\n",
    "    if not letters:\n",
    "        return [\"\"]\n",
    "\n",
    "    results = []\n",
    "    for idx, letter in enumerate(letters):\n",
    "        for ordering in all_orderings(letters[:idx] + letters[idx + 1:]):\n",
    "            results.append(letter + ordering)\n",
    "    return results\n",
    "\n",
    "orderings = all_orderings(\"abcdefg\")\n",
    "print(orderings[:7])\n",
    "print(len(orderings))"
   ]
  },
  {
   "cell_type": "markdown",
   "id": "06b31fd5",
   "metadata": {},
   "source": [
    "Once more, we have an accumulator variable that we could do away without:"
   ]
  },
  {
   "cell_type": "code",
   "execution_count": 13,
   "id": "80f3bcdb",
   "metadata": {},
   "outputs": [
    {
     "name": "stdout",
     "output_type": "stream",
     "text": [
      "['abcdefg', 'abcdegf', 'abcdfeg', 'abcdfge', 'abcdgef', 'abcdgfe', 'abcedfg']\n",
      "5040\n"
     ]
    }
   ],
   "source": [
    "def all_orderings(letters):\n",
    "    if not letters:\n",
    "        return [\"\"]\n",
    "\n",
    "    return [\n",
    "        letter + ordering for idx, letter in enumerate(letters)\n",
    "        for ordering in all_orderings(letters[:idx] + letters[idx + 1:])\n",
    "    ]\n",
    "\n",
    "orderings = all_orderings(\"abcdefg\")\n",
    "print(orderings[:7])\n",
    "print(len(orderings))"
   ]
  },
  {
   "cell_type": "markdown",
   "id": "128c8f2d",
   "metadata": {},
   "source": [
    "We produced a function `all_orderings` that accepts a strings and returns all possible orderings of those letters.\n",
    "In other words, we are producing all [permutations](https://en.wikipedia.org/wiki/Permutation) of a single string.\n",
    "For our particular implementation, we went with a recursive function.\n",
    "\n",
    "Can you write a function that generates all permutations of a string without recursion?\n",
    "(I am of the personal opinion that combinatorics-related functions are great exercises.)\n",
    "\n",
    "However, all of our work is moot if we just get to know the standard library a bit better, because the module `itertools` contains the right tool for the job:"
   ]
  },
  {
   "cell_type": "code",
   "execution_count": 14,
   "id": "65581226",
   "metadata": {},
   "outputs": [
    {
     "name": "stdout",
     "output_type": "stream",
     "text": [
      "[('a', 'b', 'c', 'd', 'e', 'f', 'g'), ('a', 'b', 'c', 'd', 'e', 'g', 'f'), ('a', 'b', 'c', 'd', 'f', 'e', 'g'), ('a', 'b', 'c', 'd', 'f', 'g', 'e'), ('a', 'b', 'c', 'd', 'g', 'e', 'f'), ('a', 'b', 'c', 'd', 'g', 'f', 'e'), ('a', 'b', 'c', 'e', 'd', 'f', 'g')]\n",
      "5040\n"
     ]
    }
   ],
   "source": [
    "from itertools import permutations\n",
    "\n",
    "orderings = list(permutations(\"abcdefg\"))\n",
    "print(orderings[:7])\n",
    "print(len(orderings))"
   ]
  },
  {
   "cell_type": "markdown",
   "id": "de3ddb6a",
   "metadata": {},
   "source": [
    "The result, as we can see, is slightly different from before, because `permutations` returns tuples with the several elements.\n",
    "On top of that, `permutations` is lazy like `zip` or `enumerate` (or many others): it only generates the data as we ask for it.\n",
    "If we just call `permutations`, nothing useful gets printed because no actual permutations were computed yet:"
   ]
  },
  {
   "cell_type": "code",
   "execution_count": 15,
   "id": "97a58e96",
   "metadata": {},
   "outputs": [
    {
     "data": {
      "text/plain": [
       "<itertools.permutations at 0x1ae3d000db0>"
      ]
     },
     "execution_count": 15,
     "metadata": {},
     "output_type": "execute_result"
    }
   ],
   "source": [
    "permutations(\"abcdefg\")"
   ]
  },
  {
   "cell_type": "markdown",
   "id": "7c05c072",
   "metadata": {},
   "source": [
    "## Brute-force solution\n",
    "\n",
    "Now that we have a way of generating all the different permutations of the letters `\"abcdefg\"`, we can implement our brute-force solution.\n",
    "It is going to work this way:\n",
    "\n",
    " - we pre-compute all possible ways of reordering the signals based off of the permutations of `\"abcdefg\"` (pre-computing them means we save time across lines of the input);\n",
    " - we are going to read the input line by line and split it into the left and right-hand sides of the `\" | \"`;\n",
    " - we are going to look for the correct ordering of the signals based off of the left-hand side of the input line; and\n",
    " - when the correct ordering is found, we use it to transform the right-hand side signals and we compute the code.\n",
    "\n",
    "How do we know if a given ordering is the correct one?\n",
    "Let's revisit the example above:\n",
    "\n",
    "The input line\n",
    "\n",
    "```\n",
    "acedgfb cdfbe gcdfa fbcad dab cefabd cdfgeb eafb cagedb ab |\n",
    "cdfeb fcadb cdfeb cdbaf\n",
    "```\n",
    "\n",
    "matches this reordering of the signals:\n",
    "\n",
    "```\n",
    " dddd\n",
    "e    a\n",
    "e    a\n",
    " ffff\n",
    "g    b\n",
    "g    b\n",
    " cccc\n",
    "```\n",
    "\n",
    "This would be represented by the string `\"deafgbc\"`, which maps to `\"abcdefg\"` to produce the original ordering of the segments:\n",
    "\n",
    "```\n",
    " aaaa\n",
    "b    c\n",
    "b    c\n",
    " dddd\n",
    "e    f\n",
    "e    f\n",
    " gggg\n",
    "```\n",
    "\n",
    "So, for each ordering, like `\"deafgbc\"`, we map it to `\"abcdefg\"` and figure out what digits are being represented.\n",
    "For example, the original input line contained the signals `\"cdfbe\"`, which would represent the following digit:\n",
    "\n",
    "```\n",
    " dddd\n",
    "e    .\n",
    "e    .\n",
    " ffff\n",
    ".    b\n",
    ".    b\n",
    " cccc\n",
    "```\n",
    "\n",
    "This is a 5, so this is a hint that the ordering `\"deafgbc\"` could be the correct ordering.\n",
    "For an ordering to be correct, we must be able to build all _ten_ digits out of the original input line.\n",
    "An ordering is incorrect when it maps to something that is not a valid digit.\n",
    "\n",
    "For example, for the same input line, the ordering `\"decfgba\"` would map to this ordering of the segments:\n",
    "\n",
    "```\n",
    " dddd\n",
    "e    c\n",
    "e    c\n",
    " ffff\n",
    "g    b\n",
    "g    b\n",
    " aaaa\n",
    "```\n",
    "\n",
    "which means that the signals `\"cdfbe\"` now represent the following:\n",
    "\n",
    "```\n",
    " dddd\n",
    "e    c\n",
    "e    c\n",
    " ffff\n",
    ".    b\n",
    ".    b\n",
    " ....\n",
    "```\n",
    "\n",
    "which is not a valid digit.\n",
    "So, this is what we have to do.\n",
    "\n",
    "For example, we can use a helper function `translate` to take an ordering and the input signals, and return the set of translated segments:"
   ]
  },
  {
   "cell_type": "code",
   "execution_count": 16,
   "id": "3bb9fb2c",
   "metadata": {},
   "outputs": [],
   "source": [
    "def translate(ordering, digit):\n",
    "    return {\"abcdefg\"[ordering.index(char)] for char in digit}"
   ]
  },
  {
   "cell_type": "markdown",
   "id": "45d10ac5",
   "metadata": {},
   "source": [
    "How does this work?\n",
    "\n",
    "Well, first we need the segment information of all digits:"
   ]
  },
  {
   "cell_type": "code",
   "execution_count": 17,
   "id": "6cfbfb20",
   "metadata": {},
   "outputs": [
    {
     "data": {
      "text/plain": [
       "[{'a', 'b', 'c', 'e', 'f', 'g'},\n",
       " {'c', 'f'},\n",
       " {'a', 'c', 'd', 'e', 'g'},\n",
       " {'a', 'c', 'd', 'f', 'g'},\n",
       " {'b', 'c', 'd', 'f'},\n",
       " {'a', 'b', 'd', 'f', 'g'},\n",
       " {'a', 'b', 'd', 'e', 'f', 'g'},\n",
       " {'a', 'c', 'f'},\n",
       " {'a', 'b', 'c', 'd', 'e', 'f', 'g'},\n",
       " {'a', 'b', 'c', 'd', 'f', 'g'}]"
      ]
     },
     "execution_count": 17,
     "metadata": {},
     "output_type": "execute_result"
    }
   ],
   "source": [
    "SEGMENTS = [\n",
    "    set(\"abcefg\"),\n",
    "    set(\"cf\"),\n",
    "    set(\"acdeg\"),\n",
    "    set(\"acdfg\"),\n",
    "    set(\"bcdf\"),\n",
    "    set(\"abdfg\"),\n",
    "    set(\"abdefg\"),\n",
    "    set(\"acf\"),\n",
    "    set(\"abcdefg\"),\n",
    "    set(\"abcdfg\"),\n",
    "]\n",
    "SEGMENTS"
   ]
  },
  {
   "cell_type": "markdown",
   "id": "7f31a102",
   "metadata": {},
   "source": [
    "We use sets here because we have seen that the input signals/segments aren't necessarily sorted and we don't have to keep sorting them.\n",
    "\n",
    "Now, we can check that the ordering `\"deafgbc\"` does turn `\"cdfbe\"` into a five:"
   ]
  },
  {
   "cell_type": "code",
   "execution_count": 18,
   "id": "e8ac0fd7",
   "metadata": {},
   "outputs": [
    {
     "data": {
      "text/plain": [
       "True"
      ]
     },
     "execution_count": 18,
     "metadata": {},
     "output_type": "execute_result"
    }
   ],
   "source": [
    "SEGMENTS[5] == translate(\"deafgbc\", \"cdfbe\")"
   ]
  },
  {
   "cell_type": "markdown",
   "id": "941d19e7",
   "metadata": {},
   "source": [
    "We can also check that the ordering `\"decfgba\"` turns `\"cdfbe\"` into an illegal digit:"
   ]
  },
  {
   "cell_type": "code",
   "execution_count": 19,
   "id": "ad4b851c",
   "metadata": {},
   "outputs": [
    {
     "data": {
      "text/plain": [
       "False"
      ]
     },
     "execution_count": 19,
     "metadata": {},
     "output_type": "execute_result"
    }
   ],
   "source": [
    "translate(\"decfgba\", \"cdfbe\") in SEGMENTS"
   ]
  },
  {
   "cell_type": "markdown",
   "id": "98993f39",
   "metadata": {},
   "source": [
    "If we put all our ideas together, this is what we end up with:"
   ]
  },
  {
   "cell_type": "code",
   "execution_count": 20,
   "id": "3ca0e9c7",
   "metadata": {},
   "outputs": [
    {
     "name": "stdout",
     "output_type": "stream",
     "text": [
      "1063760\n"
     ]
    }
   ],
   "source": [
    "from itertools import permutations\n",
    "\n",
    "BASE = \"abcdefg\"\n",
    "SEGMENTS = [\n",
    "    set(\"abcefg\"),\n",
    "    set(\"cf\"),\n",
    "    set(\"acdeg\"),\n",
    "    set(\"acdfg\"),\n",
    "    set(\"bcdf\"),\n",
    "    set(\"abdfg\"),\n",
    "    set(\"abdefg\"),\n",
    "    set(\"acf\"),\n",
    "    set(\"abcdefg\"),\n",
    "    set(\"abcdfg\"),\n",
    "]\n",
    "ALL_ORDERINGS = list(permutations(BASE))\n",
    "\n",
    "def translate(ordering, digit):\n",
    "    return {BASE[ordering.index(char)] for char in digit}\n",
    "\n",
    "with open(INPUT_FILE, \"r\") as f:\n",
    "    lines = f.readlines()\n",
    "\n",
    "acc = 0\n",
    "for line in lines:\n",
    "    hints, values = line.split(\" | \")\n",
    "    hints = hints.split()\n",
    "    values = values.split()\n",
    "    for ordering in ALL_ORDERINGS:\n",
    "        found_all = True\n",
    "        for hint in hints:\n",
    "            if translate(ordering, hint) not in SEGMENTS:\n",
    "                found_all = False\n",
    "                break\n",
    "        if found_all:\n",
    "            # If we got here, this is the correct ordering.\n",
    "            digit_ints = [SEGMENTS.index(translate(ordering, value)) for value in values]\n",
    "            acc += int(\"\".join(str(digit) for digit in digit_ints))\n",
    "            break\n",
    "print(acc)"
   ]
  },
  {
   "cell_type": "markdown",
   "id": "08cd43c5",
   "metadata": {},
   "source": [
    "This is one way of implementing what we discussed, but there are other ways of doing this and there are things we can do to improve the style of our brute-force solution."
   ]
  },
  {
   "cell_type": "markdown",
   "id": "152f413d",
   "metadata": {},
   "source": [
    "## Refactoring the brute-force solution\n",
    "\n",
    "The first thing we can do is look at the beginning of the outer `for` loop:"
   ]
  },
  {
   "cell_type": "code",
   "execution_count": 21,
   "id": "7cd44ceb",
   "metadata": {},
   "outputs": [],
   "source": [
    "for line in lines:\n",
    "    hints, values = line.split(\" | \")\n",
    "    hints = hints.split()\n",
    "    values = values.split()\n",
    "    ..."
   ]
  },
  {
   "cell_type": "markdown",
   "id": "552d0797",
   "metadata": {},
   "source": [
    "Notice how we want to `split` both variables we just got out of the `line.split(\" | \")` expression.\n",
    "We could put the two assignments together:"
   ]
  },
  {
   "cell_type": "code",
   "execution_count": 22,
   "id": "9a106160",
   "metadata": {},
   "outputs": [],
   "source": [
    "for line in lines:\n",
    "    hints, values = line.split(\" | \")\n",
    "    hints, values = hints.split(), values.split()\n",
    "    ..."
   ]
  },
  {
   "cell_type": "markdown",
   "id": "c7ba93e9",
   "metadata": {},
   "source": [
    "But this just makes it even more clear that there is something we can do to simplify our parsing step.\n",
    "In fact, after we do the initial split, we want to apply the `.split` method once more to each of the two results produced by `.split(\" | \")`, so we can use `map` for just that.\n",
    "\n",
    "What's really nice is that we can just keep the structural assignment in place:"
   ]
  },
  {
   "cell_type": "code",
   "execution_count": 23,
   "id": "a2cb1ba8",
   "metadata": {},
   "outputs": [
    {
     "name": "stdout",
     "output_type": "stream",
     "text": [
      "['cdafg', 'dage', 'fgdaec', 'cdbfgae', 'cge', 'gcbdfa', 'fdceb', 'gfceab', 'ge', 'ecfgd']\n",
      "['eg', 'eg', 'dfecag', 'ge']\n"
     ]
    }
   ],
   "source": [
    "for line in lines:\n",
    "    hints, values = map(str.split, line.split(\" | \"))\n",
    "    print(hints)\n",
    "    print(values)\n",
    "    break"
   ]
  },
  {
   "cell_type": "markdown",
   "id": "627d3591",
   "metadata": {},
   "source": [
    "It is worthwhile noting that we are using `str.split` to refer to the object that is the string method `.split`.\n",
    "This way, we can use it in functional code.\n",
    "\n",
    "Now, we can focus our attention on the inner `for` loop:\n",
    "\n",
    "```py\n",
    "for line in lines:\n",
    "    hints, values = map(str.split, line.split(\" | \"))\n",
    "    for ordering in ALL_ORDERINGS:\n",
    "        found_all = True\n",
    "        for hint in hints:\n",
    "            if translate(ordering, hint) not in DIGIT_SEGMENTS:\n",
    "                found_all = False\n",
    "                break\n",
    "        if found_all:\n",
    "            # If we got here, this is the correct ordering.\n",
    "            digit_ints = [SEGMENTS.index(translate(ordering, value)) for value in values]\n",
    "            acc += int(\"\".join(str(digit) for digit in digit_ints))\n",
    "            break\n",
    "```\n",
    "\n",
    "Notice how the Boolean variable `found_all` is acting as an accumulator, although a Boolean one.\n",
    "This time, instead of summing up integers, we are AND-ing a series of Booleans.\n",
    "As soon as we find a `False` value, we break out of the loop and we never do the translation of the right-hand values.\n",
    "\n",
    "What we are missing here is that, much like there is a `sum` function for summing up values, there are two functions that accumulate Boolean values: `any` and `all`.\n",
    "`any` checks if there is any `True` value and `all` checks if all values are `True`.\n",
    "\n",
    "We can use either one of them to check if the current `ordering` is the correct one, and convert the digit in that case.\n",
    "We can use `all` to check if all the hints map to a legal digit:"
   ]
  },
  {
   "cell_type": "code",
   "execution_count": 24,
   "id": "36069597",
   "metadata": {},
   "outputs": [
    {
     "name": "stdout",
     "output_type": "stream",
     "text": [
      "1063760\n"
     ]
    }
   ],
   "source": [
    "acc = 0\n",
    "for line in lines:\n",
    "    hints, values = map(str.split, line.split(\" | \"))\n",
    "    for ordering in ALL_ORDERINGS:\n",
    "        if all(translate(ordering, hint) in SEGMENTS for hint in hints):\n",
    "            digit_ints = [SEGMENTS.index(translate(ordering, value)) for value in values]\n",
    "            acc += int(\"\".join(str(digit) for digit in digit_ints))\n",
    "            break\n",
    "print(acc)"
   ]
  },
  {
   "cell_type": "markdown",
   "id": "91e41dc1",
   "metadata": {},
   "source": [
    "Or we can use `any` to check if any hint maps to an illegal digit:"
   ]
  },
  {
   "cell_type": "code",
   "execution_count": 25,
   "id": "dce89f70",
   "metadata": {},
   "outputs": [
    {
     "name": "stdout",
     "output_type": "stream",
     "text": [
      "1063760\n"
     ]
    }
   ],
   "source": [
    "acc = 0\n",
    "for line in lines:\n",
    "    hints, values = map(str.split, line.split(\" | \"))\n",
    "    for ordering in ALL_ORDERINGS:\n",
    "        if any(translate(ordering, hint) not in SEGMENTS for hint in hints):\n",
    "            continue\n",
    "        digit_ints = [SEGMENTS.index(translate(ordering, value)) for value in values]\n",
    "        acc += int(\"\".join(str(digit) for digit in digit_ints))\n",
    "        break\n",
    "print(acc)"
   ]
  },
  {
   "cell_type": "markdown",
   "id": "5ceed706",
   "metadata": {},
   "source": [
    "I prefer using the built-in `all` because it is more direct here.\n",
    "\n",
    "Another thing we can, and should, rework, is how we turn a list of digits into an integer.\n",
    "In the code above, we just convert all digits into strings, join them together, and then use the built-in `int` to do the job.\n",
    "This works, but is a rather roundabout way of doing it.\n",
    "\n",
    "Consider this exercise:\n",
    "how would you implement a function that accepts a list of integer digits in any base and returns the appropriate decimal integer?\n",
    "Suppose your function is called `from_base`; this is what it should do:\n",
    "\n",
    "```py\n",
    "from_base([1, 2, 3, 4], 10)  # 1234\n",
    "from_base([1, 1, 0, 1],  2)  # 13\n",
    "from_base([15, 15, 10], 16)  # 4090 (This is 0xffa in hexadecimal.)\n",
    "```\n",
    "\n",
    "A nice, idiomatic Python expression follows:"
   ]
  },
  {
   "cell_type": "code",
   "execution_count": 26,
   "id": "98925e32",
   "metadata": {},
   "outputs": [
    {
     "name": "stdout",
     "output_type": "stream",
     "text": [
      "1234\n",
      "13\n",
      "4090\n"
     ]
    }
   ],
   "source": [
    "from functools import reduce\n",
    "\n",
    "def from_base(digits, base=10):\n",
    "    return reduce(lambda l, r: l * base + r, digits, 0)\n",
    "\n",
    "print(from_base([1, 2, 3, 4], 10))  # 1234\n",
    "print(from_base([1, 1, 0, 1],  2))  # 13\n",
    "print(from_base([15, 15, 10], 16))  # 4090 (This is 0xffa in hexadecimal.)"
   ]
  },
  {
   "cell_type": "markdown",
   "id": "15fbed18",
   "metadata": {},
   "source": [
    "Notice the use of `reduce`, because we are reducing a list of digits down to a single number.\n",
    "\n",
    "With this proper definition of `from_base`, we can finalise our brute-force solution:"
   ]
  },
  {
   "cell_type": "code",
   "execution_count": 27,
   "id": "2464358c",
   "metadata": {
    "scrolled": true
   },
   "outputs": [
    {
     "name": "stdout",
     "output_type": "stream",
     "text": [
      "1063760\n"
     ]
    }
   ],
   "source": [
    "from functools import reduce\n",
    "from itertools import permutations\n",
    "\n",
    "BASE = \"abcdefg\"\n",
    "SEGMENTS = [\n",
    "    set(\"abcefg\"),\n",
    "    set(\"cf\"),\n",
    "    set(\"acdeg\"),\n",
    "    set(\"acdfg\"),\n",
    "    set(\"bcdf\"),\n",
    "    set(\"abdfg\"),\n",
    "    set(\"abdefg\"),\n",
    "    set(\"acf\"),\n",
    "    set(\"abcdefg\"),\n",
    "    set(\"abcdfg\"),\n",
    "]\n",
    "ALL_ORDERINGS = list(permutations(BASE))\n",
    "\n",
    "def translate(ordering, digit):\n",
    "    return {BASE[ordering.index(char)] for char in digit}\n",
    "\n",
    "def from_base(digits, base=10):\n",
    "    return reduce(lambda l, r: l * base + r, digits, 0)\n",
    "\n",
    "with open(INPUT_FILE, \"r\") as f:\n",
    "    lines = f.readlines()\n",
    "\n",
    "acc = 0\n",
    "for line in lines:\n",
    "    hints, values = map(str.split, line.split(\" | \"))\n",
    "    for ordering in ALL_ORDERINGS:\n",
    "        if all(translate(ordering, hint) in SEGMENTS for hint in hints):\n",
    "            digit_ints = [SEGMENTS.index(translate(ordering, value)) for value in values]\n",
    "            acc += int(\"\".join(str(digit) for digit in digit_ints))\n",
    "            break\n",
    "print(acc)"
   ]
  },
  {
   "cell_type": "markdown",
   "id": "17d0d954",
   "metadata": {},
   "source": [
    "Finally, we can make use of [two of the most underappreciated string methods](https://mathspp.com/blog/pydonts/string-translate-and-maketrans-methods) to rewrite the `translate` method.\n",
    "After all, what we are doing is literally employing the string method `.translate`:"
   ]
  },
  {
   "cell_type": "code",
   "execution_count": 28,
   "id": "db67341b",
   "metadata": {},
   "outputs": [
    {
     "name": "stdout",
     "output_type": "stream",
     "text": [
      "1063760\n"
     ]
    }
   ],
   "source": [
    "from functools import reduce\n",
    "from itertools import permutations\n",
    "\n",
    "BASE = \"abcdefg\"\n",
    "SEGMENTS = [\n",
    "    set(\"abcefg\"),\n",
    "    set(\"cf\"),\n",
    "    set(\"acdeg\"),\n",
    "    set(\"acdfg\"),\n",
    "    set(\"bcdf\"),\n",
    "    set(\"abdfg\"),\n",
    "    set(\"abdefg\"),\n",
    "    set(\"acf\"),\n",
    "    set(\"abcdefg\"),\n",
    "    set(\"abcdfg\"),\n",
    "]\n",
    "ALL_ORDERINGS = [str.maketrans(\"\".join(perm), BASE) for perm in permutations(BASE)]\n",
    "\n",
    "def from_base(digits, base=10):\n",
    "    return reduce(lambda l, r: l * base + r, digits, 0)\n",
    "\n",
    "with open(INPUT_FILE, \"r\") as f:\n",
    "    lines = f.readlines()\n",
    "\n",
    "acc = 0\n",
    "for line in lines:\n",
    "    hints, values = map(str.split, line.split(\" | \"))\n",
    "    for ordering in ALL_ORDERINGS:\n",
    "        if all(set(hint.translate(ordering)) in SEGMENTS for hint in hints):\n",
    "            digit_ints = [SEGMENTS.index(set(value.translate(ordering))) for value in values]\n",
    "            acc += from_base(digit_ints, 10)\n",
    "            break\n",
    "print(acc)"
   ]
  },
  {
   "cell_type": "markdown",
   "id": "0c74b9d6",
   "metadata": {},
   "source": [
    "## Logically deducing the correct digits\n",
    "\n",
    "A different approach to this problem entailed using logical reasoning beforehand to figure out how to deduce which hints pertain to which digits, starting off with the “easy” digits `1`, `4`, `7`, and `8`.\n",
    "Then, we just had to write some code to check for that.\n",
    "\n",
    "And again, recall that we only need to identify digits.\n",
    "We don't even need to figure out the correct ordering of the segments!\n",
    "So, can we just use the information about the segments of some digits to figure out what sets of segments pertain to other digits?\n",
    "\n",
    "That is, starting with the information about the segments of the top row, how can we deduce the bottom row?\n",
    "\n",
    "```\n",
    "   1:      4:      7:      8:  \n",
    "  ....    ....    XXXX    XXXX \n",
    " .    X  X    X  .    X  X    X\n",
    " .    X  X    X  .    X  X    X\n",
    "  ....    XXXX    ....    XXXX \n",
    " .    X  .    X  .    X  X    X\n",
    " .    X  .    X  .    X  X    X\n",
    "  ....    ....    ....    XXXX \n",
    " \n",
    "   0:      2:      3:      5:      6:      9:   \n",
    "  XXXX    XXXX    XXXX    XXXX    XXXX    XXXX  \n",
    " X    X  .    X  .    X  X    .  X    .  X    X \n",
    " X    X  .    X  .    X  X    .  X    .  X    X \n",
    "  ....    XXXX    XXXX    XXXX    XXXX    XXXX  \n",
    " X    X  X    .  .    X  .    X  X    X  .    X \n",
    " X    X  X    .  .    X  .    X  X    X  .    X \n",
    "  XXXX    XXXX    XXXX    XXXX    XXXX    XXXX  \n",
    "```\n",
    "\n",
    "One thing we can do first is realise that the digits `1`, `4`, `7`, and `8`, are easy to deduce because they are the only digits that use a specific number of segments.\n",
    "For example, a digit using two segments can only ever be digit `1`, never a `4` or a `9`.\n",
    "Similarly, digits using five segments can only be `2`, `3`, or `5`; and digits using six segments can only be `0`, `6`, or `9`.\n",
    "\n",
    "Thus, we need to use the top row to distinguish the numbers of the two rows that follow:\n",
    "\n",
    "```\n",
    "   1:      4:      7:      8:  \n",
    "  ....    ....    XXXX    XXXX \n",
    " .    X  X    X  .    X  X    X\n",
    " .    X  X    X  .    X  X    X\n",
    "  ....    XXXX    ....    XXXX \n",
    " .    X  .    X  .    X  X    X\n",
    " .    X  .    X  .    X  X    X\n",
    "  ....    ....    ....    XXXX \n",
    " \n",
    "# Using 5 segments:\n",
    "   2:      3:      5:   \n",
    "  XXXX    XXXX    XXXX  \n",
    " .    X  .    X  X    . \n",
    " .    X  .    X  X    . \n",
    "  XXXX    XXXX    XXXX  \n",
    " X    .  .    X  .    X \n",
    " X    .  .    X  .    X \n",
    "  XXXX    XXXX    XXXX\n",
    "\n",
    "# Using 6 segments:\n",
    "   0:      6:      9:   \n",
    "  XXXX    XXXX    XXXX  \n",
    " X    X  X    .  X    X \n",
    " X    X  X    .  X    X \n",
    "  ....    XXXX    XXXX  \n",
    " X    X  X    X  .    X \n",
    " X    X  X    X  .    X \n",
    "  XXXX    XXXX    XXXX\n",
    "```\n",
    "\n",
    "For example, among the digits that use five segments, `3` is the only one that contains the segments that `1` contains:\n",
    "\n",
    "```\n",
    "   3:  \n",
    "  XXXX \n",
    " .    O\n",
    " .    O\n",
    "  XXXX \n",
    " .    O\n",
    " .    O\n",
    "  XXXX \n",
    "```\n",
    "\n",
    "Then, if we look at the segments that `4` does **not** use (the complement of `4`), those are contained inside `2`:\n",
    "\n",
    "```\n",
    "   4:        not 4:        2:   \n",
    "  ....        XXXX        OOOO  \n",
    " X    X      .    .      .    X \n",
    " X    X      .    .      .    X \n",
    "  XXXX   ->   ....   ->   XXXX  \n",
    " .    X      X    .      O    . \n",
    " .    X      X    .      O    . \n",
    "  ....        XXXX        OOOO \n",
    "```\n",
    "\n",
    "Thus, `5` is the only digit left that uses five segments.\n",
    "\n",
    "Now, we know about the digits `1`, `2`, `3`, `4`, `5`, `7`, and `8`, we only have to find out about `0`, `6`, and `9`:\n",
    "\n",
    "```\n",
    "   1:      2:      3:      4:      5:      7:      8:   \n",
    "  ....    XXXX    XXXX    ....    XXXX    XXXX    XXXX  \n",
    " .    X  .    X  .    X  X    X  X    .  .    X  X    X \n",
    " .    X  .    X  .    X  X    X  X    .  .    X  X    X \n",
    "  ....    XXXX    XXXX    XXXX    XXXX    ....    XXXX  \n",
    " .    X  X    .  .    X  .    X  .    X  .    X  X    X \n",
    " .    X  X    .  .    X  .    X  .    X  .    X  X    X \n",
    "  ....    XXXX    XXXX    ....    XXXX    ....    XXXX  \n",
    "  \n",
    "   0:      6:      9:   \n",
    "  XXXX    XXXX    XXXX  \n",
    " X    X  X    .  X    X \n",
    " X    X  X    .  X    X \n",
    "  ....    XXXX    XXXX  \n",
    " X    X  X    X  .    X \n",
    " X    X  X    X  .    X \n",
    "  XXXX    XXXX    XXXX  \n",
    "```\n",
    "\n",
    "For example, we can see that the segments that `1` does **not** use (the complement of `1`) are contained only inside `6`:\n",
    "\n",
    "```\n",
    "   1:        not 1:        6:\n",
    "  ....        XXXX        OOOO  \n",
    " .    X      X    .      O    . \n",
    " .    X      X    .      O    . \n",
    "  ....   ->   XXXX   ->   OOOO  \n",
    " .    X      X    .      O    X \n",
    " .    X      X    .      O    X \n",
    "  ....        XXXX        OOOO  \n",
    "```\n",
    "\n",
    "Also, and perhaps more clearly, `9` is the only number that contains a `3` inside it:\n",
    "\n",
    "```\n",
    "   3:          9:   \n",
    "  XXXX        OOOO  \n",
    " .    X      X    O \n",
    " .    X      X    O \n",
    "  XXXX   ->   OOOO  \n",
    " .    X      .    O \n",
    " .    X      .    O \n",
    "  XXXX        OOOO   \n",
    "```\n",
    "\n",
    "Finally, the `0` is the digit that is left.\n",
    "These are not the only logical deductions that you can make, nor do they have to be in this order.\n",
    "\n",
    "All the considerations above were based on properties such as “the segments are contained in” or its negation, which shows that we care about doing membership testing.\n",
    "When we want to do membership testing a lot, and we do not care about the order of things, the built-in type `set` is very useful, thus we will use it."
   ]
  },
  {
   "cell_type": "code",
   "execution_count": 48,
   "id": "58c9a809",
   "metadata": {},
   "outputs": [
    {
     "name": "stdout",
     "output_type": "stream",
     "text": [
      "1063760\n"
     ]
    }
   ],
   "source": [
    "from functools import reduce\n",
    "\n",
    "BASE = frozenset(\"abcdefg\")\n",
    "\n",
    "def from_base(digits, base=10):\n",
    "    return reduce(lambda l, r: l * base + r, digits, 0)\n",
    "\n",
    "def comp(a_set):\n",
    "    \"\"\"Returns the segments not used by a_set.\"\"\"\n",
    "    return BASE - a_set\n",
    "\n",
    "def with_length(sets, length):\n",
    "    \"\"\"Returns all sets with the given length.\"\"\"\n",
    "    return {s for s in sets if len(s) == length}\n",
    "\n",
    "def deduce(hints):\n",
    "    \"\"\"Deduce which set is which digit from a set containing all digits.\"\"\"\n",
    "    # Start by finding the obvious digits\n",
    "    one = with_length(hints, 2).pop()\n",
    "    four = with_length(hints, 4).pop()\n",
    "    seven = with_length(hints, 3).pop()\n",
    "    eight = with_length(hints, 7).pop()\n",
    "    \n",
    "    # Distinguish between 2, 3, and 5\n",
    "    two_three_five = with_length(hints, 5)\n",
    "    three = {s for s in two_three_five if one < s}.pop()\n",
    "    two_five = two_three_five - {three}\n",
    "    two = {s for s in two_five if comp(four) < s}.pop()\n",
    "    five = (two_five - {two}).pop()\n",
    "    \n",
    "    # Distinguish between 0, 6, and 9\n",
    "    zero_six_nine = with_length(hints, 6)\n",
    "    nine = {s for s in zero_six_nine if three < s}.pop()\n",
    "    zero_six = zero_six_nine - {nine}\n",
    "    six = {s for s in zero_six if comp(one) < s}.pop()\n",
    "    zero = (zero_six - {six}).pop()\n",
    "    \n",
    "    return [zero, one, two, three, four, five, six, seven, eight, nine]\n",
    "\n",
    "\n",
    "with open(INPUT_FILE, \"r\") as f:\n",
    "    lines = f.readlines()\n",
    "\n",
    "acc = 0\n",
    "for line in lines:\n",
    "    hints, values = [\n",
    "        [frozenset(part) for part in half.split()]\n",
    "        for half in line.split(\" | \")\n",
    "    ]\n",
    "    correct_digits = deduce(hints)\n",
    "    digits = [correct_digits.index(digit) for digit in values]\n",
    "    acc += from_base(digits, 10)\n",
    "print(acc)"
   ]
  },
  {
   "cell_type": "code",
   "execution_count": 52,
   "id": "200cf001",
   "metadata": {},
   "outputs": [
    {
     "name": "stdout",
     "output_type": "stream",
     "text": [
      "None\n"
     ]
    },
    {
     "data": {
      "text/plain": [
       "{1, 2}"
      ]
     },
     "execution_count": 52,
     "metadata": {},
     "output_type": "execute_result"
    }
   ],
   "source": [
    "s = {1, 2, 3}\n",
    "print(s.discard(3))\n",
    "s"
   ]
  },
  {
   "cell_type": "markdown",
   "id": "ede5f0f9",
   "metadata": {},
   "source": [
    "The code above is the Python equivalent of what we just described before, although there might be some `set` operations that need explaining.\n",
    "\n",
    "For a more in-depth overview of Python sets, you can read [this article](https://mathspp.com/blog/pydonts/set-and-frozenset).\n",
    "Here is a quick overview of the `set`-related concepts and operations we are using:\n",
    "\n",
    " 1. set difference with `-`: `set1 - set2` is equivalent to `{elem for elem in s1 if elem not in s2}`;\n",
    " 2. `frozenset`: a frozen set is an immutable set, and it's the only type of set that can be contained inside another set;\n",
    " 3. `set.pop`: the method `.pop` of sets returns a random element from within the set and removes it. When used on sets with a single element (like above) it returns the only element in the set; and\n",
    " 4. set inclusion with `<`: `set1 < set2` checks if `set1` is strictly contained within `set2` and is equivalent to `all(elem in set2 for elem in set1) and len(set2) > len(set1)`.\n",
    "\n",
    "One small thing to note is the pattern `set - {elem}` that was used a couple of times in the above.\n",
    "This is one way of removing an element from a set, but there are two methods that would achieve the same effect:\n",
    "\n",
    " - `a_set.remove(x)`, which removes the element `x` from `a_set` and raises an error if `x` isn't in the set; and\n",
    " - `a_set.discard(x)`, which tries to remove the element `x` from `a_set` but doesn't complain if the element isn't there.\n",
    "\n",
    "However, because both these methods mutate the same set, and we were trying to compute new sets, we opted to go for the expression `set - {elem}`.\n",
    "\n",
    "Other than modifying the order of the logical deductions, there isn't much to be changed in this specific implementation of our solution, but we can look at another way of identifying the digits that is even more straightforward."
   ]
  },
  {
   "cell_type": "markdown",
   "id": "54d7fafa",
   "metadata": {},
   "source": [
    "## Unique identifier for the digits\n",
    "\n",
    "As we have seen above, we can identify the digits without having to identify which segment is which.\n",
    "What we will see now, is that we can identify each digit without even having to compare them amongst each other!\n",
    "\n",
    "In order to see how that is going to be done, consider the original segments:\n",
    "\n",
    "```\n",
    "  0:      1:      2:      3:      4:\n",
    " aaaa    ....    aaaa    aaaa    ....\n",
    "b    c  .    c  .    c  .    c  b    c\n",
    "b    c  .    c  .    c  .    c  b    c\n",
    " ....    ....    dddd    dddd    dddd\n",
    "e    f  .    f  e    .  .    f  .    f\n",
    "e    f  .    f  e    .  .    f  .    f\n",
    " gggg    ....    gggg    gggg    ....\n",
    "\n",
    "  5:      6:      7:      8:      9:\n",
    " aaaa    aaaa    aaaa    aaaa    aaaa\n",
    "b    .  b    .  .    c  b    c  b    c\n",
    "b    .  b    .  .    c  b    c  b    c\n",
    " dddd    dddd    ....    dddd    dddd\n",
    ".    f  e    f  .    f  e    f  .    f\n",
    ".    f  e    f  .    f  e    f  .    f\n",
    " gggg    gggg    ....    gggg    gggg\n",
    "```\n",
    "\n",
    "And a respective representation in Python:"
   ]
  },
  {
   "cell_type": "code",
   "execution_count": 54,
   "id": "223d488f",
   "metadata": {},
   "outputs": [],
   "source": [
    "SEGMENTS = [\n",
    "    {'a', 'b', 'c', 'e', 'f', 'g'},\n",
    "    {'c', 'f'},\n",
    "    {'a', 'c', 'd', 'e', 'g'},\n",
    "    {'a', 'c', 'd', 'f', 'g'},\n",
    "    {'b', 'c', 'd', 'f'},\n",
    "    {'a', 'b', 'd', 'f', 'g'},\n",
    "    {'a', 'b', 'd', 'e', 'f', 'g'},\n",
    "    {'a', 'c', 'f'},\n",
    "    {'a', 'b', 'c', 'd', 'e', 'f', 'g'},\n",
    "    {'a', 'b', 'c', 'd', 'f', 'g'},\n",
    "]"
   ]
  },
  {
   "cell_type": "markdown",
   "id": "d9c95fa9",
   "metadata": {},
   "source": [
    "Now, let's compute some statistics about each of the segments.\n",
    "In particular, let's see how often each segment is used:"
   ]
  },
  {
   "cell_type": "code",
   "execution_count": 56,
   "id": "8ae55bba",
   "metadata": {},
   "outputs": [
    {
     "data": {
      "text/plain": [
       "Counter({'c': 8, 'g': 7, 'b': 6, 'a': 8, 'f': 9, 'e': 4, 'd': 7})"
      ]
     },
     "execution_count": 56,
     "metadata": {},
     "output_type": "execute_result"
    }
   ],
   "source": [
    "from collections import Counter\n",
    "from itertools import chain\n",
    "counts = Counter(chain.from_iterable(SEGMENTS))\n",
    "counts"
   ]
  },
  {
   "cell_type": "markdown",
   "id": "6dbfe322",
   "metadata": {},
   "source": [
    "Now we know how often each segment is used.\n",
    "The next step, is computing a summary statistic for each of the digits.\n",
    "How?\n",
    "For each digit, we attribute a score: its score is the sum of all the times each segment of that digit is used across the board:"
   ]
  },
  {
   "cell_type": "code",
   "execution_count": 58,
   "id": "e7db706a",
   "metadata": {},
   "outputs": [
    {
     "data": {
      "text/plain": [
       "[42, 17, 34, 39, 30, 37, 41, 25, 49, 45]"
      ]
     },
     "execution_count": 58,
     "metadata": {},
     "output_type": "execute_result"
    }
   ],
   "source": [
    "scores = [sum(counts[seg] for seg in digit) for digit in SEGMENTS]\n",
    "scores"
   ]
  },
  {
   "cell_type": "markdown",
   "id": "57ea38eb",
   "metadata": {},
   "source": [
    "As we can see, these “scores” are unique for each digit and, _what is more_, they don't depend on the actual segment letters used!\n",
    "In fact, they just depend on the frequency with which each letter is used!\n",
    "\n",
    "So, how can we use this to identify the values based on the hints?\n",
    "\n",
    "Let's revisit a previous example:\n",
    "\n",
    "```\n",
    "acedgfb cdfbe gcdfa fbcad dab cefabd cdfgeb eafb cagedb ab |\n",
    "cdfeb fcadb cdfeb cdbaf\n",
    "```\n",
    "\n",
    "The values here are `5`, `3`, `5`, and `3`.\n",
    "We compute summary statistics for the hints on the left and then score each digit, even though the segments are jumbled up:"
   ]
  },
  {
   "cell_type": "code",
   "execution_count": 61,
   "id": "af31a8a5",
   "metadata": {},
   "outputs": [
    {
     "data": {
      "text/plain": [
       "[49, 37, 34, 39, 25, 45, 41, 30, 42, 17]"
      ]
     },
     "execution_count": 61,
     "metadata": {},
     "output_type": "execute_result"
    }
   ],
   "source": [
    "hints = \"acedgfb cdfbe gcdfa fbcad dab cefabd cdfgeb eafb cagedb ab\".split()\n",
    "these_counts = Counter(chain.from_iterable(hints))\n",
    "these_scores = [sum(these_counts[seg] for seg in hint) for hint in hints]\n",
    "these_scores"
   ]
  },
  {
   "cell_type": "markdown",
   "id": "36fbf72f",
   "metadata": {},
   "source": [
    "Notice how the values inside `these_scores` match the values in `scores` above, although the order is different.\n",
    "We can index into `scores` to figure out which hint matches which digit:"
   ]
  },
  {
   "cell_type": "code",
   "execution_count": 62,
   "id": "f7d5d738",
   "metadata": {},
   "outputs": [
    {
     "data": {
      "text/plain": [
       "[8, 5, 2, 3, 7, 9, 6, 4, 0, 1]"
      ]
     },
     "execution_count": 62,
     "metadata": {},
     "output_type": "execute_result"
    }
   ],
   "source": [
    "[scores.index(score) for score in these_scores]"
   ]
  },
  {
   "cell_type": "markdown",
   "id": "7d73aa5c",
   "metadata": {},
   "source": [
    "And if we use a dictionary to map the original hints to the actual digits, we can map the values to the true digits.\n",
    "We just have to be careful because each string can be jumbled up in itself, but we can use (frozen)sets to fix that:"
   ]
  },
  {
   "cell_type": "code",
   "execution_count": 64,
   "id": "e8627c0a",
   "metadata": {},
   "outputs": [
    {
     "data": {
      "text/plain": [
       "[5, 3, 5, 3]"
      ]
     },
     "execution_count": 64,
     "metadata": {},
     "output_type": "execute_result"
    }
   ],
   "source": [
    "mapping = {frozenset(hint): scores.index(score) for hint, score in zip(hints, these_scores)}\n",
    "values = \"cdfeb fcadb cdfeb cdbaf\".split()\n",
    "[mapping[frozenset(value)] for value in values]"
   ]
  },
  {
   "cell_type": "markdown",
   "id": "63be1dce",
   "metadata": {},
   "source": [
    "Putting all of this together, yields the following code:"
   ]
  },
  {
   "cell_type": "code",
   "execution_count": 65,
   "id": "01efd5fa",
   "metadata": {},
   "outputs": [
    {
     "name": "stdout",
     "output_type": "stream",
     "text": [
      "1063760\n"
     ]
    }
   ],
   "source": [
    "from collections import Counter\n",
    "from functools import reduce\n",
    "from itertools import chain\n",
    "\n",
    "def from_base(digits, base=10):\n",
    "    return reduce(lambda l, r: l * base + r, digits, 0)\n",
    "\n",
    "SEGMENTS = [\n",
    "    {'a', 'b', 'c', 'e', 'f', 'g'},\n",
    "    {'c', 'f'},\n",
    "    {'a', 'c', 'd', 'e', 'g'},\n",
    "    {'a', 'c', 'd', 'f', 'g'},\n",
    "    {'b', 'c', 'd', 'f'},\n",
    "    {'a', 'b', 'd', 'f', 'g'},\n",
    "    {'a', 'b', 'd', 'e', 'f', 'g'},\n",
    "    {'a', 'c', 'f'},\n",
    "    {'a', 'b', 'c', 'd', 'e', 'f', 'g'},\n",
    "    {'a', 'b', 'c', 'd', 'f', 'g'},\n",
    "]\n",
    "COUNTS = Counter(chain.from_iterable(SEGMENTS))\n",
    "SCORES = [sum(COUNTS[seg] for seg in digit) for digit in SEGMENTS]\n",
    "\n",
    "with open(INPUT_FILE, \"r\") as f:\n",
    "    lines = f.readlines()\n",
    "\n",
    "acc = 0\n",
    "for line in lines:\n",
    "    hints, values = [\n",
    "        [frozenset(part) for part in half.split()]\n",
    "        for half in line.split(\" | \")\n",
    "    ]\n",
    "    counts = Counter(chain.from_iterable(hints))\n",
    "    scores = [sum(counts[seg] for seg in digit) for digit in hints]\n",
    "    mapping = dict(zip(hints, [SCORES.index(score) for score in scores]))\n",
    "    digits = [mapping[value] for value in values]\n",
    "    acc += from_base(digits, 10)\n",
    "print(acc)"
   ]
  },
  {
   "cell_type": "markdown",
   "id": "ed5587d2",
   "metadata": {},
   "source": [
    "## Conclusion\n",
    "\n",
    "Although it would be interesting, in this problem we did not implement a full logic deduction system that abstracts away the context of the problem and takes into account only the hints that it is given.\n",
    "Practicality beats purity, and this problem was best solved on paper first, and coded after.\n",
    "This also shows that it is worthwhile to consider the data that we have in all its dimensions, and across all its dimensions.\n",
    "\n",
    "Finally, don't focus too much on the micro: maybe some of us felt that we _needed_ to figure out which segment was which.\n",
    "Turns out we could get away without having to worry with that, at all!\n",
    "\n",
    "If you have any questions, suggestions, remarks, recommendations, corrections, or anything else, you can reach out to me [on Twitter](https://twitter.com/mathsppblog) or via email to rodrigo at mathspp dot com."
   ]
  }
 ],
 "metadata": {
  "kernelspec": {
   "display_name": "Python 3 (ipykernel)",
   "language": "python",
   "name": "python3"
  },
  "language_info": {
   "codemirror_mode": {
    "name": "ipython",
    "version": 3
   },
   "file_extension": ".py",
   "mimetype": "text/x-python",
   "name": "python",
   "nbconvert_exporter": "python",
   "pygments_lexer": "ipython3",
   "version": "3.10.0"
  },
  "toc": {
   "base_numbering": 1,
   "nav_menu": {},
   "number_sections": false,
   "sideBar": true,
   "skip_h1_title": true,
   "title_cell": "Table of Contents",
   "title_sidebar": "Contents",
   "toc_cell": false,
   "toc_position": {},
   "toc_section_display": true,
   "toc_window_display": false
  }
 },
 "nbformat": 4,
 "nbformat_minor": 5
}
