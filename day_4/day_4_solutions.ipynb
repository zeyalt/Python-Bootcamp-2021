{
 "cells": [
  {
   "cell_type": "markdown",
   "id": "4db6fb25",
   "metadata": {},
   "source": [
    "# Giant Squid\n",
    "\n",
    "The analysis that follows pertains to the fourth day of the [Python Problem-Solving Bootcamp](https://mathspp.com/pythonbootcamp).\n",
    "\n",
    "In the analysis that follows you may be confronted with code that you do not understand, especially as you reach the end of the explanation of each part.\n",
    "\n",
    "If you find functions that you didn't know before, remember to [check the docs](https://docs.python.org/3/) for those functions and play around with them in the REPL.\n",
    "This is written to be increasing in difficulty (within each part of the problem), so it is understandable if it gets harder as you keep reading.\n",
    "That's perfectly fine, you don't have to understand everything _right now_, especially because I can't know for sure what _your level_ is."
   ]
  },
  {
   "cell_type": "markdown",
   "id": "a595b8a1",
   "metadata": {},
   "source": [
    "## Part 1 problem statement\n",
    "\n",
    "(From [Advent of Code 2021, day 4](https://adventofcode.com/2021/day/4))\n",
    "\n",
    "You're already almost 1.5km (almost a mile) below the surface of the ocean, already so deep that you can't see any sunlight. What you _can_ see, however, is a giant squid that has attached itself to the outside of your submarine.\n",
    "\n",
    "Maybe it wants to play [bingo](https://en.wikipedia.org/wiki/Bingo_(American_version))?\n",
    "\n",
    "Bingo is played on a set of boards each consisting of a 5x5 grid of numbers. Numbers are chosen at random, and the chosen number is _marked_ on all boards on which it appears. (Numbers may not appear on all boards.) If all numbers in any row or any column of a board are marked, that board _wins_. (Diagonals don't count.)\n",
    "\n",
    "The submarine has a _bingo subsystem_ to help passengers (currently, you and the giant squid) pass the time. It automatically generates a random order in which to draw numbers and a random set of boards (your puzzle input). For example:\n",
    "\n",
    "```\n",
    "7,4,9,5,11,17,23,2,0,14,21,24,10,16,13,6,15,25,12,22,18,20,8,19,3,26,1\n",
    "\n",
    "22 13 17 11  0\n",
    " 8  2 23  4 24\n",
    "21  9 14 16  7\n",
    " 6 10  3 18  5\n",
    " 1 12 20 15 19\n",
    "\n",
    " 3 15  0  2 22\n",
    " 9 18 13 17  5\n",
    "19  8  7 25 23\n",
    "20 11 10 24  4\n",
    "14 21 16 12  6\n",
    "\n",
    "14 21 17 24  4\n",
    "10 16 15  9 19\n",
    "18  8 23 26 20\n",
    "22 11 13  6  5\n",
    " 2  0 12  3  7\n",
    "```\n",
    "\n",
    "After the first five numbers are drawn (`7`, `4`, `9`, `5`, and `11`), there are no winners, but the boards are marked as follows (shown here adjacent to each other to save space):\n",
    "\n",
    "```\n",
    "22 13 17 11  0         3 15  0  2 22        14 21 17 24  4\n",
    " 8  2 23  4 24         9 18 13 17  5        10 16 15  9 19\n",
    "21  9 14 16  7        19  8  7 25 23        18  8 23 26 20\n",
    " 6 10  3 18  5        20 11 10 24  4        22 11 13  6  5\n",
    " 1 12 20 15 19        14 21 16 12  6         2  0 12  3  7\n",
    "```\n",
    "\n",
    "After the next six numbers are drawn (`17`, `23`, `2`, `0`, `14`, and `21`), there are still no winners:\n",
    "\n",
    "```\n",
    "22 13 17 11  0         3 15  0  2 22        14 21 17 24  4\n",
    " 8  2 23  4 24         9 18 13 17  5        10 16 15  9 19\n",
    "21  9 14 16  7        19  8  7 25 23        18  8 23 26 20\n",
    " 6 10  3 18  5        20 11 10 24  4        22 11 13  6  5\n",
    " 1 12 20 15 19        14 21 16 12  6         2  0 12  3  7\n",
    "```\n",
    "\n",
    "Finally, `24` is drawn:\n",
    "\n",
    "```\n",
    "22 13 17 11  0         3 15  0  2 22        14 21 17 24  4\n",
    " 8  2 23  4 24         9 18 13 17  5        10 16 15  9 19\n",
    "21  9 14 16  7        19  8  7 25 23        18  8 23 26 20\n",
    " 6 10  3 18  5        20 11 10 24  4        22 11 13  6  5\n",
    " 1 12 20 15 19        14 21 16 12  6         2  0 12  3  7\n",
    "```\n",
    "\n",
    "At this point, the third board _wins_ because it has at least one complete row or column of marked numbers (in this case, the entire top row is marked: `_14 21 17 24 4_`).\n",
    "\n",
    "The _score_ of the winning board can now be calculated. Start by finding the _sum of all unmarked numbers_ on that board; in this case, the sum is `188`. Then, multiply that sum by _the number that was just called_ when the board won, `24`, to get the final score, `188 * 24 = _4512_`.\n",
    "\n",
    "To guarantee victory against the giant squid, figure out which board will win first. _What will your final score be if you choose that board?_\n",
    "\n",
    "_Using the input file `04_giant_squid.txt`, the result should be 27027._"
   ]
  },
  {
   "cell_type": "code",
   "execution_count": 1,
   "id": "5836d417",
   "metadata": {},
   "outputs": [],
   "source": [
    "# IMPORTANT: Set this to the correct path for you!\n",
    "INPUT_FILE = \"data/input.txt\""
   ]
  },
  {
   "cell_type": "markdown",
   "id": "dbf41b4d",
   "metadata": {},
   "source": [
    "## Decomposing the problem\n",
    "\n",
    "For this problem, we have a lot of moving parts:\n",
    "\n",
    " 1. we have to parse the boards from the input file;\n",
    " 2. we have to find what board will be complete first; and\n",
    " 3. we have to compute the score of that board.\n",
    "\n",
    "This is a high-level view of what we have to do.\n",
    "For this problem, and for problems of a similar complexity, it may be a good idea to code each part separately in a little function.\n",
    "\n",
    "Then, we can mix & match the different implementations for each subproblem.\n",
    "\n",
    "Let's start from the beginning."
   ]
  },
  {
   "cell_type": "markdown",
   "id": "2e821175",
   "metadata": {},
   "source": [
    "## Board as a list of lists\n",
    "\n",
    "In order to parse the boards, we first have to determine how we want to represent the boards.\n",
    "Let's start with the “obvious” representation, where each board is a list of lists.\n",
    "\n",
    "We start off by reading the whole file and splitting it on `\"\\n\\n\"`, because the input format shows that consecutive boards are separated by a blank line.\n",
    "Then, we use [unpacking with starred assignment](mathspp.com/blog/pydonts/unpacking-with-starred-assignments) to separate the first line from the rest of the data:"
   ]
  },
  {
   "cell_type": "code",
   "execution_count": 2,
   "id": "4b872bc3",
   "metadata": {},
   "outputs": [],
   "source": [
    "with open(INPUT_FILE) as f:\n",
    "    contents = f.read().strip().split(\"\\n\\n\")\n",
    "\n",
    "numbers, *board_data = contents"
   ]
  },
  {
   "cell_type": "code",
   "execution_count": 3,
   "id": "f4a61554",
   "metadata": {},
   "outputs": [
    {
     "data": {
      "text/plain": [
       "'17,25,31,22,79,72,58,47,62,50,30,91,11,63,66,83,33,75,44,18,56,81,32,46,93,13,41,65,14,95,19,38,8,35,52,7,12,70,84,23,4,42,90,60,6,40,97,16,27,86,5,48,54,64,29,67,26,89,99,53,34,0,57,3,92,37,59,9,21,78,51,80,73,82,76,28,88,96,45,69,98,1,2,71,68,49,36,15,55,39,87,77,74,94,61,85,10,43,20,24'"
      ]
     },
     "execution_count": 3,
     "metadata": {},
     "output_type": "execute_result"
    }
   ],
   "source": [
    "numbers"
   ]
  },
  {
   "cell_type": "code",
   "execution_count": 4,
   "id": "d4fc3366",
   "metadata": {},
   "outputs": [
    {
     "data": {
      "text/plain": [
       "['36 11 70 77 80\\n63  3 56 75 28\\n89 91 27 33 82\\n53 79 52 96 32\\n58 14 78 65 38',\n",
       " '26 15 50 56  2\\n20 27 42 11 16\\n93 44 38 28 68\\n66 88 78 81 77\\n91 46 55 86  6',\n",
       " '46 53 14 17 75\\n71  4 70 99 48\\n65 96 68 80 72\\n 3 97 62 37 88\\n82 35 36 23 39',\n",
       " '17  1 61 77  5\\n74 60 12 24 48\\n34 19 68 65 86\\n44 59 38 40 95\\n67 64  9 52 27',\n",
       " '44 60  8 81  3\\n30 71 85 23 99\\n68 88 38 97 48\\n27 70 63 28 12\\n67 57 34 13 93']"
      ]
     },
     "execution_count": 4,
     "metadata": {},
     "output_type": "execute_result"
    }
   ],
   "source": [
    "board_data[:5]"
   ]
  },
  {
   "cell_type": "markdown",
   "id": "c41b90ca",
   "metadata": {},
   "source": [
    "Now, we write a function to parse each element of the list `board_data`:"
   ]
  },
  {
   "cell_type": "code",
   "execution_count": 5,
   "id": "3c56fd10",
   "metadata": {},
   "outputs": [
    {
     "data": {
      "text/plain": [
       "[[36, 11, 70, 77, 80],\n",
       " [63, 3, 56, 75, 28],\n",
       " [89, 91, 27, 33, 82],\n",
       " [53, 79, 52, 96, 32],\n",
       " [58, 14, 78, 65, 38]]"
      ]
     },
     "execution_count": 5,
     "metadata": {},
     "output_type": "execute_result"
    }
   ],
   "source": [
    "def parse_board_matrix(board_string):\n",
    "    string_rows = board_string.splitlines()\n",
    "    board_rows = []\n",
    "    for string_row in string_rows:\n",
    "        row = []\n",
    "        for num in string_row.split():\n",
    "            row.append(int(num))\n",
    "        board_rows.append(row)\n",
    "    return board_rows\n",
    "\n",
    "parse_board_matrix(board_data[0])"
   ]
  },
  {
   "cell_type": "markdown",
   "id": "daf1d930",
   "metadata": {},
   "source": [
    "Our code can be improved if we make use of [list comprehensions](https://mathspp.com/blog/pydonts/list-comprehensions-101).\n",
    "\n",
    "Some people like list comprehensions more than others.\n",
    "In general, I am a fan because list comprehensions show more clearly what we are doing to the data, whereas `for` loops tend to have too much boilerplate that make it harder to find the important code.\n",
    "\n",
    "In our case, we have the same pattern twice:\n",
    "\n",
    "```py\n",
    "lst = []\n",
    "for elem in iterable:\n",
    "    lst.append(func(elem))\n",
    "```\n",
    "\n",
    "We initialise an empty list, we iterate over an iterable, and we append each element (after some processing) to the list.\n",
    "This can be rewritten as the following list comprehension:\n",
    "\n",
    "```py\n",
    "lst = [func(elem) for elem in iterable]\n",
    "```\n",
    "\n",
    "Notice how the list comprehension put the data transformation in front of everything else.\n",
    "\n",
    "For our code, we can start from inside:"
   ]
  },
  {
   "cell_type": "code",
   "execution_count": 6,
   "id": "1de113e8",
   "metadata": {},
   "outputs": [
    {
     "data": {
      "text/plain": [
       "[[36, 11, 70, 77, 80],\n",
       " [63, 3, 56, 75, 28],\n",
       " [89, 91, 27, 33, 82],\n",
       " [53, 79, 52, 96, 32],\n",
       " [58, 14, 78, 65, 38]]"
      ]
     },
     "execution_count": 6,
     "metadata": {},
     "output_type": "execute_result"
    }
   ],
   "source": [
    "def parse_board_matrix(board_string):\n",
    "    string_rows = board_string.splitlines()\n",
    "    board_rows = []\n",
    "    for string_row in string_rows:\n",
    "        # row = []\n",
    "        # for num in string_row.split():\n",
    "        #     row.append(int(num))\n",
    "        row = [int(num) for num in string_row.split()]\n",
    "        board_rows.append(row)\n",
    "    return board_rows\n",
    "\n",
    "parse_board_matrix(board_data[0])"
   ]
  },
  {
   "cell_type": "markdown",
   "id": "000a3799",
   "metadata": {},
   "source": [
    "And then, on to the outer loop:"
   ]
  },
  {
   "cell_type": "code",
   "execution_count": 7,
   "id": "98409a32",
   "metadata": {},
   "outputs": [
    {
     "data": {
      "text/plain": [
       "[[36, 11, 70, 77, 80],\n",
       " [63, 3, 56, 75, 28],\n",
       " [89, 91, 27, 33, 82],\n",
       " [53, 79, 52, 96, 32],\n",
       " [58, 14, 78, 65, 38]]"
      ]
     },
     "execution_count": 7,
     "metadata": {},
     "output_type": "execute_result"
    }
   ],
   "source": [
    "def parse_board_matrix(board_string):\n",
    "    string_rows = board_string.splitlines()\n",
    "    # board_rows = []\n",
    "    # for string_row in string_rows:\n",
    "    #     row = [int(num) for num in string_row.split()]\n",
    "    #     board_rows.append(row)\n",
    "    board_rows = [[int(num) for num in string_row.split()] for string_row in string_rows]\n",
    "    return board_rows\n",
    "\n",
    "parse_board_matrix(board_data[0])"
   ]
  },
  {
   "cell_type": "markdown",
   "id": "7db0c2f8",
   "metadata": {},
   "source": [
    "In general, you shouldn't let your list comprehensions get too long or too crazy.\n",
    "If needed, you can split them over multiple lines:"
   ]
  },
  {
   "cell_type": "code",
   "execution_count": 8,
   "id": "464fe10e",
   "metadata": {},
   "outputs": [
    {
     "data": {
      "text/plain": [
       "[[36, 11, 70, 77, 80],\n",
       " [63, 3, 56, 75, 28],\n",
       " [89, 91, 27, 33, 82],\n",
       " [53, 79, 52, 96, 32],\n",
       " [58, 14, 78, 65, 38]]"
      ]
     },
     "execution_count": 8,
     "metadata": {},
     "output_type": "execute_result"
    }
   ],
   "source": [
    "def parse_board_matrix(board_string):\n",
    "    string_rows = board_string.splitlines()\n",
    "    board_rows = [\n",
    "        [int(num) for num in string_row.split()]\n",
    "        for string_row in string_rows\n",
    "    ]\n",
    "    return board_rows\n",
    "\n",
    "parse_board_matrix(board_data[0])"
   ]
  },
  {
   "cell_type": "markdown",
   "id": "09fab37d",
   "metadata": {},
   "source": [
    "When you do, it's good to change lines right before the `for`.\n",
    "Also, notice the indentation pattern used: the opening and closing brackets are by themselves, and the two other lines are aligned and indented.\n",
    "\n",
    "Now, the name `board_rows` isn't being put to good use, so we can get rid of it:"
   ]
  },
  {
   "cell_type": "code",
   "execution_count": 9,
   "id": "5df754e7",
   "metadata": {},
   "outputs": [
    {
     "data": {
      "text/plain": [
       "[[36, 11, 70, 77, 80],\n",
       " [63, 3, 56, 75, 28],\n",
       " [89, 91, 27, 33, 82],\n",
       " [53, 79, 52, 96, 32],\n",
       " [58, 14, 78, 65, 38]]"
      ]
     },
     "execution_count": 9,
     "metadata": {},
     "output_type": "execute_result"
    }
   ],
   "source": [
    "def parse_board_matrix(board_string):\n",
    "    string_rows = board_string.splitlines()\n",
    "    return [\n",
    "        [int(num) for num in string_row.split()]\n",
    "        for string_row in string_rows\n",
    "    ]\n",
    "\n",
    "parse_board_matrix(board_data[0])"
   ]
  },
  {
   "cell_type": "markdown",
   "id": "a676698e",
   "metadata": {},
   "source": [
    "Also, if we want to be more extreme, we can inline the call to `.splitlines`:"
   ]
  },
  {
   "cell_type": "code",
   "execution_count": 10,
   "id": "9c2df336",
   "metadata": {},
   "outputs": [
    {
     "data": {
      "text/plain": [
       "[[36, 11, 70, 77, 80],\n",
       " [63, 3, 56, 75, 28],\n",
       " [89, 91, 27, 33, 82],\n",
       " [53, 79, 52, 96, 32],\n",
       " [58, 14, 78, 65, 38]]"
      ]
     },
     "execution_count": 10,
     "metadata": {},
     "output_type": "execute_result"
    }
   ],
   "source": [
    "def parse_board_matrix(board_string):\n",
    "    return [\n",
    "        [int(num) for num in string_row.split()]\n",
    "        for string_row in board_string.splitlines()\n",
    "    ]\n",
    "\n",
    "parse_board_matrix(board_data[0])"
   ]
  },
  {
   "cell_type": "markdown",
   "id": "45e9a770",
   "metadata": {},
   "source": [
    "## Boolean status matrix\n",
    "\n",
    "Now that we have our boards in a decent format, we need to figure how to keep track of the numbers that have been drawn, and the completion status of each board.\n",
    "\n",
    "Maybe we can represent the numbers that have been drawn as a Boolean matrix.\n",
    "Then, as we draw each number, we have to mark it off on each board, and then check whether a board is done or not.\n",
    "\n",
    "Therefore, we need to implement a function to check if a Boolean matrix has a bingo:"
   ]
  },
  {
   "cell_type": "code",
   "execution_count": 11,
   "id": "79709a09",
   "metadata": {},
   "outputs": [
    {
     "data": {
      "text/plain": [
       "True"
      ]
     },
     "execution_count": 11,
     "metadata": {},
     "output_type": "execute_result"
    }
   ],
   "source": [
    "def boolean_matrix_has_bingo(matrix):\n",
    "    for i in range(len(matrix)):\n",
    "        row, col = True, True  # Check a row and a column at the same time.\n",
    "        for j in range(len(matrix)):\n",
    "            row = row and matrix[i][j]\n",
    "            col = col and matrix[j][i]\n",
    "        if row or col:\n",
    "            return True\n",
    "    return False\n",
    "\n",
    "boolean_matrix_has_bingo([\n",
    "    [True, False, False],\n",
    "    [True, False, True],\n",
    "    [True, True, False],\n",
    "])"
   ]
  },
  {
   "cell_type": "markdown",
   "id": "3f331200",
   "metadata": {},
   "source": [
    "Can we rewrite the function `boolean_matrix_has_bingo`?\n",
    "To check if a row has bingo, we could just use the `all` function:"
   ]
  },
  {
   "cell_type": "code",
   "execution_count": 12,
   "id": "58a6cddb",
   "metadata": {},
   "outputs": [
    {
     "data": {
      "text/plain": [
       "False"
      ]
     },
     "execution_count": 12,
     "metadata": {},
     "output_type": "execute_result"
    }
   ],
   "source": [
    "all([True, True, False])"
   ]
  },
  {
   "cell_type": "code",
   "execution_count": 13,
   "id": "8124a86f",
   "metadata": {},
   "outputs": [
    {
     "data": {
      "text/plain": [
       "True"
      ]
     },
     "execution_count": 13,
     "metadata": {},
     "output_type": "execute_result"
    }
   ],
   "source": [
    "all([True, True, True])"
   ]
  },
  {
   "cell_type": "markdown",
   "id": "61a7dbab",
   "metadata": {},
   "source": [
    "Similarly, if we use the transpose trick with `zip(*matrix)`, we could use `all` to check the columns as well!\n",
    "\n",
    "Because our boards are fairly small, the `zip(*matrix)` trick isn't that bad:"
   ]
  },
  {
   "cell_type": "code",
   "execution_count": 18,
   "id": "39d67939",
   "metadata": {},
   "outputs": [
    {
     "data": {
      "text/plain": [
       "True"
      ]
     },
     "execution_count": 18,
     "metadata": {},
     "output_type": "execute_result"
    }
   ],
   "source": [
    "def boolean_matrix_has_bingo(matrix):\n",
    "    for row in matrix:\n",
    "        if all(row):\n",
    "            return True\n",
    "    for col in zip(*matrix):\n",
    "        if all(col):\n",
    "            return True\n",
    "\n",
    "boolean_matrix_has_bingo([\n",
    "    [True, False, False],\n",
    "    [True, False, True],\n",
    "    [True, True, False],\n",
    "])"
   ]
  },
  {
   "cell_type": "markdown",
   "id": "5c9d073a",
   "metadata": {},
   "source": [
    "On a similar note, we can use `any` to check if _any_ of the rows or _any_ of the columns are full:"
   ]
  },
  {
   "cell_type": "code",
   "execution_count": 19,
   "id": "d800aa92",
   "metadata": {},
   "outputs": [
    {
     "data": {
      "text/plain": [
       "True"
      ]
     },
     "execution_count": 19,
     "metadata": {},
     "output_type": "execute_result"
    }
   ],
   "source": [
    "def boolean_matrix_has_bingo(matrix):\n",
    "    return (\n",
    "        any(all(row) for row in matrix) or\n",
    "        any(all(col) for col in zip(*matrix))\n",
    "    )\n",
    "\n",
    "boolean_matrix_has_bingo([\n",
    "    [True, False, False],\n",
    "    [True, False, True],\n",
    "    [True, True, False],\n",
    "])"
   ]
  },
  {
   "cell_type": "markdown",
   "id": "c1620115",
   "metadata": {},
   "source": [
    "And then, might as well create a function that takes a board, its status, and a new number, and updates the status matrix in case the number drawn appeared on that board:"
   ]
  },
  {
   "cell_type": "code",
   "execution_count": 16,
   "id": "72f3d196",
   "metadata": {},
   "outputs": [
    {
     "data": {
      "text/plain": [
       "[[False, False], [True, False]]"
      ]
     },
     "execution_count": 16,
     "metadata": {},
     "output_type": "execute_result"
    }
   ],
   "source": [
    "def update_status(board, status, number):\n",
    "    for row_s, row_b in zip(status, board):\n",
    "        for idx, num in enumerate(row_b):\n",
    "            row_s[idx] |= num == number\n",
    "\n",
    "board = [[1, 2], [3, 4]]\n",
    "status = [[False, False], [False, False]]\n",
    "update_status(board, status, 3)\n",
    "status  # Notice how the third Boolean value is now `True`."
   ]
  },
  {
   "cell_type": "markdown",
   "id": "74f7e1c0",
   "metadata": {},
   "source": [
    "Notice that the `|=` used above is a modified assignment.\n",
    "Using `var |= value` unfolds to `var = var | value`, which is the same as `var = var or value` for Boolean values.\n",
    "In our case, this piece of code means “`row_s[idx]` will be `True` if it was already `True` **or** if `num == number`”.\n",
    "In other words, if you think of `row_s[idx]` as a lightbulb, `row_s[idx] |= value` means that the lighbulb stays ON if it was ON, and it turns ON when `value` is `True`.\n",
    "\n",
    "Now, we just need a big simulation that draws one number at a time and checks the status of each board:"
   ]
  },
  {
   "cell_type": "code",
   "execution_count": 17,
   "id": "4f08b2c7",
   "metadata": {},
   "outputs": [],
   "source": [
    "def empty_boolean_matrix(size):\n",
    "    return [[False] * size for _ in range(size)]\n",
    "\n",
    "def bingo_simulation(nums_drawn, boards, statuses):\n",
    "    # Go over each number drawn.\n",
    "    for num_drawn in nums_drawn:\n",
    "        # Iterate over all boards ...\n",
    "        for board, status in zip(boards, statuses):\n",
    "            update_status(board, status, num_drawn)\n",
    "            # ... and if there is a bingo, ...\n",
    "            if boolean_matrix_has_bingo(status):\n",
    "                return num_drawn, board, status  # ... return all information."
   ]
  },
  {
   "cell_type": "markdown",
   "id": "ecaac3d7",
   "metadata": {},
   "source": [
    "We can get this to run with the code we have so far, to see if we can identify the board that wins.\n",
    "\n",
    "We put all the utility functions together, parse the boards, and then crack on with the simulation:"
   ]
  },
  {
   "cell_type": "code",
   "execution_count": 20,
   "id": "bdccbfee",
   "metadata": {},
   "outputs": [
    {
     "data": {
      "text/plain": [
       "(14,\n",
       " [[18, 30, 28, 50, 81],\n",
       "  [67, 47, 41, 45, 59],\n",
       "  [51, 14, 92, 6, 68],\n",
       "  [8, 46, 69, 84, 13],\n",
       "  [93, 25, 58, 26, 75]],\n",
       " [[True, True, False, True, True],\n",
       "  [False, True, True, False, False],\n",
       "  [False, True, False, False, False],\n",
       "  [False, True, False, False, True],\n",
       "  [True, True, True, False, True]])"
      ]
     },
     "execution_count": 20,
     "metadata": {},
     "output_type": "execute_result"
    }
   ],
   "source": [
    "def parse_board_matrix(board_string):\n",
    "    return [\n",
    "        [int(num) for num in string_row.split()]\n",
    "        for string_row in board_string.splitlines()\n",
    "    ]\n",
    "\n",
    "def boolean_matrix_has_bingo(matrix):\n",
    "    return (\n",
    "        any(all(row) for row in matrix) or\n",
    "        any(all(col) for col in zip(*matrix))\n",
    "    )\n",
    "\n",
    "def update_status(board, status, number):\n",
    "    for row_s, row_b in zip(status, board):\n",
    "        for idx, num in enumerate(row_b):\n",
    "            row_s[idx] |= num == number\n",
    "            \n",
    "def empty_boolean_matrix(size):\n",
    "    return [[False] * size for _ in range(size)]\n",
    "\n",
    "def bingo_simulation(nums_drawn, boards, statuses):\n",
    "    # Go over each number drawn.\n",
    "    for num_drawn in nums_drawn:\n",
    "        # Iterate over all boards ...\n",
    "        for board, status in zip(boards, statuses):\n",
    "            update_status(board, status, num_drawn)\n",
    "            # ... and if there is a bingo, ...\n",
    "            if boolean_matrix_has_bingo(status):\n",
    "                return num_drawn, board, status  # ... return all information.\n",
    "            \n",
    "with open(INPUT_FILE) as f:\n",
    "    contents = f.read().strip().split(\"\\n\\n\")\n",
    "\n",
    "numbers, *board_data = contents\n",
    "numbers = [int(num) for num in numbers.split(\",\")]  # Make sure the numbers are integers.\n",
    "boards = [parse_board_matrix(data) for data in board_data]\n",
    "\n",
    "bingo_simulation(numbers, boards, [empty_boolean_matrix(len(boards[0])) for _ in boards])"
   ]
  },
  {
   "cell_type": "markdown",
   "id": "e6f881f9",
   "metadata": {},
   "source": [
    "This is looking promising, now we need to score the board!"
   ]
  },
  {
   "cell_type": "markdown",
   "id": "1b68b388",
   "metadata": {},
   "source": [
    "## Scoring a board based on a status matrix\n",
    "\n",
    "In order to score a board, we need to find out what numbers are still unmarked.\n",
    "The unmarked numbers are associated with a `False` value on the status matrix, so those are the ones we care about.\n",
    "A nested loop can be used to traverse the two matrices at the same time to sum the unmarked values:"
   ]
  },
  {
   "cell_type": "code",
   "execution_count": 21,
   "id": "d04772d9",
   "metadata": {},
   "outputs": [
    {
     "data": {
      "text/plain": [
       "8442"
      ]
     },
     "execution_count": 21,
     "metadata": {},
     "output_type": "execute_result"
    }
   ],
   "source": [
    "def score_board_by_status_matrix(last_drawn, board, status):\n",
    "    acc = 0\n",
    "    for row_b, row_s in zip(board, status):\n",
    "        for num, marked in zip(row_b, row_s):\n",
    "            if not marked:\n",
    "                acc += num\n",
    "    return acc * last_drawn\n",
    "\n",
    "score_board_by_status_matrix(*bingo_simulation(\n",
    "    numbers,\n",
    "    boards,\n",
    "    [empty_boolean_matrix(len(boards[0])) for _ in boards],\n",
    "))"
   ]
  },
  {
   "cell_type": "markdown",
   "id": "7aded0f4",
   "metadata": {},
   "source": [
    "From a personal point of view, I like to avoid `if` statements whenever I can.\n",
    "I prefer to use the data in a computation to make it behave the way I like, instead of using an `if` to check whether or not I should make a computation.\n",
    "\n",
    "In the function above, we want to accumulate `num` whenever `not marked` is `True`.\n",
    "You might be familiar with the fact that `True` and `False` can behave as `1` and `0`, respectively, when forced to:"
   ]
  },
  {
   "cell_type": "code",
   "execution_count": 22,
   "id": "ac9959dd",
   "metadata": {},
   "outputs": [
    {
     "data": {
      "text/plain": [
       "2"
      ]
     },
     "execution_count": 22,
     "metadata": {},
     "output_type": "execute_result"
    }
   ],
   "source": [
    "True + 1"
   ]
  },
  {
   "cell_type": "code",
   "execution_count": 23,
   "id": "91318297",
   "metadata": {},
   "outputs": [
    {
     "data": {
      "text/plain": [
       "1"
      ]
     },
     "execution_count": 23,
     "metadata": {},
     "output_type": "execute_result"
    }
   ],
   "source": [
    "False + 1"
   ]
  },
  {
   "cell_type": "markdown",
   "id": "2a732275",
   "metadata": {},
   "source": [
    "Thus, `True` and `False` can be used to mask out a number in a sum if you multiply with the Boolean value first:"
   ]
  },
  {
   "cell_type": "code",
   "execution_count": 24,
   "id": "d0f5c307",
   "metadata": {},
   "outputs": [
    {
     "data": {
      "text/plain": [
       "8442"
      ]
     },
     "execution_count": 24,
     "metadata": {},
     "output_type": "execute_result"
    }
   ],
   "source": [
    "def score_board_by_status_matrix(last_drawn, board, status):\n",
    "    acc = 0\n",
    "    for row_b, row_s in zip(board, status):\n",
    "        for num, marked in zip(row_b, row_s):\n",
    "            acc += num * (not marked)\n",
    "    return acc * last_drawn\n",
    "\n",
    "score_board_by_status_matrix(*bingo_simulation(\n",
    "    numbers,\n",
    "    boards,\n",
    "    [empty_boolean_matrix(len(boards[0])) for _ in boards],\n",
    "))"
   ]
  },
  {
   "cell_type": "markdown",
   "id": "7ea56c9c",
   "metadata": {},
   "source": [
    "This still works because when a number is marked, `not marked` evaluates to `False`, and `num * (not marked)` will thus evaluate to `0`."
   ]
  },
  {
   "cell_type": "markdown",
   "id": "3bbc6221",
   "metadata": {},
   "source": [
    "## Board status as a list of bitmasks\n",
    "\n",
    "Inspired by a solution sent to me, we could represent each row of the board as a binary number, instead of having the explicit `True` and `False` values.\n",
    "We call this a bitmask, because each bit in that number represents the `True`/`False` state of the corresponding position.\n",
    "\n",
    "If we did that, then the initial status of a board would be just a list of zeroes:"
   ]
  },
  {
   "cell_type": "code",
   "execution_count": 25,
   "id": "78245dfe",
   "metadata": {},
   "outputs": [],
   "source": [
    "def empty_bit_rows(size):\n",
    "    return [0 for _ in range(size)]"
   ]
  },
  {
   "cell_type": "markdown",
   "id": "abaf3688",
   "metadata": {},
   "source": [
    "The rationale is that if a board has a row of, say, `[34, 27, 18]`, and the numbers `27` and `18` have been drawn out, then the row is represented as `0b011`, or as `3` in decimal.\n",
    "\n",
    "The next two functions we need to modify would be the function that checks whether there was a bingo and the function that updates the board.\n",
    "\n",
    "Checking if there is a bingo across a row is the same as checking whether or not all positions in that row contributed with a `1` in the binary expansion.\n",
    "For example, if the rows have length `3`, we'd want to see if the row was the number `0b111`, or `7`.\n",
    "\n",
    "Checking if there is a bingo across a column amounts to doing a bitwise AND down the rows:\n",
    "\n",
    "![](bitwise_and_downwards.png)\n",
    "\n",
    "After we do that bitwise AND, we check if the result is greater than 0.\n",
    "If it is, it's because the bit in one of the columns is 1.\n",
    "\n",
    "In order to implement this bitwise AND “down the rows”, we make use of `functools.reduce`, a severely underappreciated function.\n",
    "You can read up on `reduce` [on this article](https://mathspp.com/blog/pydonts/the-power-of-reduce).\n",
    "\n",
    "Here is the implementation:"
   ]
  },
  {
   "cell_type": "code",
   "execution_count": 26,
   "id": "662b32f7",
   "metadata": {},
   "outputs": [],
   "source": [
    "from functools import reduce\n",
    "from operator import and_\n",
    "\n",
    "def bit_rows_has_bingo(matrix):\n",
    "    # The number with the appropriate number of 1s in the binary expansion:\n",
    "    target = 2 ** len(matrix) - 1\n",
    "    return (\n",
    "        any(target == row for row in matrix) or\n",
    "        reduce(and_, matrix) > 0\n",
    "    )"
   ]
  },
  {
   "cell_type": "markdown",
   "id": "3c8258f2",
   "metadata": {},
   "source": [
    "Finally, to implement a function that updates the status of a given position, we need to use the left shifting operator:"
   ]
  },
  {
   "cell_type": "code",
   "execution_count": 27,
   "id": "cb9e9a20",
   "metadata": {},
   "outputs": [],
   "source": [
    "def update_status(board, status, number):\n",
    "    board_size = len(board[0])\n",
    "    for idx, row in enumerate(board):\n",
    "        try:\n",
    "            pos = row.index(number)  # Is the number in this row?\n",
    "            status[pos] |= 1 << (board_size - pos - 1)\n",
    "        except ValueError:\n",
    "            pass  # If `number` isn't in `row`, just skip this row."
   ]
  },
  {
   "cell_type": "markdown",
   "id": "848ab339",
   "metadata": {},
   "source": [
    "To check if all of this is working, we can plug our new functions into the previous simulation, and see if our code is able to determine the board that has a bingo first:"
   ]
  },
  {
   "cell_type": "code",
   "execution_count": 28,
   "id": "eb4454e9",
   "metadata": {},
   "outputs": [
    {
     "data": {
      "text/plain": [
       "(14,\n",
       " [[18, 30, 28, 50, 81],\n",
       "  [67, 47, 41, 45, 59],\n",
       "  [51, 14, 92, 6, 68],\n",
       "  [8, 46, 69, 84, 13],\n",
       "  [93, 25, 58, 26, 75]],\n",
       " [27, 12, 8, 9, 29])"
      ]
     },
     "execution_count": 28,
     "metadata": {},
     "output_type": "execute_result"
    }
   ],
   "source": [
    "from functools import reduce\n",
    "from operator import and_\n",
    "\n",
    "def parse_board_matrix(board_string):\n",
    "    return [\n",
    "        [int(num) for num in string_row.split()]\n",
    "        for string_row in board_string.splitlines()\n",
    "    ]\n",
    "\n",
    "def bit_rows_has_bingo(matrix):\n",
    "    # The number with the appropriate number of 1s in the binary expansion:\n",
    "    target = 2 ** len(matrix) - 1\n",
    "    return (\n",
    "        any(target == row for row in matrix) or\n",
    "        reduce(and_, matrix) > 0\n",
    "    )\n",
    "\n",
    "def update_status(board, status, number):\n",
    "    board_size = len(board[0])\n",
    "    for idx, row in enumerate(board):\n",
    "        try:\n",
    "            pos = row.index(number)\n",
    "            status[idx] |= 1 << (board_size - pos - 1)\n",
    "        except ValueError:\n",
    "            pass\n",
    "            \n",
    "def empty_bit_rows(size):\n",
    "    return [0 for _ in range(size)]\n",
    "\n",
    "def bingo_simulation(nums_drawn, boards, statuses):\n",
    "    # Go over each number drawn.\n",
    "    for num_drawn in nums_drawn:\n",
    "        # Iterate over all boards ...\n",
    "        for board, status in zip(boards, statuses):\n",
    "            update_status(board, status, num_drawn)\n",
    "            # ... and if there is a bingo, ...\n",
    "            if bit_rows_has_bingo(status):\n",
    "                return num_drawn, board, status  # ... return all information.\n",
    "            \n",
    "with open(INPUT_FILE) as f:\n",
    "    contents = f.read().strip().split(\"\\n\\n\")\n",
    "\n",
    "numbers, *board_data = contents\n",
    "numbers = [int(num) for num in numbers.split(\",\")]  # Make sure the numbers are integers.\n",
    "boards = [parse_board_matrix(data) for data in board_data]\n",
    "\n",
    "bingo_simulation(numbers, boards, [empty_bit_rows(len(boards[0])) for _ in boards])"
   ]
  },
  {
   "cell_type": "markdown",
   "id": "171b5cc3",
   "metadata": {},
   "source": [
    "If we scroll up, we will see that this is the same board that was returned previously, so we are on the right track.\n",
    "\n",
    "Now, we just need to score the board."
   ]
  },
  {
   "cell_type": "markdown",
   "id": "599b3998",
   "metadata": {},
   "source": [
    "## Scoring a board from a list of bitmasks\n",
    "\n",
    "Because we have a list of bitmasks, we have to adapt our scoring function ever so slightly.\n",
    "For instance, we can use `n & 1` to check if the rightmost bit of `n` is active:"
   ]
  },
  {
   "cell_type": "code",
   "execution_count": 29,
   "id": "bd9772ee",
   "metadata": {},
   "outputs": [
    {
     "data": {
      "text/plain": [
       "0"
      ]
     },
     "execution_count": 29,
     "metadata": {},
     "output_type": "execute_result"
    }
   ],
   "source": [
    "0b1010 & 1"
   ]
  },
  {
   "cell_type": "code",
   "execution_count": 30,
   "id": "70f7a5a7",
   "metadata": {},
   "outputs": [
    {
     "data": {
      "text/plain": [
       "1"
      ]
     },
     "execution_count": 30,
     "metadata": {},
     "output_type": "execute_result"
    }
   ],
   "source": [
    "0b1011 & 1"
   ]
  },
  {
   "cell_type": "markdown",
   "id": "a4e260d0",
   "metadata": {},
   "source": [
    "And we can use `n >> 1` (bitwise right shift) to get rid of the rightmost bit of `n`:"
   ]
  },
  {
   "cell_type": "code",
   "execution_count": 31,
   "id": "a0d01659",
   "metadata": {},
   "outputs": [
    {
     "data": {
      "text/plain": [
       "'0b101'"
      ]
     },
     "execution_count": 31,
     "metadata": {},
     "output_type": "execute_result"
    }
   ],
   "source": [
    "bin(0b1011 >> 1)"
   ]
  },
  {
   "cell_type": "markdown",
   "id": "b69d20c4",
   "metadata": {},
   "source": [
    "Thus, we can use these two to go over the rows of a board, and then over each row.\n",
    "When we go over each row, we do it backwards, so that we can work with the rightmost bits of the status bitmask:"
   ]
  },
  {
   "cell_type": "code",
   "execution_count": 32,
   "id": "d61ddb14",
   "metadata": {
    "scrolled": true
   },
   "outputs": [
    {
     "data": {
      "text/plain": [
       "8442"
      ]
     },
     "execution_count": 32,
     "metadata": {},
     "output_type": "execute_result"
    }
   ],
   "source": [
    "def score_board_by_status_matrix(last_drawn, board, status):\n",
    "    acc = 0\n",
    "    for row, bitmask in zip(board, status):\n",
    "        while row:\n",
    "            acc += row[-1] * (not bitmask & 1)\n",
    "            row = row[:-1]  # Drop the last element of the row,\n",
    "            bitmask >>= 1   # and the rightmost bit of the bitmask.\n",
    "    return acc * last_drawn\n",
    "\n",
    "score_board_by_status_matrix(*bingo_simulation(\n",
    "    numbers,\n",
    "    boards,\n",
    "    [empty_bit_rows(len(boards[0])) for _ in boards],\n",
    "))"
   ]
  },
  {
   "cell_type": "markdown",
   "id": "f704758b",
   "metadata": {},
   "source": [
    "## Board as a list of numbers\n",
    "\n",
    "We have been playing around with the way we represent the marked numbers, but they all built on top of the fact that we represented a board as a matrix.\n",
    "However, flat lists are easier to traverse so, what if we represented a board as a list of all of its numbers?"
   ]
  },
  {
   "cell_type": "code",
   "execution_count": 33,
   "id": "bb096244",
   "metadata": {},
   "outputs": [
    {
     "name": "stdout",
     "output_type": "stream",
     "text": [
      "[36, 11, 70, 77, 80, 63, 3, 56, 75, 28, 89, 91, 27, 33, 82, 53, 79, 52, 96, 32, 58, 14, 78, 65, 38]\n"
     ]
    }
   ],
   "source": [
    "def parse_board_flat(board_string):\n",
    "    return [int(num) for num in board_string.split()]\n",
    "\n",
    "flat_example = parse_board_flat(board_data[0])\n",
    "print(flat_example)"
   ]
  },
  {
   "cell_type": "markdown",
   "id": "ce2b9084",
   "metadata": {},
   "source": [
    "With this representation, it is very useful to know how to convert from a linear index to a `(row, col)` index that matches the appropriate matrix.\n",
    "\n",
    "For example, here is where `73` is on the flat representation:"
   ]
  },
  {
   "cell_type": "code",
   "execution_count": 34,
   "id": "df6b29ba",
   "metadata": {},
   "outputs": [
    {
     "ename": "ValueError",
     "evalue": "73 is not in list",
     "output_type": "error",
     "traceback": [
      "\u001b[1;31m---------------------------------------------------------------------------\u001b[0m",
      "\u001b[1;31mValueError\u001b[0m                                Traceback (most recent call last)",
      "\u001b[1;32m<ipython-input-34-44bad0f3f853>\u001b[0m in \u001b[0;36m<module>\u001b[1;34m\u001b[0m\n\u001b[1;32m----> 1\u001b[1;33m \u001b[0mflat_example\u001b[0m\u001b[1;33m.\u001b[0m\u001b[0mindex\u001b[0m\u001b[1;33m(\u001b[0m\u001b[1;36m73\u001b[0m\u001b[1;33m)\u001b[0m\u001b[1;33m\u001b[0m\u001b[1;33m\u001b[0m\u001b[0m\n\u001b[0m",
      "\u001b[1;31mValueError\u001b[0m: 73 is not in list"
     ]
    }
   ],
   "source": [
    "flat_example.index(73)"
   ]
  },
  {
   "cell_type": "markdown",
   "id": "2bd30ac7",
   "metadata": {},
   "source": [
    "How do we relate that to the row/column index of the matrix representation?\n",
    "\n",
    "In the matrix representation, `73` lives at row `3`, column `2`:"
   ]
  },
  {
   "cell_type": "code",
   "execution_count": 35,
   "id": "0e6f3b0b",
   "metadata": {},
   "outputs": [
    {
     "data": {
      "text/plain": [
       "[[36, 11, 70, 77, 80],\n",
       " [63, 3, 56, 75, 28],\n",
       " [89, 91, 27, 33, 82],\n",
       " [53, 79, 52, 96, 32],\n",
       " [58, 14, 78, 65, 38]]"
      ]
     },
     "execution_count": 35,
     "metadata": {},
     "output_type": "execute_result"
    }
   ],
   "source": [
    "parse_board_matrix(board_data[0])"
   ]
  },
  {
   "cell_type": "markdown",
   "id": "8b87e591",
   "metadata": {},
   "source": [
    "In fact, to do this we use the built-in function `divmod`:"
   ]
  },
  {
   "cell_type": "code",
   "execution_count": 36,
   "id": "51d28b9b",
   "metadata": {},
   "outputs": [
    {
     "data": {
      "text/plain": [
       "(3, 2)"
      ]
     },
     "execution_count": 36,
     "metadata": {},
     "output_type": "execute_result"
    }
   ],
   "source": [
    "divmod(17, 5)"
   ]
  },
  {
   "cell_type": "markdown",
   "id": "48e69f93",
   "metadata": {},
   "source": [
    "Notice how the result of using `divmod` on the linear index, with the size of the matrix, gives the row/column coordinates into the matrix.\n",
    "\n",
    "This is a very useful relationship.\n",
    "\n",
    "In case you are wondering, `divmod` is essentially this:"
   ]
  },
  {
   "cell_type": "code",
   "execution_count": 37,
   "id": "71920cb7",
   "metadata": {},
   "outputs": [
    {
     "data": {
      "text/plain": [
       "(3, 2)"
      ]
     },
     "execution_count": 37,
     "metadata": {},
     "output_type": "execute_result"
    }
   ],
   "source": [
    "def divmod(n, m):\n",
    "    return n // m, n % m\n",
    "\n",
    "divmod(17, 5)"
   ]
  },
  {
   "cell_type": "markdown",
   "id": "b7aaecb8",
   "metadata": {},
   "source": [
    "Now that we have changed how we represent a board, we will experiment with a couple of other ways of representing the status of the board.\n",
    "\n",
    "Note that the representations of the status we are going to play with right now **are not** incompatible with other board representations!\n",
    "In particular, the status representations we are going to see next could have been used with the matrix board representation."
   ]
  },
  {
   "cell_type": "markdown",
   "id": "7600c492",
   "metadata": {},
   "source": [
    "## Board status as a list of coordinates\n",
    "\n",
    "The first thing we will do is store the status of the board as a list of `(row, col)` pairs that represent the positions that have been marked off.\n",
    "\n",
    "Then, checking for a bingo means we need to look at those pairs and see if there is any row or column index that shows up enough times.\n",
    "\n",
    "For example, if our boards have size `3`, then the following list represents a bingo:"
   ]
  },
  {
   "cell_type": "code",
   "execution_count": 38,
   "id": "111cdd92",
   "metadata": {},
   "outputs": [
    {
     "data": {
      "text/plain": [
       "[(0, 1), (1, 2), (2, 2), (1, 1), (0, 0), (2, 1)]"
      ]
     },
     "execution_count": 38,
     "metadata": {},
     "output_type": "execute_result"
    }
   ],
   "source": [
    "[(0, 1), (1, 2), (2, 2), (1, 1), (0, 0), (2, 1)]"
   ]
  },
  {
   "cell_type": "markdown",
   "id": "d3e78777",
   "metadata": {},
   "source": [
    "Why?\n",
    "Because the column `1` shows up `3` times.\n",
    "\n",
    "Here is how we can compute if such a list has a bingo:"
   ]
  },
  {
   "cell_type": "code",
   "execution_count": 39,
   "id": "0242246e",
   "metadata": {},
   "outputs": [],
   "source": [
    "def flat_board_has_bingo(board_lst, n):\n",
    "    return (\n",
    "        any(sum(r == i for r, _ in board_lst) == n for i in range(n)) or\n",
    "        any(sum(c == i for _, c in board_lst) == n for i in range(n))\n",
    "    )"
   ]
  },
  {
   "cell_type": "markdown",
   "id": "436fa492",
   "metadata": {},
   "source": [
    "Then, updating the status is just a matter of appending the appropriate pair of coordinates (from `divmod`) **if** the number is in the board:"
   ]
  },
  {
   "cell_type": "code",
   "execution_count": 40,
   "id": "a84c0005",
   "metadata": {},
   "outputs": [],
   "source": [
    "def update_status(board, status, number):\n",
    "    board_size = int(len(board) ** 0.5)\n",
    "    try:\n",
    "        status.append(divmod(board.index(number), board_size))\n",
    "    except ValueError:\n",
    "        pass"
   ]
  },
  {
   "cell_type": "markdown",
   "id": "d8ec7a3d",
   "metadata": {},
   "source": [
    "Finally, we can run our simulation:"
   ]
  },
  {
   "cell_type": "code",
   "execution_count": 41,
   "id": "0c50e8db",
   "metadata": {},
   "outputs": [
    {
     "name": "stdout",
     "output_type": "stream",
     "text": [
      "(14, [18, 30, 28, 50, 81, 67, 47, 41, 45, 59, 51, 14, 92, 6, 68, 8, 46, 69, 84, 13, 93, 25, 58, 26, 75], [(4, 1), (4, 2), (1, 1), (0, 3), (0, 1), (4, 4), (0, 0), (0, 4), (3, 1), (4, 0), (3, 4), (1, 2), (2, 1)])\n"
     ]
    }
   ],
   "source": [
    "def bingo_simulation(nums_drawn, boards, statuses):\n",
    "    board_size = int(len(boards[0]) ** 0.5)  # Square root of length gives square board size.\n",
    "    # Go over each number drawn.\n",
    "    for num_drawn in nums_drawn:\n",
    "        # Iterate over all boards ...\n",
    "        for board, status in zip(boards, statuses):\n",
    "            update_status(board, status, num_drawn)\n",
    "            # ... and if there is a bingo, ...\n",
    "            if flat_board_has_bingo(status, board_size):\n",
    "                return num_drawn, board, status  # ... return all information.\n",
    "            \n",
    "with open(INPUT_FILE) as f:\n",
    "    contents = f.read().strip().split(\"\\n\\n\")\n",
    "\n",
    "numbers, *board_data = contents\n",
    "numbers = [int(num) for num in numbers.split(\",\")]  # Make sure the numbers are integers.\n",
    "boards = [parse_board_flat(data) for data in board_data]\n",
    "\n",
    "print(bingo_simulation(numbers, boards, [[] for _ in boards]))"
   ]
  },
  {
   "cell_type": "markdown",
   "id": "77eaef95",
   "metadata": {},
   "source": [
    "## Scoring with flat list of coordinates\n",
    "\n",
    "You know the drill!\n",
    "We go over each possible set of coordinates, and add them to an accumulator **if** those coordinates haven't been used.\n",
    "\n",
    "_Or_, we could try something different.\n",
    "Because the board is a flat list, we can `sum` it directly, and then subtract the coordinates that are marked:"
   ]
  },
  {
   "cell_type": "code",
   "execution_count": 42,
   "id": "feafab19",
   "metadata": {},
   "outputs": [
    {
     "data": {
      "text/plain": [
       "8442"
      ]
     },
     "execution_count": 42,
     "metadata": {},
     "output_type": "execute_result"
    }
   ],
   "source": [
    "def score_board_by_list_of_coordinates(num_drawn, board, status):\n",
    "    board_size = int(len(board) ** 0.5)\n",
    "    acc = sum(board)\n",
    "    for r, c in status:\n",
    "        acc -= board[r * board_size + c]\n",
    "    return num_drawn * acc\n",
    "\n",
    "score_board_by_list_of_coordinates(*bingo_simulation(\n",
    "    numbers,\n",
    "    boards,\n",
    "    [[] for _ in boards],\n",
    "))"
   ]
  },
  {
   "cell_type": "markdown",
   "id": "6a67aa1f",
   "metadata": {},
   "source": [
    "In order to implement this, we had to make use of the “inverse transformation” of `divmod`.\n",
    "With `divmod`, we can go from a single index into the pair of row/column indices.\n",
    "\n",
    "With a multiplication and addition, we can revert this.\n",
    "\n",
    "So, if `r, c = divmod(n, m)`, then `n == r * m + c`.\n",
    "That is the identity that was used above."
   ]
  },
  {
   "cell_type": "markdown",
   "id": "b0ab6bc3",
   "metadata": {},
   "source": [
    "## Part 2 problem statement\n",
    "\n",
    "(From [Advent of Code 2021, day 4](https://adventofcode.com/2021/day/4))\n",
    "\n",
    "On the other hand, it might be wise to try a different strategy: let the giant squid win.\n",
    "\n",
    "You aren't sure how many bingo boards a giant squid could play at once, so rather than waste time counting its arms, the safe thing to do is to _figure out which board will win last_ and choose that one. That way, no matter which boards it picks, it will win for sure.\n",
    "\n",
    "In the above example, the second board is the last to win, which happens after `13` is eventually called and its middle column is completely marked. If you were to keep playing until this point, the second board would have a sum of unmarked numbers equal to `148` for a final score of `148 * 13 = _1924_`.\n",
    "\n",
    "Figure out which board will win last. _Once it wins, what would its final score be?_\n",
    "\n",
    "_Using the input file `04_giant_squid.txt`, the result should be 36975._"
   ]
  },
  {
   "cell_type": "markdown",
   "id": "4bd88dfc",
   "metadata": {},
   "source": [
    "## Tweaking the simulation\n",
    "\n",
    "The second part of the problem statement is awfully similar to the first part, except now we want the board that is finished last.\n",
    "\n",
    "To compute this, we can start off with a list of all boards, and successively get rid of them as they get completed.\n",
    "When we figure out what the last board will be, we keep playing on it until we find out what is the winning number for that board.\n",
    "This will work regardless of the way you choose to represent the board/its completion status:"
   ]
  },
  {
   "cell_type": "code",
   "execution_count": 43,
   "id": "69fe27bb",
   "metadata": {},
   "outputs": [
    {
     "data": {
      "text/plain": [
       "4590"
      ]
     },
     "execution_count": 43,
     "metadata": {},
     "output_type": "execute_result"
    }
   ],
   "source": [
    "def bingo_simulation_last(nums_drawn, boards, statuses):\n",
    "    board_size = int(len(boards[0]) ** 0.5)\n",
    "\n",
    "    while len(boards) > 1:\n",
    "        num_drawn, *nums_drawn = nums_drawn\n",
    "        next_boards, next_statuses = [], []\n",
    "        \n",
    "        # Update all boards, ...\n",
    "        for board, status in zip(boards, statuses):\n",
    "            update_status(board, status, num_drawn)\n",
    "            \n",
    "            # ... then keep those that don't have a bingo:\n",
    "            if not flat_board_has_bingo(status, board_size):\n",
    "                next_boards.append(board)\n",
    "                next_statuses.append(status)\n",
    "                \n",
    "        boards, statuses = next_boards, next_statuses\n",
    "\n",
    "    # Play the final board to completion.\n",
    "    board, status = boards[0], statuses[0]\n",
    "    while not flat_board_has_bingo(status, board_size):\n",
    "        num_drawn, *nums_drawn = nums_drawn\n",
    "        update_status(board, status, num_drawn)\n",
    "    \n",
    "    return num_drawn, board, status\n",
    "\n",
    "score_board_by_list_of_coordinates(*bingo_simulation_last(\n",
    "    numbers,\n",
    "    boards,\n",
    "    [[] for _ in boards],\n",
    "))"
   ]
  },
  {
   "cell_type": "markdown",
   "id": "8cec889d",
   "metadata": {},
   "source": [
    "This works, but is a bit clumsy.\n",
    "After all, the filtering that is taking place forced us to keep track of two helper variables.\n",
    "\n",
    "We can make this cleaner if we `zip` the boards and statuses together in the beginning, and keep them together throughout the simulation:"
   ]
  },
  {
   "cell_type": "code",
   "execution_count": 44,
   "id": "86460812",
   "metadata": {},
   "outputs": [
    {
     "data": {
      "text/plain": [
       "4590"
      ]
     },
     "execution_count": 44,
     "metadata": {},
     "output_type": "execute_result"
    }
   ],
   "source": [
    "def bingo_simulation_last(nums_drawn, boards, statuses):\n",
    "    board_size = int(len(boards[0]) ** 0.5)\n",
    "    data = list(zip(boards, statuses))\n",
    "\n",
    "    while len(data) > 1:\n",
    "        num_drawn, *nums_drawn = nums_drawn\n",
    "        \n",
    "        # Update all boards, ...\n",
    "        for board, status in data:\n",
    "            update_status(board, status, num_drawn)\n",
    "        # ... then keep those that don't have a bingo.\n",
    "        data = [\n",
    "            (board, status) for board, status in data\n",
    "            if not flat_board_has_bingo(status, board_size)\n",
    "        ]\n",
    "\n",
    "    board, status = data[0]\n",
    "    while not flat_board_has_bingo(status, board_size):\n",
    "        num_drawn, *nums_drawn = nums_drawn\n",
    "        update_status(board, status, num_drawn)\n",
    "    \n",
    "    return num_drawn, board, status\n",
    "\n",
    "score_board_by_list_of_coordinates(*bingo_simulation_last(\n",
    "    numbers,\n",
    "    boards,\n",
    "    [[] for _ in boards],\n",
    "))"
   ]
  },
  {
   "cell_type": "markdown",
   "id": "901d88a5",
   "metadata": {},
   "source": [
    "This is a good example of a place where a `zip` makes all the difference.\n",
    "\n",
    "When two sequences of data go hand-in-hand like this, where the elements from one sequence are tightly coupled to another sequence, you often find yourself iterating over them in a `for` loop with `zip`.\n",
    "In this case, because of the processing we were doing, it turned out that it was very useful to actually keep them `zip`ped all the time.\n",
    "\n",
    "However, we have seen that the two parts of the problem look remarkably similar, and yet, the simulation function had to undergo quite some changes.\n",
    "When there is a very clear symmetry in problem statements, and the code that solves them is not symmetric, that's often a good hint that you might be missing a better solution.\n",
    "\n",
    "Let's try to find it."
   ]
  },
  {
   "cell_type": "markdown",
   "id": "4ed5e117",
   "metadata": {},
   "source": [
    "## Processing each board in turn\n",
    "\n",
    "The asymmetry we are faced with is in the code that simulates the game of bingo, so it is fair to assume that the issue isn't specifically related to the representations we are using.\n",
    "So, a change of methodology is needed.\n",
    "\n",
    "Instead of simulating the game of bingo, by successively drawing numbers, let's process each board to completion.\n",
    "In other words, our simulations consisted (roughly) of a double loop of the form\n",
    "\n",
    "```py\n",
    "for number in numbers_to_draw:\n",
    "    for board in boards:\n",
    "        ...\n",
    "```\n",
    "\n",
    "and now we are looking to write some code that looks like\n",
    "\n",
    "```py\n",
    "for board in boards:\n",
    "    for number in numbers_to_draw:\n",
    "        ...\n",
    "```\n",
    "\n",
    "By doing this, we play each board to completion, and then we get a series of results that indicate when each board was finished.\n",
    "From there, we can pick whatever board we like: the board that was finished first, last, second, tenth, whatever we want!\n",
    "\n",
    "Let's rewrite our simulation function:"
   ]
  },
  {
   "cell_type": "code",
   "execution_count": 45,
   "id": "b73a4242",
   "metadata": {},
   "outputs": [],
   "source": [
    "def bingo_simulation_by_board(nums_drawn, boards, statuses):\n",
    "    board_size = int(len(boards[0]) ** 0.5)\n",
    "\n",
    "    # Number of moves needed to finish each board:\n",
    "    finishing_moves = []\n",
    "    for board, status in zip(boards, statuses):\n",
    "        # Create a copy of the list of numbers to draw from:\n",
    "        draw_from, moves = nums_drawn[::], -1\n",
    "        # Play board to completion:\n",
    "        while not flat_board_has_bingo(status, board_size):\n",
    "            num, *draw_from = draw_from\n",
    "            update_status(board, status, num)\n",
    "            moves += 1\n",
    "        finishing_moves.append(moves)\n",
    "\n",
    "    return finishing_moves, boards, statuses\n",
    "            \n",
    "finishing_moves, boards, statuses = bingo_simulation_by_board(\n",
    "    numbers,\n",
    "    boards,\n",
    "    [[] for _ in boards],\n",
    ")"
   ]
  },
  {
   "cell_type": "markdown",
   "id": "8c0e23b2",
   "metadata": {},
   "source": [
    "With the code written so far, we have the final statuses of all the boards, and we have an extra piece of information:\n",
    "the list `finishing_moves` tells us how many numbers had to be drawn for each board to be completed:"
   ]
  },
  {
   "cell_type": "code",
   "execution_count": 46,
   "id": "76dfd40b",
   "metadata": {},
   "outputs": [
    {
     "data": {
      "text/plain": [
       "[63, 75, 59, 51, 62]"
      ]
     },
     "execution_count": 46,
     "metadata": {},
     "output_type": "execute_result"
    }
   ],
   "source": [
    "finishing_moves[:5]"
   ]
  },
  {
   "cell_type": "markdown",
   "id": "7de24f50",
   "metadata": {},
   "source": [
    "This tells us that\n",
    "\n",
    " - the first board was completed after 44 moves, when `numbers[43]` was drawn;\n",
    " - the second board was completed after 55 moves, when `numbers[54]` was drawn;\n",
    " - etc.\n",
    "\n",
    "Now, we can use the functions `min` and `max` to figure out the board that took the least/most amount of draws to be completed:"
   ]
  },
  {
   "cell_type": "code",
   "execution_count": 47,
   "id": "41262c44",
   "metadata": {},
   "outputs": [
    {
     "name": "stdout",
     "output_type": "stream",
     "text": [
      "8442\n",
      "4590\n"
     ]
    }
   ],
   "source": [
    "for picker in [min, max]:\n",
    "    last_drawn_idx = picker(finishing_moves)\n",
    "    board_idx = finishing_moves.index(last_drawn_idx)\n",
    "    print(score_board_by_list_of_coordinates(\n",
    "        numbers[last_drawn_idx],\n",
    "        boards[board_idx],\n",
    "        statuses[board_idx],\n",
    "    ))"
   ]
  },
  {
   "cell_type": "markdown",
   "id": "4fa382b1",
   "metadata": {},
   "source": [
    "The assignment `board_idx = ...` is used to find out the index of the board that finished in the selected amount of moves.\n",
    "That's because `picker(...)` picks the number of moves that we want, but then we need to associate a board with that number of moves."
   ]
  },
  {
   "cell_type": "markdown",
   "id": "1b17c8cc",
   "metadata": {},
   "source": [
    "## Direct computation of board completion\n",
    "\n",
    "So far, we have been drawing numbers and checking if/how they affect each board.\n",
    "\n",
    "We can reverse this train of thought as well: instead of drawing numbers and checking whether they change the status of a board, we can take a board and we can check the indices at which those numbers appear in the list of numbers to draw.\n",
    "\n",
    "By doing this, we get a second representation of the board; this one will show how much time we need to wait for each number in the board to be drawn.\n",
    "Then, we can figure out how many moves we need for each row/column to give a bingo, and we can pick the first of those row/columns bingos as the moment when the board gives a bingo.\n",
    "\n",
    "For example, for this board:"
   ]
  },
  {
   "cell_type": "code",
   "execution_count": 48,
   "id": "b2277145",
   "metadata": {},
   "outputs": [
    {
     "name": "stdout",
     "output_type": "stream",
     "text": [
      "[36, 11, 70, 77, 80, 63, 3, 56, 75, 28, 89, 91, 27, 33, 82, 53, 79, 52, 96, 32, 58, 14, 78, 65, 38]\n"
     ]
    }
   ],
   "source": [
    "print(boards[0])"
   ]
  },
  {
   "cell_type": "markdown",
   "id": "5cdf7bc4",
   "metadata": {},
   "source": [
    "this would be the related board of indices:"
   ]
  },
  {
   "cell_type": "code",
   "execution_count": 49,
   "id": "6854e57d",
   "metadata": {},
   "outputs": [
    {
     "name": "stdout",
     "output_type": "stream",
     "text": [
      "[86, 12, 37, 91, 71, 13, 63, 20, 17, 75, 57, 11, 48, 16, 73, 59, 4, 34, 77, 22, 6, 28, 69, 27, 31]\n"
     ]
    }
   ],
   "source": [
    "print([numbers.index(num) for num in boards[0]])"
   ]
  },
  {
   "cell_type": "markdown",
   "id": "cc253d1f",
   "metadata": {},
   "source": [
    "How do we read these results?\n",
    "From left to right, and pairing up the two lists:\n",
    "\n",
    " - the number `14` of the board will be drawn in the move with index `16`;\n",
    " - the number `33` of the board will be drawn in the move with index `20`;\n",
    " - the number `79` of the board will be drawn in the move with index `50`;\n",
    " - ...\n",
    "\n",
    "After figuring out this representation of indices, we need to figure out how early we can get a bingo.\n",
    "For that, we check when each row and each column gives a bingo, and we pick the fastest time of all of them:"
   ]
  },
  {
   "cell_type": "code",
   "execution_count": 50,
   "id": "f117aba3",
   "metadata": {},
   "outputs": [
    {
     "data": {
      "text/plain": [
       "True"
      ]
     },
     "execution_count": 50,
     "metadata": {},
     "output_type": "execute_result"
    }
   ],
   "source": [
    "def bingo_at(board, numbers):\n",
    "    indices = [numbers.index(num) for num in board]\n",
    "    size = int(len(board) ** 0.5)\n",
    "    return min(\n",
    "        # How early can a row give a bingo?\n",
    "        min(max(indices[r * size + c] for c in range(size)) for r in range(size)),\n",
    "        # How early can a column give a bingo?\n",
    "        min(max(indices[r * size + c] for r in range(size)) for c in range(size)),\n",
    "    )\n",
    "\n",
    "[bingo_at(board, numbers) for board in boards] == finishing_moves"
   ]
  },
  {
   "cell_type": "markdown",
   "id": "f791327a",
   "metadata": {},
   "source": [
    "We can see that our function `bingo_at` is able to reproduce the results we had gotten above, regarding the moment when each board gives a bingo.\n",
    "So, this function can almost replace the simulation function we had.\n",
    "The only reason why the replacement can't happen directly, is because the simulation produces a status variable that we do not have here.\n",
    "\n",
    "For us to use the function `bingo_at`, we need a new way of scoring the board."
   ]
  },
  {
   "cell_type": "markdown",
   "id": "77485192",
   "metadata": {},
   "source": [
    "## Scoring a board from draw indices\n",
    "\n",
    "In order to score a board, we need to access all the unmarked numbers on the board: those will be all the numbers whose index in the list `numbers` is greater than the index at which a bingo happens.\n",
    "\n",
    "Thus, we can score a board as such:"
   ]
  },
  {
   "cell_type": "code",
   "execution_count": 51,
   "id": "3d2ebd8c",
   "metadata": {
    "scrolled": true
   },
   "outputs": [
    {
     "name": "stdout",
     "output_type": "stream",
     "text": [
      "8442\n",
      "4590\n"
     ]
    }
   ],
   "source": [
    "def score_board_from_draw_indices(board, numbers, bingo_at):\n",
    "    acc = 0\n",
    "    for number in numbers[bingo_at + 1:]:\n",
    "        if number in board:\n",
    "            acc += number\n",
    "    return acc * numbers[bingo_at]\n",
    "\n",
    "bingos = [bingo_at(board, numbers) for board in boards]\n",
    "\n",
    "for picker in [min, max]:\n",
    "    last_drawn_idx = picker(finishing_moves)\n",
    "    board_idx = finishing_moves.index(last_drawn_idx)\n",
    "    print(score_board_from_draw_indices(boards[board_idx], numbers, last_drawn_idx))"
   ]
  },
  {
   "cell_type": "markdown",
   "id": "5511e0b5",
   "metadata": {},
   "source": [
    "## Conclusion\n",
    "\n",
    "When you have a “large” problem, try decomposing it into smaller pieces.\n",
    "You may have a hard time figuring out how to completely decouple the several pieces, but it already helps if you have smaller subproblems that you can tackle little by little.\n",
    "\n",
    "If you have any questions, suggestions, remarks, recommendations, corrections, or anything else, you can reach out to me [on Twitter](https://twitter.com/mathsppblog) or via email to rodrigo at mathspp dot com."
   ]
  },
  {
   "cell_type": "code",
   "execution_count": null,
   "id": "350e8809",
   "metadata": {},
   "outputs": [],
   "source": []
  }
 ],
 "metadata": {
  "kernelspec": {
   "display_name": "Python 3",
   "language": "python",
   "name": "python3"
  },
  "language_info": {
   "codemirror_mode": {
    "name": "ipython",
    "version": 3
   },
   "file_extension": ".py",
   "mimetype": "text/x-python",
   "name": "python",
   "nbconvert_exporter": "python",
   "pygments_lexer": "ipython3",
   "version": "3.8.8"
  },
  "toc": {
   "base_numbering": 1,
   "nav_menu": {},
   "number_sections": false,
   "sideBar": true,
   "skip_h1_title": true,
   "title_cell": "Table of Contents",
   "title_sidebar": "Contents",
   "toc_cell": false,
   "toc_position": {},
   "toc_section_display": true,
   "toc_window_display": false
  }
 },
 "nbformat": 4,
 "nbformat_minor": 5
}
