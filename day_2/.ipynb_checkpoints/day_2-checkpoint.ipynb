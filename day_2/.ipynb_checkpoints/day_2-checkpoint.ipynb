{
 "cells": [
  {
   "cell_type": "markdown",
   "metadata": {},
   "source": [
    "# Python Bootcamp: Advent of Code (Day 2)"
   ]
  },
  {
   "cell_type": "markdown",
   "metadata": {},
   "source": [
    "## 1. Puzzle 1"
   ]
  },
  {
   "cell_type": "markdown",
   "metadata": {},
   "source": [
    "### 1.1 My Solution"
   ]
  },
  {
   "cell_type": "code",
   "execution_count": 46,
   "metadata": {},
   "outputs": [],
   "source": [
    "# Read input file\n",
    "with open('data/input.txt') as f:\n",
    "    lines = f.readlines()\n",
    "\n",
    "# Remove '\\n' from each element\n",
    "data = [ele.rstrip('\\n') for ele in lines]"
   ]
  },
  {
   "cell_type": "code",
   "execution_count": 47,
   "metadata": {},
   "outputs": [
    {
     "name": "stdout",
     "output_type": "stream",
     "text": [
      "Horizontal Position: 1990\n",
      "Depth: 1000\n",
      "Answer:  1990000\n"
     ]
    }
   ],
   "source": [
    "x = 0 # horizontal position\n",
    "y = 0 # depth\n",
    "\n",
    "for ele in data:\n",
    "    if 'forward' in ele:\n",
    "        x += int(ele.split()[1])\n",
    "        \n",
    "    else:\n",
    "        if 'down' in ele:\n",
    "            y += int(ele.split()[1])\n",
    "        else:\n",
    "            y -= int(ele.split()[1])\n",
    "        \n",
    "print(\"Horizontal Position:\", x)\n",
    "print(\"Depth:\", y)\n",
    "print(\"Answer: \", x*y)"
   ]
  },
  {
   "cell_type": "markdown",
   "metadata": {},
   "source": [
    "## 2. Puzzle 2"
   ]
  },
  {
   "cell_type": "markdown",
   "metadata": {},
   "source": [
    "### 2.1 My Solution"
   ]
  },
  {
   "cell_type": "code",
   "execution_count": 48,
   "metadata": {},
   "outputs": [
    {
     "name": "stdout",
     "output_type": "stream",
     "text": [
      "Horizontal Position: 1990\n",
      "Depth: 992674\n",
      "Aim: 1000\n",
      "Answer: 1975421260\n"
     ]
    }
   ],
   "source": [
    "x = 0 # horizontal position\n",
    "y = 0 # depth\n",
    "aim = 0\n",
    "\n",
    "for ele in data:\n",
    "    if 'forward' in ele:\n",
    "        x += int(ele.split()[1])\n",
    "        y += aim*int(ele.split()[1])\n",
    "        \n",
    "    else:\n",
    "        if 'down' in ele:\n",
    "            aim += int(ele.split()[1])\n",
    "\n",
    "        else:\n",
    "            aim -= int(ele.split()[1])\n",
    "\n",
    "print(\"Horizontal Position:\", x)\n",
    "print(\"Depth:\", y)\n",
    "print(\"Aim:\", aim)\n",
    "print(\"Answer:\", x*y)    "
   ]
  }
 ],
 "metadata": {
  "interpreter": {
   "hash": "c9008ba995d2c46f7a8a8b57a00346eea774fcdf0db2b71700344559b6c212be"
  },
  "kernelspec": {
   "display_name": "Python 3",
   "language": "python",
   "name": "python3"
  },
  "language_info": {
   "codemirror_mode": {
    "name": "ipython",
    "version": 3
   },
   "file_extension": ".py",
   "mimetype": "text/x-python",
   "name": "python",
   "nbconvert_exporter": "python",
   "pygments_lexer": "ipython3",
   "version": "3.8.8"
  }
 },
 "nbformat": 4,
 "nbformat_minor": 2
}
