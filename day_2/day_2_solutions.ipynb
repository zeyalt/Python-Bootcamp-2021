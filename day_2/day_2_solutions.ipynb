{
 "cells": [
  {
   "cell_type": "markdown",
   "id": "9f6a5c4a",
   "metadata": {},
   "source": [
    "# Dive!\n",
    "\n",
    "The analysis that follows pertains to the second day of the [Python Problem-Solving Bootcamp](https://mathspp.com/pythonbootcamp).\n",
    "\n",
    "In the analysis that follows you may be confronted with code that you do not understand, especially as you reach the end of the explanation of each part.\n",
    "\n",
    "If you find functions that you didn't know before, remember to [check the docs](https://docs.python.org/3/) for those functions and play around with them in the REPL.\n",
    "This is written to be increasing in difficulty (within each part of the problem), so it is understandable if it gets harder as you keep reading.\n",
    "That's perfectly fine, you don't have to understand everything _right now_, especially because I can't know for sure what _your level_ is."
   ]
  },
  {
   "cell_type": "markdown",
   "id": "01060078",
   "metadata": {},
   "source": [
    "## Part 1 problem statement\n",
    "\n",
    "(Adapted from [Advent of Code 2021, day 2](https://adventofcode.com/2021/day/2))\n",
    "\n",
    "You will be given a series of instructions like\n",
    "\n",
    "```txt\n",
    "forward 5\n",
    "down 5\n",
    "forward 8\n",
    "up 3\n",
    "down 8\n",
    "forward 2\n",
    "```\n",
    "\n",
    "These instructions will change your horizontal position and your depth, two values you need to keep track of:\n",
    "\n",
    " - `forward X` increases the horizontal position by X units;\n",
    " - `down X` increases the depth by X units; and\n",
    " - `up X` decreases the depth by X units.\n",
    "\n",
    "Your horizontal position and depth both start at 0. The steps above would then modify them as follows:\n",
    "\n",
    " - `forward 5` adds 5 to your horizontal position, a total of 5.\n",
    " - `down 5` adds 5 to your depth, resulting in a value of 5.\n",
    " - `forward 8` adds 8 to your horizontal position, a total of 13.\n",
    " - `up 3` decreases your depth by 3, resulting in a value of 2.\n",
    " - `down 8` adds 8 to your depth, resulting in a value of 10.\n",
    " - `forward 2` adds 2 to your horizontal position, a total of 15.\n",
    "\n",
    "After following these instructions, you would have a horizontal position of 15 and a depth of 10. (Multiplying these together produces 150.)\n",
    "\n",
    "**Calculate the horizontal position and depth you would have after following the planned course. What do you get if you multiply your final horizontal position by your final depth?**\n",
    "\n",
    "_Using the input file `inputs/02_dive.txt`, the result should be 1727835._"
   ]
  },
  {
   "cell_type": "code",
   "execution_count": 1,
   "id": "8c32536d",
   "metadata": {},
   "outputs": [],
   "source": [
    "# IMPORTANT: Set this to the correct path for you!\n",
    "# INPUT_FILE = \"inputs/02_dive.txt\"\n",
    "INPUT_FILE = \"data/input.txt\""
   ]
  },
  {
   "cell_type": "markdown",
   "id": "2cf8831c",
   "metadata": {},
   "source": [
    "### Baseline solution\n",
    "\n",
    "This problem is very straightforward, in that we do not have to interpret the problem statement very much to understand what we need to do from a conceptual standpoint:\n",
    "\n",
    " - we have a file with a series of lines;\n",
    " - each line contains an instruction and a number; and\n",
    " - the instruction and the number modify our current state.\n",
    "\n",
    "With this in mind, we can start by experimenting with reading the file, going through each line, and interpreting the instruction:"
   ]
  },
  {
   "cell_type": "code",
   "execution_count": 2,
   "id": "2f81ad62",
   "metadata": {},
   "outputs": [
    {
     "name": "stdout",
     "output_type": "stream",
     "text": [
      "1990000\n"
     ]
    }
   ],
   "source": [
    "with open(INPUT_FILE, \"r\") as f:\n",
    "    instructions = f.readlines()\n",
    "\n",
    "horiz_pos, depth = 0, 0\n",
    "for line in instructions:\n",
    "    command, value = line.split()\n",
    "    value = int(value)\n",
    "    \n",
    "    if command == \"forward\":\n",
    "        horiz_pos += value\n",
    "    elif command == \"up\":\n",
    "        depth -= value\n",
    "    elif command == \"down\":\n",
    "        depth += value\n",
    "    else:\n",
    "        raise ValueError(\"Unknown command.\")\n",
    "\n",
    "print(horiz_pos * depth)"
   ]
  },
  {
   "cell_type": "markdown",
   "id": "850d464c",
   "metadata": {},
   "source": [
    "There is nothing too wild going on here.\n",
    "\n",
    "Perhaps the thing that can easily go most unnoticed is the fact that the line `command, value = line.split()` is already doing some input validation for us:\n",
    "the fact that we are unpacking into `command, line` means we are assuming that `line.split()` returns two values.\n",
    "If it returns any other number of values, we get a `ValueError`:"
   ]
  },
  {
   "cell_type": "code",
   "execution_count": 13,
   "id": "1a451aa6",
   "metadata": {},
   "outputs": [
    {
     "ename": "ValueError",
     "evalue": "too many values to unpack (expected 2)",
     "output_type": "error",
     "traceback": [
      "\u001b[1;31m---------------------------------------------------------------------------\u001b[0m",
      "\u001b[1;31mValueError\u001b[0m                                Traceback (most recent call last)",
      "\u001b[1;32m~\\AppData\\Local\\Temp/ipykernel_18028/1003812893.py\u001b[0m in \u001b[0;36m<module>\u001b[1;34m\u001b[0m\n\u001b[1;32m----> 1\u001b[1;33m \u001b[0mcommand\u001b[0m\u001b[1;33m,\u001b[0m \u001b[0mvalue\u001b[0m \u001b[1;33m=\u001b[0m \u001b[1;34m\"cmd val otherthing\"\u001b[0m\u001b[1;33m.\u001b[0m\u001b[0msplit\u001b[0m\u001b[1;33m(\u001b[0m\u001b[1;33m)\u001b[0m\u001b[1;33m\u001b[0m\u001b[1;33m\u001b[0m\u001b[0m\n\u001b[0m",
      "\u001b[1;31mValueError\u001b[0m: too many values to unpack (expected 2)"
     ]
    }
   ],
   "source": [
    "command, value = \"cmd val otherthing\".split()"
   ]
  },
  {
   "cell_type": "code",
   "execution_count": 14,
   "id": "ffdc6f90",
   "metadata": {},
   "outputs": [
    {
     "ename": "ValueError",
     "evalue": "not enough values to unpack (expected 2, got 1)",
     "output_type": "error",
     "traceback": [
      "\u001b[1;31m---------------------------------------------------------------------------\u001b[0m",
      "\u001b[1;31mValueError\u001b[0m                                Traceback (most recent call last)",
      "\u001b[1;32m~\\AppData\\Local\\Temp/ipykernel_18028/3165615759.py\u001b[0m in \u001b[0;36m<module>\u001b[1;34m\u001b[0m\n\u001b[1;32m----> 1\u001b[1;33m \u001b[0mcommand\u001b[0m\u001b[1;33m,\u001b[0m \u001b[0mvalue\u001b[0m \u001b[1;33m=\u001b[0m \u001b[1;34m\"cmd\"\u001b[0m\u001b[1;33m.\u001b[0m\u001b[0msplit\u001b[0m\u001b[1;33m(\u001b[0m\u001b[1;33m)\u001b[0m\u001b[1;33m\u001b[0m\u001b[1;33m\u001b[0m\u001b[0m\n\u001b[0m",
      "\u001b[1;31mValueError\u001b[0m: not enough values to unpack (expected 2, got 1)"
     ]
    }
   ],
   "source": [
    "command, value = \"cmd\".split()"
   ]
  },
  {
   "cell_type": "markdown",
   "id": "07d284d4",
   "metadata": {},
   "source": [
    "(You can read a bit more about unpacking [here](https://mathspp.com/blog/pydonts/deep-unpacking).)"
   ]
  },
  {
   "cell_type": "markdown",
   "id": "1dfd1a8a",
   "metadata": {},
   "source": [
    "### Pattern matching\n",
    "\n",
    "If you are using Python 3.10 or newer, you might be tempted to use [structural pattern matching](https://mathspp.com/blog/pydonts/structural-pattern-matching-tutorial) here.\n",
    "We can write a solution using `match` that is remarkably similar to the solution using `if`:"
   ]
  },
  {
   "cell_type": "code",
   "execution_count": 4,
   "id": "6fed93d7",
   "metadata": {},
   "outputs": [
    {
     "ename": "SyntaxError",
     "evalue": "invalid syntax (<ipython-input-4-09e597446acb>, line 9)",
     "output_type": "error",
     "traceback": [
      "\u001b[1;36m  File \u001b[1;32m\"<ipython-input-4-09e597446acb>\"\u001b[1;36m, line \u001b[1;32m9\u001b[0m\n\u001b[1;33m    match command:\u001b[0m\n\u001b[1;37m          ^\u001b[0m\n\u001b[1;31mSyntaxError\u001b[0m\u001b[1;31m:\u001b[0m invalid syntax\n"
     ]
    }
   ],
   "source": [
    "with open(INPUT_FILE, \"r\") as f:\n",
    "    instructions = f.readlines()\n",
    "\n",
    "horiz_pos, depth = 0, 0\n",
    "for line in instructions:\n",
    "    command, value = line.split()\n",
    "    value = int(value)\n",
    "    \n",
    "    match command:\n",
    "        case \"forward\":\n",
    "            horiz_pos += value\n",
    "        case \"up\":\n",
    "            depth -= value\n",
    "        case \"down\":\n",
    "            depth += value\n",
    "        case _:\n",
    "            raise ValueError(\"Unknown command.\")\n",
    "\n",
    "print(horiz_pos * depth)"
   ]
  },
  {
   "cell_type": "markdown",
   "id": "78d055f6",
   "metadata": {},
   "source": [
    "So, is this any better?\n",
    "We can argue it is _not_, because we didn't simplify our code, and yet managed to increase its depth.\n",
    "\n",
    "To walk towards a scenario where pattern matching would be probably be more useful, let's rewrite the `match` statement:"
   ]
  },
  {
   "cell_type": "code",
   "execution_count": 16,
   "id": "34bc473f",
   "metadata": {},
   "outputs": [
    {
     "name": "stdout",
     "output_type": "stream",
     "text": [
      "1727835\n"
     ]
    }
   ],
   "source": [
    "with open(INPUT_FILE, \"r\") as f:\n",
    "    instructions = f.readlines()\n",
    "\n",
    "horiz_pos, depth = 0, 0\n",
    "for line in instructions:\n",
    "    \n",
    "    match line.split():\n",
    "        case [\"forward\", value]:\n",
    "            horiz_pos += int(value)\n",
    "        case [\"up\", value]:\n",
    "            depth -= int(value)\n",
    "        case [\"down\", value]:\n",
    "            depth += int(value)\n",
    "        case _:\n",
    "            raise ValueError(\"Unknown command.\")\n",
    "\n",
    "print(horiz_pos * depth)"
   ]
  },
  {
   "cell_type": "markdown",
   "id": "53748e86",
   "metadata": {},
   "source": [
    "By matching directly the `line.split()` expression, we are making it easier for ourselves to handle instructions that have a different _structure_.\n",
    "For example, imagine there was a `\"reset\"` instruction, that resetted the horizontal position and the depth to 0.\n",
    "Using `match`, this is what the solution could look like:"
   ]
  },
  {
   "cell_type": "code",
   "execution_count": 22,
   "id": "c1a000d5",
   "metadata": {},
   "outputs": [
    {
     "name": "stdout",
     "output_type": "stream",
     "text": [
      "0\n"
     ]
    }
   ],
   "source": [
    "with open(INPUT_FILE, \"r\") as f:\n",
    "    instructions = f.readlines()\n",
    "\n",
    "instructions.append(\"reset\")  # Add a \"reset\" command at the end.\n",
    "\n",
    "horiz_pos, depth = 0, 0\n",
    "for line in instructions:\n",
    "    \n",
    "    match line.split():\n",
    "        case [\"reset\"]:\n",
    "            horiz_pos, depth = 0, 0\n",
    "        case [\"forward\", value]:\n",
    "            horiz_pos += int(value)\n",
    "        case [\"up\", value]:\n",
    "            depth -= int(value)\n",
    "        case [\"down\", value]:\n",
    "            depth += int(value)\n",
    "        case _:\n",
    "            raise ValueError(\"Unknown command.\")\n",
    "\n",
    "print(horiz_pos * depth)  # Prints 0 because the last command was \"reset\"."
   ]
  },
  {
   "cell_type": "markdown",
   "id": "754a0d2a",
   "metadata": {},
   "source": [
    "We only needed to add two lines of code to handle this new command, and the handling of all commands looks similar: a `case` statement and some code.\n",
    "If we were to do the same thing in the original `if` statement, we would have to special-case the `\"reset\"` command because we would have to check for it before unpacking the line into the `command` and `line` variables:"
   ]
  },
  {
   "cell_type": "code",
   "execution_count": 26,
   "id": "5a9dd41e",
   "metadata": {},
   "outputs": [
    {
     "name": "stdout",
     "output_type": "stream",
     "text": [
      "0\n"
     ]
    }
   ],
   "source": [
    "with open(INPUT_FILE, \"r\") as f:\n",
    "    instructions = f.readlines()\n",
    "    \n",
    "instructions.append(\"reset\")  # Add a \"reset\" command to the end.\n",
    "\n",
    "horiz_pos, depth = 0, 0\n",
    "for line in instructions:\n",
    "    if line == \"reset\":\n",
    "        horiz_pos, depth = 0, 0\n",
    "        continue\n",
    "    \n",
    "    command, value = line.split()\n",
    "    value = int(value)\n",
    "    \n",
    "    if command == \"forward\":\n",
    "        horiz_pos += value\n",
    "    elif command == \"up\":\n",
    "        depth -= value\n",
    "    elif command == \"down\":\n",
    "        depth += value\n",
    "    else:\n",
    "        raise ValueError(\"Unknown command.\")\n",
    "\n",
    "print(horiz_pos * depth)  # Prints 0 because the last command was \"reset\"."
   ]
  },
  {
   "cell_type": "markdown",
   "id": "fe04607f",
   "metadata": {},
   "source": [
    "So, in conclusion, for such a homogeneous set of commands, the `if` statement is preferable.\n",
    "If the line structure were more heterogeneous, then structural pattern matching would start to show its benefits."
   ]
  },
  {
   "cell_type": "markdown",
   "id": "100c82c5",
   "metadata": {},
   "source": [
    "### How to end the `if` block\n",
    "\n",
    "In the solution above, our `if` block compares `command` explicitly to each of the three possible commands, and uses the `else` to raise an error in the event that we receive a command we don't know.\n",
    "We could have written, just as easily, the following `if` block:\n",
    "\n",
    "```py\n",
    "if command == \"forward\":\n",
    "    horiz_pos += value\n",
    "elif command == \"up\":\n",
    "    depth -= value\n",
    "else:\n",
    "    depth += value\n",
    "```\n",
    "\n",
    "This block assumes that the variable `command` _always_ contains one of the three known commands, and thus uses the `else` to handle the `down` command.\n",
    "\n",
    "However, there is a disadvantage to writing code like this:\n",
    "one cannot look at the `if` block and _read_ what is the third case.\n",
    "Is it a single one?\n",
    "Are there multiple commands that map to the action of doing `depth += value`?\n",
    "\n",
    "Thus, one can argue it is preferable to be explicit about the cases we are handling.\n",
    "Of course, we can still choose to write the `if` block like so:\n",
    "\n",
    "```py\n",
    "if command == \"forward\":\n",
    "    horiz_pos += value\n",
    "elif command == \"up\":\n",
    "    depth -= value\n",
    "elif command == \"down\":\n",
    "    depth += value\n",
    "```\n",
    "\n",
    "The difference, here, is that we do not include the `else` branch with the `raise` statement.\n",
    "This says explicitly the commands that we are handling, while also showing that we do not expect to have to handle anything else.\n",
    "\n",
    "Another slight variant would be to write\n",
    "\n",
    "```py\n",
    "if command == \"forward\":\n",
    "    horiz_pos += value\n",
    "elif command == \"up\":\n",
    "    depth -= value\n",
    "elif command == \"down\":\n",
    "    depth += value\n",
    "else:\n",
    "    pass\n",
    "```\n",
    "\n",
    "This variant can be understood to mean “we assume something else might come through in the variable `command`, but we don't care about it”.\n",
    "\n",
    "These are just minor variations of one another, and _your_ interpretation might not necessarily align with mine, but I find it to be an interesting exercise to think about the different ways in which similar pieces of code are read and understood.\n",
    "\n",
    "---\n",
    "\n",
    "As far as this problem is concerned, there isn't much we can do to improve our solution significantly.\n",
    "The problem is straightforward enough that any attempts to be clever would do more harm than good.\n",
    "\n",
    "Therefore, we will now cover the second part of the problem.\n",
    "Then, because this is a fairly simple problem, it acts as a good toy example to introduce a couple of interesting tools that could be relevant for similar tasks, but that would represent too much overhead here."
   ]
  },
  {
   "cell_type": "markdown",
   "id": "33cf6107",
   "metadata": {},
   "source": [
    "## Part 2 problem statement\n",
    "\n",
    "(Adapted from [Advent of Code 2021, day 2](https://adventofcode.com/2021/day/2))\n",
    "\n",
    "Part 2 is a modification of part 1.\n",
    "Now, not only do we have to keep track of the horizontal position and depth, we also have to keep track of the **aim**.\n",
    "On top of that, the **same commands** now have a **different meaning**:\n",
    "\n",
    "\n",
    " - `down X` increases your aim by X units;\n",
    " - `up X` decreases your aim by X units; and\n",
    " - `forward X` does two things:\n",
    "    - it increases your horizontal position by X units; and\n",
    "    - it increases your depth by your aim multiplied by X.\n",
    "    \n",
    "Recall the previous example:\n",
    "\n",
    "```txt\n",
    "forward 5\n",
    "down 5\n",
    "forward 8\n",
    "up 3\n",
    "down 8\n",
    "forward 2\n",
    "```\n",
    "\n",
    "Now, the final result is different:\n",
    "\n",
    " - `forward 5` adds 5 to your horizontal position, a total of 5. Because your aim is 0, your depth does not change.\n",
    " - `down 5` adds 5 to your aim, resulting in a value of 5.\n",
    " - `forward 8` adds 8 to your horizontal position, a total of 13. Because your aim is 5, your depth increases by 8*5=40.\n",
    " - `up 3` decreases your aim by 3, resulting in a value of 2.\n",
    " - `down 8` adds 8 to your aim, resulting in a value of 10.\n",
    " - `forward 2` adds 2 to your horizontal position, a total of 15. Because your aim is 10, your depth increases by 2*10=20 to a total of 60.\n",
    "\n",
    "After following these new instructions, you would have a horizontal position of 15 and a depth of 60. (Multiplying these produces 900.)\n",
    "\n",
    "Using this new interpretation of the commands, **calculate the horizontal position and depth** you would have after following the planned course.\n",
    "**What do you get if you multiply your final horizontal position by your final depth?**\n",
    "\n",
    "_Using the input file `inputs/02_dive.txt`, the answer should be 1544000595._"
   ]
  },
  {
   "cell_type": "markdown",
   "id": "1a3cc2e7",
   "metadata": {},
   "source": [
    "### Modifying the baseline solution\n",
    "\n",
    "In order to solve this new version of the problem, we just have to adapt the handling of each command:"
   ]
  },
  {
   "cell_type": "code",
   "execution_count": 28,
   "id": "25ccfa0e",
   "metadata": {},
   "outputs": [
    {
     "name": "stdout",
     "output_type": "stream",
     "text": [
      "1544000595\n"
     ]
    }
   ],
   "source": [
    "with open(INPUT_FILE, \"r\") as f:\n",
    "    instructions = f.readlines()\n",
    "\n",
    "horiz_pos, depth, aim = 0, 0, 0\n",
    "for line in instructions:\n",
    "    command, value = line.split()\n",
    "    value = int(value)\n",
    "    \n",
    "    if command == \"forward\":\n",
    "        horiz_pos += value\n",
    "        depth += aim * value\n",
    "    elif command == \"up\":\n",
    "        aim -= value\n",
    "    elif command == \"down\":\n",
    "        aim += value\n",
    "    else:\n",
    "        raise ValueError(\"Unknown command.\")\n",
    "\n",
    "print(horiz_pos * depth)"
   ]
  },
  {
   "cell_type": "markdown",
   "id": "103c5573",
   "metadata": {},
   "source": [
    "### Rudimentary space-time complexity analysis\n",
    "\n",
    "#### Time\n",
    "\n",
    "Let us analyse the the space and time complexities of our solution, as a function of the number `n` of instructions.\n",
    "\n",
    "A rule of thumb to estimate the time complexity of an algorithm is to sum the time complexities of things that happen after each other, and to multiply the time complexities of loops with the time complexities of the code inside them.\n",
    "\n",
    "In our particular example, we have an outer `for` loop that goes through all instructions once, so that loop by itself is linear, or $O(n)$.\n",
    "Now, we need to check the time complexity of the loop body, because the loop body gets executed in _each_ iteration.\n",
    "\n",
    "As we can see, all operations inside the loop body execute in constant time: they do not depend on the total amount of instructions.\n",
    "Hence, the loop body, for each iteration, is $O(1)$.\n",
    "\n",
    "Putting it all together (in a not-so-rigorous manner), we get that the whole algorithm is $O(n) \\times O(1) = O(n)$.\n",
    "\n",
    "This shouldn't be surprising, and it is impossible to improve: we cannot know what the final horizontal position/depth/aim is without reading all instructions, and to read all instructions we need to go through the whole set of instructions at least once, which is already $O(n)$ by itself.\n",
    "\n",
    "#### Space\n",
    "\n",
    "The space complexity of our current solution is also linear, because we store all the instructions in a list.\n",
    "We can reduce the space complexity to be constant if we employ the strategy of lazily iterating over the input file:"
   ]
  },
  {
   "cell_type": "code",
   "execution_count": 29,
   "id": "6d725dec",
   "metadata": {},
   "outputs": [
    {
     "name": "stdout",
     "output_type": "stream",
     "text": [
      "1544000595\n"
     ]
    }
   ],
   "source": [
    "horiz_pos, depth, aim = 0, 0, 0\n",
    "\n",
    "with open(INPUT_FILE, \"r\") as f:\n",
    "    for line in f:\n",
    "        command, value = line.split()\n",
    "        value = int(value)\n",
    "\n",
    "        if command == \"forward\":\n",
    "            horiz_pos += value\n",
    "            depth += aim * value\n",
    "        elif command == \"up\":\n",
    "            aim -= value\n",
    "        elif command == \"down\":\n",
    "            aim += value\n",
    "        else:\n",
    "            raise ValueError(\"Unknown command.\")\n",
    "\n",
    "    print(horiz_pos * depth)"
   ]
  },
  {
   "cell_type": "markdown",
   "id": "21a6c078",
   "metadata": {},
   "source": [
    "The space complexity of the modified code is $O(1)$ because we only store three integers."
   ]
  },
  {
   "cell_type": "markdown",
   "id": "f1631d38",
   "metadata": {},
   "source": [
    "## Other thoughts\n",
    "\n",
    "As mentioned previously, let us use this toy problem as an excuse to cover a couple of other tools that you could benefit from."
   ]
  },
  {
   "cell_type": "markdown",
   "id": "b38f9c3e",
   "metadata": {},
   "source": [
    "### Parsing input\n",
    "\n",
    "People have different sensibilities, so you may not relate to what I am about to say, but there is one small thing that annoys me a little bit in the solution above, and that is the parsing of each line.\n",
    "\n",
    "We know that each line has a very nice format, but we still need to break it into pieces and do some conversions here and there.\n",
    "A very reasonable thing to do would be to create an auxiliary function whose only job is to parse a line of input into its appropriate pieces.\n",
    "For our challenge, we might even assume that the line _will_ have the appropriate format:"
   ]
  },
  {
   "cell_type": "code",
   "execution_count": 30,
   "id": "0f74e657",
   "metadata": {},
   "outputs": [
    {
     "name": "stdout",
     "output_type": "stream",
     "text": [
      "1544000595\n"
     ]
    }
   ],
   "source": [
    "def parse_instruction_line(line):\n",
    "    command, value = line.split()\n",
    "    return command, int(value)\n",
    "\n",
    "horiz_pos, depth, aim = 0, 0, 0\n",
    "\n",
    "with open(INPUT_FILE, \"r\") as f:\n",
    "    for line in f:\n",
    "        command, value = parse_instruction_line(line)\n",
    "\n",
    "        if command == \"forward\":\n",
    "            horiz_pos += value\n",
    "            depth += aim * value\n",
    "        elif command == \"up\":\n",
    "            aim -= value\n",
    "        elif command == \"down\":\n",
    "            aim += value\n",
    "        else:\n",
    "            raise ValueError(\"Unknown command.\")\n",
    "\n",
    "    print(horiz_pos * depth)"
   ]
  },
  {
   "cell_type": "markdown",
   "id": "6a1f7cf4",
   "metadata": {},
   "source": [
    "For our little problem, it might not look very advantageous to define an auxiliary function to do that work.\n",
    "However, as problems become more complex and as input formats become more complex/less structured, input parsing becomes a significant endeavour.\n",
    "When that is the case, it is generally advised that you _separate concerns_:\n",
    "have a function to do input parsing and then another function to do the number crunching/problem-solving."
   ]
  },
  {
   "cell_type": "markdown",
   "id": "ad41d356",
   "metadata": {},
   "source": [
    "### Enumerations of constants\n",
    "\n",
    "Another tool that is quite useful comes from the `enum` module.\n",
    "`enum` is short for “enumeration”, and is useful when you have related constant variables that you would like to keep together.\n",
    "\n",
    "In our example, those (three) constants are the string values of the three commands:\n",
    "\n",
    " - “forward”\n",
    " - “up”\n",
    " - “down”\n",
    "\n",
    "Suppose that the input file was suddenly in a different language – say, Portuguese.\n",
    "If that were the case, would you change your code to:\n",
    "\n",
    "```py\n",
    "# ...\n",
    "if command == \"frente\":\n",
    "    horiz_pos += value\n",
    "    depth += aim * value\n",
    "elif command == \"cima\":\n",
    "    aim -= value\n",
    "elif command == \"baixo\":\n",
    "    aim += value\n",
    "```\n",
    "\n",
    "Maybe you would, or maybe you wouldn't, but one thing is clear: now, most English speakers don't know what's written within quotes.\n",
    "\n",
    "Or, perhaps, all commands were abbreviated to save space in the file:\n",
    "\n",
    "```py\n",
    "# ...\n",
    "if command == \"f\":\n",
    "    horiz_pos += value\n",
    "    depth += aim * value\n",
    "elif command == \"u\":\n",
    "    aim -= value\n",
    "elif command == \"d\":\n",
    "    aim += value\n",
    "```\n",
    "\n",
    "In our code, these changes mean we would have to change three strings.\n",
    "But what if our code was longer and we made use of the command strings in more places?\n",
    "Then, updating all commands would be boring and, most importantly, **error-prone**.\n",
    "\n",
    "It is because of these reasons (and others!) that things like `enum` exist.\n",
    "With enumerations, we can group variables that act as “global constants” and use them instead of the actual values:"
   ]
  },
  {
   "cell_type": "code",
   "execution_count": 37,
   "id": "b8dcf409",
   "metadata": {},
   "outputs": [
    {
     "name": "stdout",
     "output_type": "stream",
     "text": [
      "1544000595\n"
     ]
    }
   ],
   "source": [
    "from enum import Enum\n",
    "\n",
    "# We define an Enum(eration) with the valid commands.\n",
    "class Command(Enum):\n",
    "    FORWARD = \"forward\"\n",
    "    UP = \"up\"\n",
    "    DOWN = \"down\"\n",
    "\n",
    "horiz_pos, depth, aim = 0, 0, 0\n",
    "\n",
    "with open(INPUT_FILE, \"r\") as f:\n",
    "    for line in f:\n",
    "        command, value = line.split()\n",
    "        value = int(value)\n",
    "        command = Command(command)  # We say that `command` is a `Command`, ...\n",
    "\n",
    "        # ... and we compare it to each possible command:\n",
    "        if command == Command.FORWARD:\n",
    "            horiz_pos += value\n",
    "            depth += aim * value\n",
    "        elif command == Command.UP:\n",
    "            aim -= value\n",
    "        elif command == Command.DOWN:\n",
    "            aim += value\n",
    "\n",
    "    print(horiz_pos * depth)"
   ]
  },
  {
   "cell_type": "markdown",
   "id": "9e7d5427",
   "metadata": {},
   "source": [
    "Now, if the input language changes to Portuguese, we only have to make three changes, and everything else will keep working:\n",
    "\n",
    "```py\n",
    "class Command(Enum):\n",
    "    FORWARD = \"frente\"\n",
    "    UP = \"cima\"\n",
    "    DOWN = \"baixo\"\n",
    "```\n",
    "\n",
    "Or, if the commands are abbreviated, we change the enumeration to\n",
    "\n",
    "```py\n",
    "class Command(Enum):\n",
    "    FORWARD = \"f\"\n",
    "    UP = \"u\"\n",
    "    DOWN = \"d\"\n",
    "```\n",
    "\n",
    "Because the commands are stored in the enumeration, we only need to change the right-hand side of the assignments.\n",
    "As we can see above, `Command.FORWARD` didn't change, it's still spelled as `Command.Forward`.\n",
    "This means that you do **not** need to change the code that makes use of the commands.\n",
    "\n",
    "You can read about `enum` [in the docs](https://docs.python.org/3/library/enum.html)."
   ]
  },
  {
   "cell_type": "markdown",
   "id": "88fed788",
   "metadata": {},
   "source": [
    "## Don't try this at home\n",
    "\n",
    "In the exclusive Discord server for the bootcamp participants, someone posted the following code:"
   ]
  },
  {
   "cell_type": "code",
   "execution_count": 4,
   "id": "38f55bff",
   "metadata": {},
   "outputs": [
    {
     "name": "stdout",
     "output_type": "stream",
     "text": [
      "1727835.0\n",
      "1544000595.0\n"
     ]
    }
   ],
   "source": [
    "from itertools import accumulate\n",
    "print(sum(d:=[1j**'fd'.find(i[0])*int(i.split()[1]) for i in open(INPUT_FILE)]).real*sum(d).imag)\n",
    "print(sum(i.real*j.imag for i,j in zip(d, accumulate(d)))*sum(d).real)"
   ]
  },
  {
   "cell_type": "markdown",
   "id": "e3932eda",
   "metadata": {},
   "source": [
    "While clearly correct, it's also hard to digest.\n",
    "I challenge you to refactor this code bit by bit until it's in a more tractable format.\n",
    "Then, I invite you to study this code and try to understand _why_ it works.\n",
    "Sometimes, digesting these “weird” pieces of code can teach you a lot!\n",
    "\n",
    "Good luck ;)"
   ]
  },
  {
   "cell_type": "markdown",
   "id": "326b4070",
   "metadata": {},
   "source": [
    "## Conclusion\n",
    "\n",
    "When trying to refactor the solution to a problem, your objective is not to make it look more obscure or complex.\n",
    "Likewise, importing functions from other modules just for the sake of importing them isn't your goal.\n",
    "\n",
    "Therefore, sometimes the best solution really is the first you came up with.\n",
    "\n",
    "If you have any questions, suggestions, remarks, recommendations, corrections, or anything else, you can reach out to me [on Twitter](https://twitter.com/mathsppblog) or via email to rodrigo at mathspp dot com."
   ]
  },
  {
   "cell_type": "code",
   "execution_count": null,
   "id": "e191bb5c",
   "metadata": {},
   "outputs": [],
   "source": []
  }
 ],
 "metadata": {
  "kernelspec": {
   "display_name": "Python 3",
   "language": "python",
   "name": "python3"
  },
  "language_info": {
   "codemirror_mode": {
    "name": "ipython",
    "version": 3
   },
   "file_extension": ".py",
   "mimetype": "text/x-python",
   "name": "python",
   "nbconvert_exporter": "python",
   "pygments_lexer": "ipython3",
   "version": "3.8.8"
  },
  "toc": {
   "base_numbering": 1,
   "nav_menu": {},
   "number_sections": false,
   "sideBar": true,
   "skip_h1_title": true,
   "title_cell": "Table of Contents",
   "title_sidebar": "Contents",
   "toc_cell": false,
   "toc_position": {},
   "toc_section_display": true,
   "toc_window_display": false
  }
 },
 "nbformat": 4,
 "nbformat_minor": 5
}
