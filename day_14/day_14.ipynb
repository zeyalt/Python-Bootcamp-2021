{
 "cells": [
  {
   "cell_type": "markdown",
   "metadata": {},
   "source": [
    "# Python Bootcamp: Advent of Code (Day 14)"
   ]
  },
  {
   "cell_type": "markdown",
   "metadata": {},
   "source": [
    "## 1. Puzzle 1"
   ]
  },
  {
   "cell_type": "markdown",
   "metadata": {},
   "source": [
    "### 1.1 My Solution"
   ]
  },
  {
   "cell_type": "code",
   "execution_count": 2,
   "metadata": {},
   "outputs": [
    {
     "name": "stdout",
     "output_type": "stream",
     "text": [
      "Answer: 3555\n"
     ]
    }
   ],
   "source": [
    "def join(lst):\n",
    "    return ''.join([ele[0:2] if idx != len(lst)-1 else ele[0:3] \n",
    "                    for idx, ele in enumerate(lst)])\n",
    "\n",
    "\n",
    "def insert(polymer, mapping):\n",
    "    new_strings = []\n",
    "    for i in range(len(polymer) - 2 + 1):\n",
    "        new_char = mapping[polymer[i: i + 2]]\n",
    "        string = polymer[i] + new_char + polymer[i + 1]\n",
    "        new_strings.append(string)\n",
    "    return join(new_strings)\n",
    "\n",
    "\n",
    "def get_answer(polymer, mapping, n_steps):\n",
    "    from collections import Counter\n",
    "    for i in range(n_steps):\n",
    "        polymer = insert(polymer, mapping)\n",
    "    count = Counter(polymer)\n",
    "    return count.most_common()[0][1] - count.most_common()[:-1-1:-1][0][1]\n",
    "\n",
    "if __name__ == '__main__':\n",
    "    \n",
    "    # Example data\n",
    "    ex = [\n",
    "        \"NNCB\\n\",\n",
    "        \"\\n\",\n",
    "        \"CH -> B\\n\",\n",
    "        \"HH -> N\\n\",\n",
    "        \"CB -> H\\n\",\n",
    "        \"NH -> C\\n\",\n",
    "        \"HB -> C\\n\",\n",
    "        \"HC -> B\\n\",\n",
    "        \"HN -> C\\n\",\n",
    "        \"NN -> C\\n\",\n",
    "        \"BH -> H\\n\",\n",
    "        \"NC -> B\\n\",\n",
    "        \"NB -> B\\n\",\n",
    "        \"BN -> B\\n\",\n",
    "        \"BB -> N\\n\",\n",
    "        \"BC -> B\\n\",\n",
    "        \"CC -> N\\n\",\n",
    "        \"CN -> C\\n\"\n",
    "        ]\n",
    "\n",
    "    polymer_ex = ex[0].strip()\n",
    "    mapping_ex = {ele[0]:ele[2] for ele in [pair.strip().split() for pair in ex[2:]]}\n",
    "    assert get_answer(polymer_ex, mapping_ex, 10) == 1588\n",
    "\n",
    "    # Input data\n",
    "    with open('data/input.txt') as f:\n",
    "        lines = f.readlines()\n",
    "        \n",
    "    polymer = lines[0].strip()\n",
    "    mapping = {ele[0]:ele[2] for ele in [pair.strip().split() for pair in lines[2:]]}\n",
    "    print(f\"Answer: {get_answer(polymer, mapping, 10)}\")"
   ]
  },
  {
   "cell_type": "markdown",
   "metadata": {},
   "source": [
    "## 2. Puzzle 2"
   ]
  },
  {
   "cell_type": "markdown",
   "metadata": {},
   "source": [
    "### 2.1 My Solution"
   ]
  },
  {
   "cell_type": "code",
   "execution_count": null,
   "metadata": {},
   "outputs": [],
   "source": []
  }
 ],
 "metadata": {
  "interpreter": {
   "hash": "c9008ba995d2c46f7a8a8b57a00346eea774fcdf0db2b71700344559b6c212be"
  },
  "kernelspec": {
   "display_name": "Python 3",
   "language": "python",
   "name": "python3"
  },
  "language_info": {
   "codemirror_mode": {
    "name": "ipython",
    "version": 3
   },
   "file_extension": ".py",
   "mimetype": "text/x-python",
   "name": "python",
   "nbconvert_exporter": "python",
   "pygments_lexer": "ipython3",
   "version": "3.8.8"
  }
 },
 "nbformat": 4,
 "nbformat_minor": 2
}
