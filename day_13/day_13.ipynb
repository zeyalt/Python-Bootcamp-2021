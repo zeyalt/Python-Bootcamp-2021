{
 "cells": [
  {
   "cell_type": "markdown",
   "metadata": {},
   "source": [
    "# Python Bootcamp: Advent of Code (Day 13)"
   ]
  },
  {
   "cell_type": "markdown",
   "metadata": {},
   "source": [
    "## 1. Puzzle 1"
   ]
  },
  {
   "cell_type": "markdown",
   "metadata": {},
   "source": [
    "### 1.1 My Solution"
   ]
  },
  {
   "cell_type": "code",
   "execution_count": 271,
   "metadata": {},
   "outputs": [
    {
     "name": "stdout",
     "output_type": "stream",
     "text": [
      "Number of visible dots after the first fold instruction: 791\n"
     ]
    }
   ],
   "source": [
    "import numpy as np\n",
    "\n",
    "def split_data(raw_data):\n",
    "    # Get coordinates\n",
    "    coords = [coord.strip().split(\",\") \n",
    "              for coord in raw_data if \"fold\" not in coord][:-1]\n",
    "    coords = [list(map(int, coord)) for coord in coords]\n",
    "    \n",
    "    # Get fold instructions\n",
    "    fold_instructions = [tuple(coord.strip().split()[2].split(\"=\")) \n",
    "                         for coord in raw_data if \"fold\" in coord]\n",
    "    return coords, fold_instructions\n",
    "\n",
    "def get_maximum_range(coords):\n",
    "    x_max = max([coord[0] for coord in coords])\n",
    "    y_max = max([coord[1] for coord in coords])\n",
    "    return x_max, y_max \n",
    "\n",
    "def convert_to_paper(coords, x_max, y_max):\n",
    "    paper = np.zeros((y_max + 1, x_max + 1))\n",
    "    paper = np.where(paper == 0, '.', paper)\n",
    "    for coord in coords:\n",
    "        x, y = coord\n",
    "        paper[y, x] = '#'\n",
    "    return paper\n",
    "\n",
    "def fold(paper, fold_instructions, n_folds=1):\n",
    "    for axis, fold_line in fold_instructions[:n_folds]:\n",
    "        if axis == 'y': # Fold vertically\n",
    "            paper = np.where(paper == '.', np.flipud(paper), paper)\n",
    "            paper = paper[:int(fold_line),:]\n",
    "\n",
    "        elif axis == 'x': # Fold horizontally\n",
    "            paper = np.where(paper == '.', np.fliplr(paper), paper)\n",
    "            paper = paper[:,:int(fold_line)]\n",
    "    \n",
    "    return paper\n",
    "\n",
    "def count(paper):\n",
    "    return np.count_nonzero(paper == \"#\")\n",
    "\n",
    "def run_everything(raw_data, n_folds=1):\n",
    "    coords, fold_instructions = split_data(raw_data)\n",
    "    x_max, y_max = get_maximum_range(coords)\n",
    "    paper = convert_to_paper(coords, x_max, y_max)\n",
    "    if n_folds <= len(fold_instructions):\n",
    "        folded_paper = fold(paper, fold_instructions, n_folds)\n",
    "        return count(folded_paper)\n",
    "        \n",
    "    else:\n",
    "        return \"Insufficient fold instructions!\"\n",
    "        \n",
    "def main():\n",
    "    ex = [\n",
    "        \"6,10\\n\",\n",
    "        \"0,14\\n\",\n",
    "        \"9,10\\n\",\n",
    "        \"0,3\\n\",\n",
    "        \"10,4\\n\",\n",
    "        \"4,11\\n\",\n",
    "        \"6,0\\n\",\n",
    "        \"6,12\\n\",\n",
    "        \"4,1\\n\",\n",
    "        \"0,13\\n\",\n",
    "        \"10,12\\n\",\n",
    "        \"3,4\\n\",\n",
    "        \"3,0\\n\",\n",
    "        \"8,4\\n\",\n",
    "        \"1,10\\n\",\n",
    "        \"2,14\\n\",\n",
    "        \"8,10\\n\",\n",
    "        \"9,0\\n\",\n",
    "        \"\\n\",\n",
    "        \"fold along y=7\\n\",\n",
    "        \"fold along x=5\\n\"\n",
    "        ]\n",
    "    \n",
    "    assert count(folded_paper) == 17\n",
    "    with open('data/input.txt') as f:\n",
    "        lines = f.readlines()\n",
    "    \n",
    "    print(f\"Number of visible dots after the first fold instruction: {run_everything(lines, 1)}\")\n",
    "    \n",
    "if __name__ == '__main__':\n",
    "    main()"
   ]
  },
  {
   "cell_type": "markdown",
   "metadata": {},
   "source": [
    "## 2. Puzzle 2"
   ]
  },
  {
   "cell_type": "markdown",
   "metadata": {},
   "source": [
    "### 2.1 My Solution"
   ]
  },
  {
   "cell_type": "code",
   "execution_count": 273,
   "metadata": {},
   "outputs": [],
   "source": [
    "import numpy as np\n",
    "\n",
    "def split_data(raw_data):\n",
    "    # Get coordinates\n",
    "    coords = [coord.strip().split(\",\") \n",
    "              for coord in raw_data if \"fold\" not in coord][:-1]\n",
    "    coords = [list(map(int, coord)) for coord in coords]\n",
    "    \n",
    "    # Get fold instructions\n",
    "    fold_instructions = [tuple(coord.strip().split()[2].split(\"=\")) \n",
    "                         for coord in raw_data if \"fold\" in coord]\n",
    "    return coords, fold_instructions\n",
    "\n",
    "def get_maximum_range(coords):\n",
    "    x_max = max([coord[0] for coord in coords])\n",
    "    y_max = max([coord[1] for coord in coords])\n",
    "    return x_max, y_max \n",
    "\n",
    "def convert_to_paper(coords, x_max, y_max):\n",
    "    paper = np.zeros((y_max + 1, x_max + 1))\n",
    "    paper = np.where(paper == 0, '.', paper)\n",
    "    for coord in coords:\n",
    "        x, y = coord\n",
    "        paper[y, x] = '#'\n",
    "    return paper\n",
    "\n",
    "def fold_up(idx_val, paper, fold_line):\n",
    "    (y, x), val = idx_val\n",
    "    try:\n",
    "        if (val == '.') & (paper[y + (int(fold_line) - y) * 2, x] == '#'):\n",
    "            paper[y, x] = '#'\n",
    "\n",
    "    except IndexError:\n",
    "        pass\n",
    "    \n",
    "    finally:\n",
    "        return paper\n",
    "\n",
    "def fold_left(idx_val, paper, fold_line):\n",
    "    (y, x), val = idx_val\n",
    "    try:\n",
    "        if (val == '.') & (paper[y, x + (int(fold_line) - x) * 2] == '#'):\n",
    "            paper[y, x] = '#'\n",
    "    \n",
    "    except IndexError:\n",
    "        pass\n",
    "    \n",
    "    finally:\n",
    "        return paper\n",
    "\n",
    "def fold(idx_val, paper, fold_line, axis):\n",
    "    if axis == 'y':\n",
    "        return fold_up(idx_val, paper, fold_line)\n",
    "    \n",
    "    elif axis == 'x':\n",
    "        return fold_left(idx_val, paper, fold_line)\n",
    "\n",
    "with open('data/input.txt') as f:\n",
    "    lines = f.readlines()\n",
    "\n",
    "coords, fold_instructions = split_data(lines)\n",
    "n_folds = len(fold_instructions)\n",
    "x_max, y_max = get_maximum_range(coords)\n",
    "paper = convert_to_paper(coords, x_max, y_max)\n",
    "if n_folds <= len(fold_instructions):\n",
    "    for axis, fold_line in fold_instructions[:n_folds]:\n",
    "        for idx_val in np.ndenumerate(paper):\n",
    "            paper = fold(idx_val, paper, fold_line, axis)\n",
    "        else:\n",
    "            if axis == 'y':\n",
    "                paper = paper[:int(fold_line),:]\n",
    "            elif axis == 'x':\n",
    "                paper = paper[:,:int(fold_line)]\n",
    "else:\n",
    "    print(\"Insufficient fold instructions!\")"
   ]
  },
  {
   "cell_type": "code",
   "execution_count": 274,
   "metadata": {},
   "outputs": [
    {
     "data": {
      "text/plain": [
       "array([['#', '.', '.', '#', '.', '#', '#', '#', '#', '.'],\n",
       "       ['#', '.', '.', '#', '.', '.', '.', '.', '#', '.'],\n",
       "       ['#', '#', '#', '#', '.', '.', '.', '#', '.', '.'],\n",
       "       ['#', '.', '.', '#', '.', '.', '#', '.', '.', '.'],\n",
       "       ['#', '.', '.', '#', '.', '#', '.', '.', '.', '.'],\n",
       "       ['#', '.', '.', '#', '.', '#', '#', '#', '#', '.']], dtype='<U32')"
      ]
     },
     "execution_count": 274,
     "metadata": {},
     "output_type": "execute_result"
    }
   ],
   "source": [
    "paper[:, :10]"
   ]
  },
  {
   "cell_type": "code",
   "execution_count": 275,
   "metadata": {},
   "outputs": [
    {
     "data": {
      "text/plain": [
       "array([['#', '.', '.', '#', '.', '#', '.', '.', '#', '.'],\n",
       "       ['#', '.', '#', '.', '.', '#', '.', '.', '#', '.'],\n",
       "       ['#', '#', '.', '.', '.', '#', '#', '#', '#', '.'],\n",
       "       ['#', '.', '#', '.', '.', '#', '.', '.', '#', '.'],\n",
       "       ['#', '.', '#', '.', '.', '#', '.', '.', '#', '.'],\n",
       "       ['#', '.', '.', '#', '.', '#', '.', '.', '#', '.']], dtype='<U32')"
      ]
     },
     "execution_count": 275,
     "metadata": {},
     "output_type": "execute_result"
    }
   ],
   "source": [
    "paper[:, 10:20]"
   ]
  },
  {
   "cell_type": "code",
   "execution_count": 276,
   "metadata": {},
   "outputs": [
    {
     "data": {
      "text/plain": [
       "array([['#', '#', '#', '#', '.', '#', '#', '#', '#', '.'],\n",
       "       ['#', '.', '.', '.', '.', '#', '.', '.', '.', '.'],\n",
       "       ['#', '#', '#', '.', '.', '#', '#', '#', '.', '.'],\n",
       "       ['#', '.', '.', '.', '.', '#', '.', '.', '.', '.'],\n",
       "       ['#', '.', '.', '.', '.', '#', '.', '.', '.', '.'],\n",
       "       ['#', '.', '.', '.', '.', '#', '#', '#', '#', '.']], dtype='<U32')"
      ]
     },
     "execution_count": 276,
     "metadata": {},
     "output_type": "execute_result"
    }
   ],
   "source": [
    "paper[:, 20:30]"
   ]
  },
  {
   "cell_type": "code",
   "execution_count": 277,
   "metadata": {},
   "outputs": [
    {
     "data": {
      "text/plain": [
       "array([['.', '.', '#', '#', '.', '#', '#', '#', '#', '.'],\n",
       "       ['.', '.', '.', '#', '.', '.', '.', '.', '#', '.'],\n",
       "       ['.', '.', '.', '#', '.', '.', '.', '#', '.', '.'],\n",
       "       ['.', '.', '.', '#', '.', '.', '#', '.', '.', '.'],\n",
       "       ['#', '.', '.', '#', '.', '#', '.', '.', '.', '.'],\n",
       "       ['.', '#', '#', '.', '.', '#', '#', '#', '#', '.']], dtype='<U32')"
      ]
     },
     "execution_count": 277,
     "metadata": {},
     "output_type": "execute_result"
    }
   ],
   "source": [
    "paper[:, 30:]"
   ]
  }
 ],
 "metadata": {
  "interpreter": {
   "hash": "c9008ba995d2c46f7a8a8b57a00346eea774fcdf0db2b71700344559b6c212be"
  },
  "kernelspec": {
   "display_name": "Python 3",
   "language": "python",
   "name": "python3"
  },
  "language_info": {
   "codemirror_mode": {
    "name": "ipython",
    "version": 3
   },
   "file_extension": ".py",
   "mimetype": "text/x-python",
   "name": "python",
   "nbconvert_exporter": "python",
   "pygments_lexer": "ipython3",
   "version": "3.8.8"
  }
 },
 "nbformat": 4,
 "nbformat_minor": 2
}
