{
 "cells": [
  {
   "cell_type": "markdown",
   "metadata": {},
   "source": [
    "# Python Bootcamp: Advent of Code (Day 12)"
   ]
  },
  {
   "cell_type": "markdown",
   "metadata": {},
   "source": [
    "## 1. Puzzle 1"
   ]
  },
  {
   "cell_type": "markdown",
   "metadata": {},
   "source": [
    "### 1.1 My Solution"
   ]
  },
  {
   "cell_type": "code",
   "execution_count": 57,
   "metadata": {},
   "outputs": [
    {
     "name": "stdout",
     "output_type": "stream",
     "text": [
      "Number of paths: 4411\n"
     ]
    }
   ],
   "source": [
    "from collections import defaultdict, deque\n",
    "\n",
    "def build_graph(edges):\n",
    "\n",
    "    graph = defaultdict(list)\n",
    "     \n",
    "    # Loop to iterate over every edge of the graph\n",
    "    for edge in edges:\n",
    "\n",
    "        a, b = edge[0], edge[1]\n",
    "         \n",
    "        # Creating the graph as adjacency list\n",
    "        graph[a].append(b)\n",
    "        graph[b].append(a)\n",
    "\n",
    "    return graph\n",
    "\n",
    "# Code mostly adapted from Rodrigo's in-depth analysis\n",
    "def find_valid_paths(graph):\n",
    "\n",
    "    queue = deque([(\"start\", )])\n",
    "    valid_paths = []\n",
    "    while queue:\n",
    "        path_so_far = queue.pop()\n",
    "        if path_so_far[-1] == \"end\":\n",
    "            valid_paths.append(path_so_far)\n",
    "            continue\n",
    "\n",
    "        for neighbour in graph[path_so_far[-1]]:\n",
    "            if not (neighbour.islower() and neighbour in path_so_far):\n",
    "                queue.appendleft(path_so_far + (neighbour, ))\n",
    "\n",
    "    return valid_paths\n",
    "\n",
    "if __name__ == '__main__':\n",
    "    \n",
    "    # Example 1\n",
    "    ex_1 = [\n",
    "        \"start-A\\n\",\n",
    "        \"start-b\\n\",\n",
    "        \"A-c\\n\",\n",
    "        \"A-b\\n\",\n",
    "        \"b-d\\n\",\n",
    "        \"A-end\\n\",\n",
    "        \"b-end\\n\" \n",
    "    ]\n",
    "\n",
    "    edges_1 = [edge.strip().split(\"-\") for edge in ex_1]\n",
    "    graph_1 = build_graph(edges_1)\n",
    "\n",
    "    assert len(find_valid_paths(graph_1)) == 10\n",
    "\n",
    "    # Example 2\n",
    "    ex_2 = [\n",
    "        \"dc-end\\n\", \n",
    "        \"HN-start\\n\",\n",
    "        \"start-kj\\n\",\n",
    "        \"dc-start\\n\",\n",
    "        \"dc-HN\\n\",\n",
    "        \"LN-dc\\n\",\n",
    "        \"HN-end\\n\",\n",
    "        \"kj-sa\\n\",\n",
    "        \"kj-HN\\n\",\n",
    "        \"kj-dc\\n\"    \n",
    "    ]\n",
    "\n",
    "    edges_2 = [edge.strip().split(\"-\") for edge in ex_2]\n",
    "    graph_2 = build_graph(edges_2)\n",
    "    \n",
    "    assert len(find_valid_paths(graph_2)) == 19\n",
    "    \n",
    "    # Example 3\n",
    "\n",
    "    ex_3 = [\n",
    "        \"fs-end\\n\",\n",
    "        \"he-DX\\n\",\n",
    "        \"fs-he\\n\",\n",
    "        \"start-DX\\n\",\n",
    "        \"pj-DX\\n\",\n",
    "        \"end-zg\\n\",\n",
    "        \"zg-sl\\n\",\n",
    "        \"zg-pj\\n\",\n",
    "        \"pj-he\\n\",\n",
    "        \"RW-he\\n\",\n",
    "        \"fs-DX\\n\",\n",
    "        \"pj-RW\\n\",\n",
    "        \"zg-RW\\n\",\n",
    "        \"start-pj\\n\",\n",
    "        \"he-WI\\n\",\n",
    "        \"zg-he\\n\",\n",
    "        \"pj-fs\\n\",\n",
    "        \"start-RW\\n\"\n",
    "    ]\n",
    "    \n",
    "    edges_3 = [edge.strip().split(\"-\") for edge in ex_3]\n",
    "    graph_3 = build_graph(edges_3)\n",
    "    \n",
    "    assert len(find_valid_paths(graph_3)) == 226\n",
    "    \n",
    "    # Input data\n",
    "    with open('data/input.txt') as f:\n",
    "        edges = [edge.strip().split(\"-\") for edge in f.readlines()]\n",
    "\n",
    "    graph = build_graph(edges)\n",
    "    print(f\"Number of paths: {len(find_valid_paths(graph))}\")"
   ]
  },
  {
   "cell_type": "markdown",
   "metadata": {},
   "source": [
    "## 2. Puzzle 2"
   ]
  },
  {
   "cell_type": "markdown",
   "metadata": {},
   "source": [
    "### 2.1 My Solution"
   ]
  },
  {
   "cell_type": "code",
   "execution_count": null,
   "metadata": {},
   "outputs": [],
   "source": []
  },
  {
   "cell_type": "code",
   "execution_count": null,
   "metadata": {},
   "outputs": [],
   "source": []
  }
 ],
 "metadata": {
  "interpreter": {
   "hash": "c9008ba995d2c46f7a8a8b57a00346eea774fcdf0db2b71700344559b6c212be"
  },
  "kernelspec": {
   "display_name": "Python 3",
   "language": "python",
   "name": "python3"
  },
  "language_info": {
   "codemirror_mode": {
    "name": "ipython",
    "version": 3
   },
   "file_extension": ".py",
   "mimetype": "text/x-python",
   "name": "python",
   "nbconvert_exporter": "python",
   "pygments_lexer": "ipython3",
   "version": "3.8.8"
  }
 },
 "nbformat": 4,
 "nbformat_minor": 2
}
